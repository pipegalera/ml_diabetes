{
 "cells": [
  {
   "cell_type": "markdown",
   "metadata": {},
   "source": [
    "# Dinh et al. (2019)\n",
    "\n",
    "## A data-driven approach to predicting diabetes and cardiovascular disease with machine learning\n",
    "\n",
    "URL: https://bmcmedinformdecismak.biomedcentral.com/articles/10.1186/s12911-019-0918-5\n",
    "\n",
    "\n",
    "## Brief Summary\n",
    "\n",
    "Dinh et al. (2019) uses different ML models (logistic regression, support vector machines, random forest, and gradient boosting) on NHANES dataset to predict i) Diabetes and ii) Cardiovascular disease (\"CVD\").\n",
    "\n",
    "**Goal**: Identification mechanism for patients at risk of diabetes and cardiovascular diseases and key contributors to diabetes .\n",
    "\n",
    "**Results**:\n",
    "\n",
    "Best scores:\n",
    "\n",
    "- CVB prediction based on 131 NHANES variables achieved an AU-ROC score of 83.9% .\n",
    "- Diabetes prediction based on 123 NHANES variables achieved an AU-ROC score of 95.7% .\n",
    "- Pre-diabetic prediction based on 123 NHANES variables achieved an AU-ROC score of 84.4% .\n",
    "- Top 5 predictors in diabetes patients were 1) `waist size`, 2) `age`, 3) `self-reported weight`, 4) `leg length`, 5) `sodium intake`.\n",
    "\n",
    "\n",
    "\n",
    "This notebook replicates the results of the paper. The structure follows the following steps: \n",
    "\n",
    "1. NHANES data \n",
    "2. Pre-processing of the data\n",
    "3. Transformation of the data\n",
    "4. Train/Test Split \n",
    "5. CV 10-fold\n",
    "6. Training monitoring using MLflow\n",
    "7. Get metric results (AUC)\n",
    "\n",
    "\n",
    "The structure of the analysis emulates the Figure 1 from the paper: \n",
    "\n",
    "![Fig 1 from Dinh et al. 2019](https://raw.githubusercontent.com/pipegalera/ml_diabetes/main/images/dinh_2019_Fig1.png)\n"
   ]
  },
  {
   "cell_type": "code",
   "execution_count": null,
   "metadata": {
    "vscode": {
     "languageId": "r"
    }
   },
   "outputs": [],
   "source": [
    "library(arrow)\n",
    "library(dplyr)\n",
    "library(readxl)"
   ]
  },
  {
   "cell_type": "markdown",
   "metadata": {},
   "source": [
    "## 1. HNANES data\n",
    "\n",
    "URL: https://www.cdc.gov/nchs/index.htm\n",
    "\n",
    "\n",
    "## Target\n",
    "\n",
    "From the paper, the definitions are clear: \n",
    "\n",
    "![Dinh et al.(2019), Table 4](https://raw.githubusercontent.com/pipegalera/ml_diabetes/main/images/dinh_2019_Table4.png)\n",
    "\n",
    "- Case I: Diabetes.\n",
    "\n",
    "    - Glucose >= 126 mg/dL. OR;\n",
    "    - \"Yes\" to the question \"Have you ever been told by a doctor that you have diabetes?\"\n",
    "\n",
    "- Case II: Undiagnosed Diabetes. \n",
    "\n",
    "    - Glucose >= 126 mg/dL. AND;\n",
    "    - \"No\" to the question \"Have you ever been told by a doctor that you have diabetes?\"\n",
    "\n",
    "- Cardio: Cardiovascular disease.\n",
    "\n",
    "    - \"Yes\" to any of the the questions \"Have you ever been told by a doctor that you had congestive heart failure, coronary heart disease, a heart attack, or a stroke?\"\n",
    "\n",
    "The paper also defined and test for the target: \n",
    "\n",
    "- Pre diabetes\n",
    "\n",
    "    - Glucose 125 >= 100 mg/dL\n",
    "\n",
    "## Covariates\n",
    "\n",
    "The paper did not say what variables they use from NHANES, so I emailed the author in the correspondence section of the paper to help me clarify that. No answer from him.\n",
    "\n",
    "Given that NHANES have more than 3000 variables, I cannot just randomly take the variables I believe are important. \n",
    "\n",
    "For now, I will consider the variables taken from [Figure 5](https://raw.githubusercontent.com/pipegalera/ml_diabetes/main/images/dinh_2019_Fig5.png) and [Figure 6](https://raw.githubusercontent.com/pipegalera/ml_diabetes/main/images/dinh_2019_Fig6.png) of the paper. I compiled them by hand in an Excel file using NHANES search tool for variables:\n",
    "\n"
   ]
  },
  {
   "cell_type": "code",
   "execution_count": 11,
   "metadata": {
    "vscode": {
     "languageId": "r"
    }
   },
   "outputs": [
    {
     "name": "stdout",
     "output_type": "stream",
     "text": [
      "\u001b[90m# A tibble: 62 x 2\u001b[39m\n",
      "   `Variable Name`                           `NHANES Name`\n",
      "   \u001b[3m\u001b[90m<chr>\u001b[39m\u001b[23m                                     \u001b[3m\u001b[90m<chr>\u001b[39m\u001b[23m        \n",
      "\u001b[90m 1\u001b[39m \u001b[90m\"\u001b[39mAge\u001b[90m\"\u001b[39m                                     RIDAGEYR     \n",
      "\u001b[90m 2\u001b[39m \u001b[90m\"\u001b[39mAlcohol consumption\u001b[90m\"\u001b[39m                     ALQ130       \n",
      "\u001b[90m 3\u001b[39m \u001b[90m\"\u001b[39mAlcohol intake\u001b[90m\"\u001b[39m                          DRXTALCO     \n",
      "\u001b[90m 4\u001b[39m \u001b[90m\"\u001b[39mAlcohol intake, First Day\u001b[90m\"\u001b[39m               DR1TALCO     \n",
      "\u001b[90m 5\u001b[39m \u001b[90m\"\u001b[39mAlcohol intake, Second Day\u001b[90m\"\u001b[39m              DR2TALCO     \n",
      "\u001b[90m 6\u001b[39m \u001b[90m\"\u001b[39mArm circumference\u001b[90m\"\u001b[39m                       BMXARMC      \n",
      "\u001b[90m 7\u001b[39m \u001b[90m\"\u001b[39mArm length\u001b[90m\"\u001b[39m                              BMXARML      \n",
      "\u001b[90m 8\u001b[39m \u001b[90m\"\u001b[39mBlood osmolality\u001b[90m\"\u001b[39m                        LBXSOSSI     \n",
      "\u001b[90m 9\u001b[39m \u001b[90m\"\u001b[39mBlood relatives have diabetes\u001b[90m\"\u001b[39m           MCQ250A      \n",
      "\u001b[90m10\u001b[39m \u001b[90m\"\u001b[39mBlood urea nitrogen\u001b[90m\"\u001b[39m                     LBDSBUSI     \n",
      "\u001b[90m11\u001b[39m \u001b[90m\"\u001b[39mBMI\u001b[90m\"\u001b[39m                                     BMXBMI       \n",
      "\u001b[90m12\u001b[39m \u001b[90m\"\u001b[39mCaffeine intake\u001b[90m\"\u001b[39m                         DRXTCAFF     \n",
      "\u001b[90m13\u001b[39m \u001b[90m\"\u001b[39mCaffeine intake, First Day\u001b[90m\"\u001b[39m              DR1TCAFF     \n",
      "\u001b[90m14\u001b[39m \u001b[90m\"\u001b[39mCaffeine intake, Second Day\u001b[90m\"\u001b[39m             DR2TCAFF     \n",
      "\u001b[90m15\u001b[39m \u001b[90m\"\u001b[39mCalcium intake, First Day\u001b[90m\"\u001b[39m               DR1TCALC     \n",
      "\u001b[90m16\u001b[39m \u001b[90m\"\u001b[39mCalcium intake, Second Day\u001b[90m\"\u001b[39m              DR2TCALC     \n",
      "\u001b[90m17\u001b[39m \u001b[90m\"\u001b[39mCalcium intake\u001b[90m\"\u001b[39m                          DRXTCALC     \n",
      "\u001b[90m18\u001b[39m \u001b[90m\"\u001b[39mCarbohydrate intake, First Day\u001b[90m\"\u001b[39m          DR1TCARB     \n",
      "\u001b[90m19\u001b[39m \u001b[90m\"\u001b[39mCarbohydrate intake, Second Day\u001b[90m\"\u001b[39m         DR2TCARB     \n",
      "\u001b[90m20\u001b[39m \u001b[90m\"\u001b[39mCarbohydrate intake\u001b[90m\"\u001b[39m                     DRXTCARB     \n",
      "\u001b[90m21\u001b[39m \u001b[90m\"\u001b[39mChloride\u001b[90m\"\u001b[39m                                LB2SCLSI     \n",
      "\u001b[90m22\u001b[39m \u001b[90m\"\u001b[39mClose relative had diabetes\u001b[90m\"\u001b[39m             MCQ300c      \n",
      "\u001b[90m23\u001b[39m \u001b[90m\"\u001b[39mClose relative had diabetes\u001b[90m\"\u001b[39m             MCQ300C      \n",
      "\u001b[90m24\u001b[39m \u001b[90m\"\u001b[39mDiastolic blood pressure First Reading\u001b[90m\"\u001b[39m  BPXDI1       \n",
      "\u001b[90m25\u001b[39m \u001b[90m\"\u001b[39mDiastolic blood pressure Fourth Reading\u001b[90m\"\u001b[39m BPXDI4       \n",
      "\u001b[90m26\u001b[39m \u001b[90m\"\u001b[39mDiastolic blood pressure Second Reading\u001b[90m\"\u001b[39m BPXDI2       \n",
      "\u001b[90m27\u001b[39m \u001b[90m\"\u001b[39mDiastolic blood pressure Third Reading\u001b[90m\"\u001b[39m  BPXDI3       \n",
      "\u001b[90m28\u001b[39m \u001b[90m\"\u001b[39mEthnicity\u001b[90m\"\u001b[39m                               RIDRETH1     \n",
      "\u001b[90m29\u001b[39m \u001b[90m\"\u001b[39mFiber intake, First Day\u001b[90m\"\u001b[39m                 DR1TFIBE     \n",
      "\u001b[90m30\u001b[39m \u001b[90m\"\u001b[39mFiber intake, Second Day\u001b[90m\"\u001b[39m                DR2TFIBE     \n",
      "\u001b[90m31\u001b[39m \u001b[90m\"\u001b[39mFiber intake\u001b[90m\"\u001b[39m                            DRXTFIBE     \n",
      "\u001b[90m32\u001b[39m \u001b[90m\"\u001b[39mGamma glutamyl transferase\u001b[90m\"\u001b[39m              LBXSGTSI     \n",
      "\u001b[90m33\u001b[39m \u001b[90m\"\u001b[39mGeneral health condition\u001b[90m\"\u001b[39m                HSD010       \n",
      "\u001b[90m34\u001b[39m \u001b[90m\"\u001b[39mGeneral health condition\u001b[90m\"\u001b[39m                HUQ010       \n",
      "\u001b[90m35\u001b[39m \u001b[90m\"\u001b[39mHDL-cholesterol\u001b[90m\"\u001b[39m                         LBDHDLSI     \n",
      "\u001b[90m36\u001b[39m \u001b[90m\"\u001b[39mHDL-cholesterol\u001b[90m\"\u001b[39m                         LBDHDDSI     \n",
      "\u001b[90m37\u001b[39m \u001b[90m\"\u001b[39mHeight\u001b[90m\"\u001b[39m                                  BMXHT        \n",
      "\u001b[90m38\u001b[39m \u001b[90m\"\u001b[39mHigh cholesterol\u001b[90m\"\u001b[39m                        BPQ080       \n",
      "\u001b[90m39\u001b[39m \u001b[90m\"\u001b[39mHigh cholesterol\u001b[90m\"\u001b[39m                        BPQ080       \n",
      "\u001b[90m40\u001b[39m \u001b[90m\"\u001b[39mHousehold income\u001b[90m\"\u001b[39m                        INDHHIN2     \n",
      "\u001b[90m41\u001b[39m \u001b[90m\"\u001b[39mKcal intake\u001b[90m\"\u001b[39m                             DRXTKCAL     \n",
      "\u001b[90m42\u001b[39m \u001b[90m\"\u001b[39mKcal intake, First Day\u001b[90m\"\u001b[39m                  DR1TKCAL     \n",
      "\u001b[90m43\u001b[39m \u001b[90m\"\u001b[39mKcal intake, Second Day\u001b[90m\"\u001b[39m                 DR2TKCAL     \n",
      "\u001b[90m44\u001b[39m \u001b[90m\"\u001b[39mLDL-cholesterol\u001b[90m\"\u001b[39m                         LBDLDLSI     \n",
      "\u001b[90m45\u001b[39m \u001b[90m\"\u001b[39mLeg length\u001b[90m\"\u001b[39m                              BMXLEG       \n",
      "\u001b[90m46\u001b[39m \u001b[90m\"\u001b[39mLymphocyte number\u001b[90m\"\u001b[39m                       LBDLYMNO     \n",
      "\u001b[90m47\u001b[39m \u001b[90m\"\u001b[39mMean cell volume\u001b[90m\"\u001b[39m                        LBXMCVSI     \n",
      "\u001b[90m48\u001b[39m \u001b[90m\"\u001b[39mPulse\u001b[90m\"\u001b[39m                                   BPXPLS       \n",
      "\u001b[90m49\u001b[39m \u001b[90m\"\u001b[39mSelf-reported greatest weight\u001b[90m\"\u001b[39m           WHD140       \n",
      "\u001b[90m50\u001b[39m \u001b[90m\"\u001b[39mSodium intake, First Day\u001b[90m\"\u001b[39m                DR1TSODI     \n",
      "\u001b[90m51\u001b[39m \u001b[90m\"\u001b[39mSodium intake, Second Day\u001b[90m\"\u001b[39m               DR2TSODI     \n",
      "\u001b[90m52\u001b[39m \u001b[90m\"\u001b[39mSodium intake\u001b[90m\"\u001b[39m                           DRDTSODI     \n",
      "\u001b[90m53\u001b[39m \u001b[90m\"\u001b[39mSystolic blood pressure, First Reading\u001b[90m\"\u001b[39m  BPXSY1       \n",
      "\u001b[90m54\u001b[39m \u001b[90m\"\u001b[39mSystolic blood pressure, Fourth Reading\u001b[90m\"\u001b[39m BPXSY4       \n",
      "\u001b[90m55\u001b[39m \u001b[90m\"\u001b[39mSystolic blood pressure, Second Reading\u001b[90m\"\u001b[39m BPXSY2       \n",
      "\u001b[90m56\u001b[39m \u001b[90m\"\u001b[39mSystolic blood pressure, Third Reading\u001b[90m\"\u001b[39m  BPXSY3       \n",
      "\u001b[90m57\u001b[39m \u001b[90m\"\u001b[39mTotal cholesterol\u001b[90m\"\u001b[39m                       LBDTCSI      \n",
      "\u001b[90m58\u001b[39m \u001b[90m\"\u001b[39mTriglyceride\u001b[90m\"\u001b[39m                            LBDSTRSI     \n",
      "\u001b[90m59\u001b[39m \u001b[90m\"\u001b[39mWaist circumference\u001b[90m\"\u001b[39m                     BMXWAIST     \n",
      "\u001b[90m60\u001b[39m \u001b[90m\"\u001b[39mWeight\u001b[90m\"\u001b[39m                                  BMXWT        \n",
      "\u001b[90m61\u001b[39m \u001b[90m\"\u001b[39mWhite blood cell count\u001b[90m\"\u001b[39m                  LBXWBCSI     \n",
      "\u001b[90m62\u001b[39m \u001b[90m\"\u001b[39m\\u00a0Alanine aminotransferase ALT\u001b[90m\"\u001b[39m      LBXSASSI     \n"
     ]
    }
   ],
   "source": [
    "DATA_PATH <- \"/Users/pipegalera/dev/ml_diabetes/data/NHANES/raw_data/\"\n",
    "dinh_2019_vars <- read_excel(paste0(DATA_PATH, \"dinh_2019_variables_doc.xlsx\"))\n",
    "\n",
    "print(dinh_2019_vars[, c(\"Variable Name\", \"NHANES Name\")], n=62)\n"
   ]
  },
  {
   "cell_type": "markdown",
   "metadata": {
    "vscode": {
     "languageId": "r"
    }
   },
   "source": [
    "The data was downloaded automatically, all the files converted from SAS to parquet, the files stacked and merged based on the individual index (\"SEQN\"). For more details please check the `create_data_master.ipynb` notebook. Plese notice that no transformation are made to the covariates, only stacked them together. "
   ]
  },
  {
   "cell_type": "code",
   "execution_count": 17,
   "metadata": {
    "vscode": {
     "languageId": "r"
    }
   },
   "outputs": [
    {
     "data": {
      "text/html": [
       "<table class=\"dataframe\">\n",
       "<caption>A tibble: 6 x 63</caption>\n",
       "<thead>\n",
       "\t<tr><th scope=col>SEQN</th><th scope=col>YEAR</th><th scope=col>RIDAGEYR</th><th scope=col>ALQ130</th><th scope=col>DRXTALCO</th><th scope=col>DR1TALCO</th><th scope=col>DR2TALCO</th><th scope=col>BMXARMC</th><th scope=col>BMXARML</th><th scope=col>LBXSOSSI</th><th scope=col>...</th><th scope=col>BPXSY1</th><th scope=col>BPXSY4</th><th scope=col>BPXSY2</th><th scope=col>BPXSY3</th><th scope=col>LBDTCSI</th><th scope=col>LBDSTRSI</th><th scope=col>BMXWAIST</th><th scope=col>BMXWT</th><th scope=col>LBXWBCSI</th><th scope=col>LBXSASSI</th></tr>\n",
       "\t<tr><th scope=col>&lt;dbl&gt;</th><th scope=col>&lt;chr&gt;</th><th scope=col>&lt;dbl&gt;</th><th scope=col>&lt;dbl&gt;</th><th scope=col>&lt;dbl&gt;</th><th scope=col>&lt;dbl&gt;</th><th scope=col>&lt;dbl&gt;</th><th scope=col>&lt;dbl&gt;</th><th scope=col>&lt;dbl&gt;</th><th scope=col>&lt;dbl&gt;</th><th scope=col>...</th><th scope=col>&lt;dbl&gt;</th><th scope=col>&lt;dbl&gt;</th><th scope=col>&lt;dbl&gt;</th><th scope=col>&lt;dbl&gt;</th><th scope=col>&lt;dbl&gt;</th><th scope=col>&lt;dbl&gt;</th><th scope=col>&lt;dbl&gt;</th><th scope=col>&lt;dbl&gt;</th><th scope=col>&lt;dbl&gt;</th><th scope=col>&lt;dbl&gt;</th></tr>\n",
       "</thead>\n",
       "<tbody>\n",
       "\t<tr><td>1</td><td>1999-2000</td><td> 2</td><td>NA</td><td>5.397605e-79</td><td>NA</td><td>NA</td><td>15.2</td><td>18.6</td><td> NA</td><td>...</td><td> NA</td><td>NA</td><td> NA</td><td> NA</td><td>  NA</td><td>   NA</td><td>45.7</td><td>12.5</td><td> NA</td><td>NA</td></tr>\n",
       "\t<tr><td>2</td><td>1999-2000</td><td>77</td><td> 1</td><td>5.397605e-79</td><td>NA</td><td>NA</td><td>29.8</td><td>38.2</td><td>288</td><td>...</td><td>106</td><td>NA</td><td> 98</td><td> 98</td><td>5.56</td><td>1.298</td><td>98.0</td><td>75.4</td><td>7.6</td><td>19</td></tr>\n",
       "\t<tr><td>3</td><td>1999-2000</td><td>10</td><td>NA</td><td>5.397605e-79</td><td>NA</td><td>NA</td><td>19.7</td><td>25.5</td><td> NA</td><td>...</td><td>110</td><td>NA</td><td>104</td><td>112</td><td>3.34</td><td>   NA</td><td>64.7</td><td>32.9</td><td>7.5</td><td>NA</td></tr>\n",
       "\t<tr><td>4</td><td>1999-2000</td><td> 1</td><td>NA</td><td>5.397605e-79</td><td>NA</td><td>NA</td><td>16.4</td><td>20.4</td><td> NA</td><td>...</td><td> NA</td><td>NA</td><td> NA</td><td> NA</td><td>  NA</td><td>   NA</td><td>  NA</td><td>13.3</td><td>8.8</td><td>NA</td></tr>\n",
       "\t<tr><td>5</td><td>1999-2000</td><td>49</td><td> 3</td><td>3.456000e+01</td><td>NA</td><td>NA</td><td>35.8</td><td>39.7</td><td>276</td><td>...</td><td>122</td><td>NA</td><td>122</td><td>122</td><td>7.21</td><td>3.850</td><td>99.9</td><td>92.5</td><td>5.9</td><td>22</td></tr>\n",
       "\t<tr><td>6</td><td>1999-2000</td><td>19</td><td>NA</td><td>5.397605e-79</td><td>NA</td><td>NA</td><td>26.0</td><td>34.5</td><td>277</td><td>...</td><td>116</td><td>NA</td><td>116</td><td>112</td><td>3.96</td><td>0.553</td><td>81.6</td><td>59.2</td><td>9.6</td><td>20</td></tr>\n",
       "</tbody>\n",
       "</table>\n"
      ],
      "text/latex": [
       "A tibble: 6 x 63\n",
       "\\begin{tabular}{lllllllllllllllllllll}\n",
       " SEQN & YEAR & RIDAGEYR & ALQ130 & DRXTALCO & DR1TALCO & DR2TALCO & BMXARMC & BMXARML & LBXSOSSI & ... & BPXSY1 & BPXSY4 & BPXSY2 & BPXSY3 & LBDTCSI & LBDSTRSI & BMXWAIST & BMXWT & LBXWBCSI & LBXSASSI\\\\\n",
       " <dbl> & <chr> & <dbl> & <dbl> & <dbl> & <dbl> & <dbl> & <dbl> & <dbl> & <dbl> & ... & <dbl> & <dbl> & <dbl> & <dbl> & <dbl> & <dbl> & <dbl> & <dbl> & <dbl> & <dbl>\\\\\n",
       "\\hline\n",
       "\t 1 & 1999-2000 &  2 & NA & 5.397605e-79 & NA & NA & 15.2 & 18.6 &  NA & ... &  NA & NA &  NA &  NA &   NA &    NA & 45.7 & 12.5 &  NA & NA\\\\\n",
       "\t 2 & 1999-2000 & 77 &  1 & 5.397605e-79 & NA & NA & 29.8 & 38.2 & 288 & ... & 106 & NA &  98 &  98 & 5.56 & 1.298 & 98.0 & 75.4 & 7.6 & 19\\\\\n",
       "\t 3 & 1999-2000 & 10 & NA & 5.397605e-79 & NA & NA & 19.7 & 25.5 &  NA & ... & 110 & NA & 104 & 112 & 3.34 &    NA & 64.7 & 32.9 & 7.5 & NA\\\\\n",
       "\t 4 & 1999-2000 &  1 & NA & 5.397605e-79 & NA & NA & 16.4 & 20.4 &  NA & ... &  NA & NA &  NA &  NA &   NA &    NA &   NA & 13.3 & 8.8 & NA\\\\\n",
       "\t 5 & 1999-2000 & 49 &  3 & 3.456000e+01 & NA & NA & 35.8 & 39.7 & 276 & ... & 122 & NA & 122 & 122 & 7.21 & 3.850 & 99.9 & 92.5 & 5.9 & 22\\\\\n",
       "\t 6 & 1999-2000 & 19 & NA & 5.397605e-79 & NA & NA & 26.0 & 34.5 & 277 & ... & 116 & NA & 116 & 112 & 3.96 & 0.553 & 81.6 & 59.2 & 9.6 & 20\\\\\n",
       "\\end{tabular}\n"
      ],
      "text/markdown": [
       "\n",
       "A tibble: 6 x 63\n",
       "\n",
       "| SEQN &lt;dbl&gt; | YEAR &lt;chr&gt; | RIDAGEYR &lt;dbl&gt; | ALQ130 &lt;dbl&gt; | DRXTALCO &lt;dbl&gt; | DR1TALCO &lt;dbl&gt; | DR2TALCO &lt;dbl&gt; | BMXARMC &lt;dbl&gt; | BMXARML &lt;dbl&gt; | LBXSOSSI &lt;dbl&gt; | ... ... | BPXSY1 &lt;dbl&gt; | BPXSY4 &lt;dbl&gt; | BPXSY2 &lt;dbl&gt; | BPXSY3 &lt;dbl&gt; | LBDTCSI &lt;dbl&gt; | LBDSTRSI &lt;dbl&gt; | BMXWAIST &lt;dbl&gt; | BMXWT &lt;dbl&gt; | LBXWBCSI &lt;dbl&gt; | LBXSASSI &lt;dbl&gt; |\n",
       "|---|---|---|---|---|---|---|---|---|---|---|---|---|---|---|---|---|---|---|---|---|\n",
       "| 1 | 1999-2000 |  2 | NA | 5.397605e-79 | NA | NA | 15.2 | 18.6 |  NA | ... |  NA | NA |  NA |  NA |   NA |    NA | 45.7 | 12.5 |  NA | NA |\n",
       "| 2 | 1999-2000 | 77 |  1 | 5.397605e-79 | NA | NA | 29.8 | 38.2 | 288 | ... | 106 | NA |  98 |  98 | 5.56 | 1.298 | 98.0 | 75.4 | 7.6 | 19 |\n",
       "| 3 | 1999-2000 | 10 | NA | 5.397605e-79 | NA | NA | 19.7 | 25.5 |  NA | ... | 110 | NA | 104 | 112 | 3.34 |    NA | 64.7 | 32.9 | 7.5 | NA |\n",
       "| 4 | 1999-2000 |  1 | NA | 5.397605e-79 | NA | NA | 16.4 | 20.4 |  NA | ... |  NA | NA |  NA |  NA |   NA |    NA |   NA | 13.3 | 8.8 | NA |\n",
       "| 5 | 1999-2000 | 49 |  3 | 3.456000e+01 | NA | NA | 35.8 | 39.7 | 276 | ... | 122 | NA | 122 | 122 | 7.21 | 3.850 | 99.9 | 92.5 | 5.9 | 22 |\n",
       "| 6 | 1999-2000 | 19 | NA | 5.397605e-79 | NA | NA | 26.0 | 34.5 | 277 | ... | 116 | NA | 116 | 112 | 3.96 | 0.553 | 81.6 | 59.2 | 9.6 | 20 |\n",
       "\n"
      ],
      "text/plain": [
       "  SEQN YEAR      RIDAGEYR ALQ130 DRXTALCO     DR1TALCO DR2TALCO BMXARMC BMXARML\n",
       "1 1    1999-2000  2       NA     5.397605e-79 NA       NA       15.2    18.6   \n",
       "2 2    1999-2000 77        1     5.397605e-79 NA       NA       29.8    38.2   \n",
       "3 3    1999-2000 10       NA     5.397605e-79 NA       NA       19.7    25.5   \n",
       "4 4    1999-2000  1       NA     5.397605e-79 NA       NA       16.4    20.4   \n",
       "5 5    1999-2000 49        3     3.456000e+01 NA       NA       35.8    39.7   \n",
       "6 6    1999-2000 19       NA     5.397605e-79 NA       NA       26.0    34.5   \n",
       "  LBXSOSSI ... BPXSY1 BPXSY4 BPXSY2 BPXSY3 LBDTCSI LBDSTRSI BMXWAIST BMXWT\n",
       "1  NA      ...  NA    NA      NA     NA      NA       NA    45.7     12.5 \n",
       "2 288      ... 106    NA      98     98    5.56    1.298    98.0     75.4 \n",
       "3  NA      ... 110    NA     104    112    3.34       NA    64.7     32.9 \n",
       "4  NA      ...  NA    NA      NA     NA      NA       NA      NA     13.3 \n",
       "5 276      ... 122    NA     122    122    7.21    3.850    99.9     92.5 \n",
       "6 277      ... 116    NA     116    112    3.96    0.553    81.6     59.2 \n",
       "  LBXWBCSI LBXSASSI\n",
       "1  NA      NA      \n",
       "2 7.6      19      \n",
       "3 7.5      NA      \n",
       "4 8.8      NA      \n",
       "5 5.9      22      \n",
       "6 9.6      20      "
      ]
     },
     "metadata": {},
     "output_type": "display_data"
    }
   ],
   "source": [
    "df <- read_parquet(paste0(DATA_PATH, \"dinh_raw_data.parquet\"))\n",
    "head(df)"
   ]
  },
  {
   "cell_type": "code",
   "execution_count": 18,
   "metadata": {
    "vscode": {
     "languageId": "r"
    }
   },
   "outputs": [
    {
     "data": {
      "text/html": [
       "<table class=\"dataframe\">\n",
       "<caption>A tibble: 6 x 63</caption>\n",
       "<thead>\n",
       "\t<tr><th scope=col>SEQN</th><th scope=col>YEAR</th><th scope=col>RIDAGEYR</th><th scope=col>ALQ130</th><th scope=col>DRXTALCO</th><th scope=col>DR1TALCO</th><th scope=col>DR2TALCO</th><th scope=col>BMXARMC</th><th scope=col>BMXARML</th><th scope=col>LBXSOSSI</th><th scope=col>...</th><th scope=col>BPXSY1</th><th scope=col>BPXSY4</th><th scope=col>BPXSY2</th><th scope=col>BPXSY3</th><th scope=col>LBDTCSI</th><th scope=col>LBDSTRSI</th><th scope=col>BMXWAIST</th><th scope=col>BMXWT</th><th scope=col>LBXWBCSI</th><th scope=col>LBXSASSI</th></tr>\n",
       "\t<tr><th scope=col>&lt;dbl&gt;</th><th scope=col>&lt;chr&gt;</th><th scope=col>&lt;dbl&gt;</th><th scope=col>&lt;dbl&gt;</th><th scope=col>&lt;dbl&gt;</th><th scope=col>&lt;dbl&gt;</th><th scope=col>&lt;dbl&gt;</th><th scope=col>&lt;dbl&gt;</th><th scope=col>&lt;dbl&gt;</th><th scope=col>&lt;dbl&gt;</th><th scope=col>...</th><th scope=col>&lt;dbl&gt;</th><th scope=col>&lt;dbl&gt;</th><th scope=col>&lt;dbl&gt;</th><th scope=col>&lt;dbl&gt;</th><th scope=col>&lt;dbl&gt;</th><th scope=col>&lt;dbl&gt;</th><th scope=col>&lt;dbl&gt;</th><th scope=col>&lt;dbl&gt;</th><th scope=col>&lt;dbl&gt;</th><th scope=col>&lt;dbl&gt;</th></tr>\n",
       "</thead>\n",
       "<tbody>\n",
       "\t<tr><td>102951</td><td>2017-2018</td><td> 4</td><td>NA</td><td>NA</td><td>5.397605e-79</td><td>5.397605e-79</td><td>20.9</td><td>24.0</td><td> NA</td><td>...</td><td> NA</td><td>NA</td><td> NA</td><td> NA</td><td>  NA</td><td>   NA</td><td> 62.2</td><td> 23.8</td><td> 8.5</td><td>NA</td></tr>\n",
       "\t<tr><td>102952</td><td>2017-2018</td><td>70</td><td>NA</td><td>NA</td><td>5.397605e-79</td><td>5.397605e-79</td><td>25.1</td><td>32.6</td><td>288</td><td>...</td><td>136</td><td>NA</td><td>142</td><td>140</td><td>3.08</td><td>1.106</td><td> 82.2</td><td> 49.0</td><td> 5.1</td><td>27</td></tr>\n",
       "\t<tr><td>102953</td><td>2017-2018</td><td>42</td><td>12</td><td>NA</td><td>5.397605e-79</td><td>          NA</td><td>40.6</td><td>36.6</td><td>289</td><td>...</td><td>124</td><td>NA</td><td>122</td><td>116</td><td>4.71</td><td>1.287</td><td>114.8</td><td> 97.4</td><td> 8.3</td><td>29</td></tr>\n",
       "\t<tr><td>102954</td><td>2017-2018</td><td>41</td><td>NA</td><td>NA</td><td>5.397605e-79</td><td>5.397605e-79</td><td>26.8</td><td>35.2</td><td>272</td><td>...</td><td>116</td><td>NA</td><td>118</td><td>114</td><td>4.45</td><td>0.723</td><td> 86.4</td><td> 69.1</td><td> 5.1</td><td>15</td></tr>\n",
       "\t<tr><td>102955</td><td>2017-2018</td><td>14</td><td>NA</td><td>NA</td><td>5.397605e-79</td><td>5.397605e-79</td><td>44.5</td><td>35.0</td><td>274</td><td>...</td><td>114</td><td>NA</td><td>114</td><td>114</td><td>3.88</td><td>1.005</td><td>113.5</td><td>111.9</td><td>11.4</td><td>16</td></tr>\n",
       "\t<tr><td>102956</td><td>2017-2018</td><td>38</td><td> 2</td><td>NA</td><td>5.397605e-79</td><td>5.397605e-79</td><td>40.0</td><td>38.0</td><td>277</td><td>...</td><td>150</td><td>NA</td><td>146</td><td>148</td><td>4.22</td><td>3.263</td><td>122.0</td><td>111.5</td><td> 9.0</td><td>27</td></tr>\n",
       "</tbody>\n",
       "</table>\n"
      ],
      "text/latex": [
       "A tibble: 6 x 63\n",
       "\\begin{tabular}{lllllllllllllllllllll}\n",
       " SEQN & YEAR & RIDAGEYR & ALQ130 & DRXTALCO & DR1TALCO & DR2TALCO & BMXARMC & BMXARML & LBXSOSSI & ... & BPXSY1 & BPXSY4 & BPXSY2 & BPXSY3 & LBDTCSI & LBDSTRSI & BMXWAIST & BMXWT & LBXWBCSI & LBXSASSI\\\\\n",
       " <dbl> & <chr> & <dbl> & <dbl> & <dbl> & <dbl> & <dbl> & <dbl> & <dbl> & <dbl> & ... & <dbl> & <dbl> & <dbl> & <dbl> & <dbl> & <dbl> & <dbl> & <dbl> & <dbl> & <dbl>\\\\\n",
       "\\hline\n",
       "\t 102951 & 2017-2018 &  4 & NA & NA & 5.397605e-79 & 5.397605e-79 & 20.9 & 24.0 &  NA & ... &  NA & NA &  NA &  NA &   NA &    NA &  62.2 &  23.8 &  8.5 & NA\\\\\n",
       "\t 102952 & 2017-2018 & 70 & NA & NA & 5.397605e-79 & 5.397605e-79 & 25.1 & 32.6 & 288 & ... & 136 & NA & 142 & 140 & 3.08 & 1.106 &  82.2 &  49.0 &  5.1 & 27\\\\\n",
       "\t 102953 & 2017-2018 & 42 & 12 & NA & 5.397605e-79 &           NA & 40.6 & 36.6 & 289 & ... & 124 & NA & 122 & 116 & 4.71 & 1.287 & 114.8 &  97.4 &  8.3 & 29\\\\\n",
       "\t 102954 & 2017-2018 & 41 & NA & NA & 5.397605e-79 & 5.397605e-79 & 26.8 & 35.2 & 272 & ... & 116 & NA & 118 & 114 & 4.45 & 0.723 &  86.4 &  69.1 &  5.1 & 15\\\\\n",
       "\t 102955 & 2017-2018 & 14 & NA & NA & 5.397605e-79 & 5.397605e-79 & 44.5 & 35.0 & 274 & ... & 114 & NA & 114 & 114 & 3.88 & 1.005 & 113.5 & 111.9 & 11.4 & 16\\\\\n",
       "\t 102956 & 2017-2018 & 38 &  2 & NA & 5.397605e-79 & 5.397605e-79 & 40.0 & 38.0 & 277 & ... & 150 & NA & 146 & 148 & 4.22 & 3.263 & 122.0 & 111.5 &  9.0 & 27\\\\\n",
       "\\end{tabular}\n"
      ],
      "text/markdown": [
       "\n",
       "A tibble: 6 x 63\n",
       "\n",
       "| SEQN &lt;dbl&gt; | YEAR &lt;chr&gt; | RIDAGEYR &lt;dbl&gt; | ALQ130 &lt;dbl&gt; | DRXTALCO &lt;dbl&gt; | DR1TALCO &lt;dbl&gt; | DR2TALCO &lt;dbl&gt; | BMXARMC &lt;dbl&gt; | BMXARML &lt;dbl&gt; | LBXSOSSI &lt;dbl&gt; | ... ... | BPXSY1 &lt;dbl&gt; | BPXSY4 &lt;dbl&gt; | BPXSY2 &lt;dbl&gt; | BPXSY3 &lt;dbl&gt; | LBDTCSI &lt;dbl&gt; | LBDSTRSI &lt;dbl&gt; | BMXWAIST &lt;dbl&gt; | BMXWT &lt;dbl&gt; | LBXWBCSI &lt;dbl&gt; | LBXSASSI &lt;dbl&gt; |\n",
       "|---|---|---|---|---|---|---|---|---|---|---|---|---|---|---|---|---|---|---|---|---|\n",
       "| 102951 | 2017-2018 |  4 | NA | NA | 5.397605e-79 | 5.397605e-79 | 20.9 | 24.0 |  NA | ... |  NA | NA |  NA |  NA |   NA |    NA |  62.2 |  23.8 |  8.5 | NA |\n",
       "| 102952 | 2017-2018 | 70 | NA | NA | 5.397605e-79 | 5.397605e-79 | 25.1 | 32.6 | 288 | ... | 136 | NA | 142 | 140 | 3.08 | 1.106 |  82.2 |  49.0 |  5.1 | 27 |\n",
       "| 102953 | 2017-2018 | 42 | 12 | NA | 5.397605e-79 |           NA | 40.6 | 36.6 | 289 | ... | 124 | NA | 122 | 116 | 4.71 | 1.287 | 114.8 |  97.4 |  8.3 | 29 |\n",
       "| 102954 | 2017-2018 | 41 | NA | NA | 5.397605e-79 | 5.397605e-79 | 26.8 | 35.2 | 272 | ... | 116 | NA | 118 | 114 | 4.45 | 0.723 |  86.4 |  69.1 |  5.1 | 15 |\n",
       "| 102955 | 2017-2018 | 14 | NA | NA | 5.397605e-79 | 5.397605e-79 | 44.5 | 35.0 | 274 | ... | 114 | NA | 114 | 114 | 3.88 | 1.005 | 113.5 | 111.9 | 11.4 | 16 |\n",
       "| 102956 | 2017-2018 | 38 |  2 | NA | 5.397605e-79 | 5.397605e-79 | 40.0 | 38.0 | 277 | ... | 150 | NA | 146 | 148 | 4.22 | 3.263 | 122.0 | 111.5 |  9.0 | 27 |\n",
       "\n"
      ],
      "text/plain": [
       "  SEQN   YEAR      RIDAGEYR ALQ130 DRXTALCO DR1TALCO     DR2TALCO     BMXARMC\n",
       "1 102951 2017-2018  4       NA     NA       5.397605e-79 5.397605e-79 20.9   \n",
       "2 102952 2017-2018 70       NA     NA       5.397605e-79 5.397605e-79 25.1   \n",
       "3 102953 2017-2018 42       12     NA       5.397605e-79           NA 40.6   \n",
       "4 102954 2017-2018 41       NA     NA       5.397605e-79 5.397605e-79 26.8   \n",
       "5 102955 2017-2018 14       NA     NA       5.397605e-79 5.397605e-79 44.5   \n",
       "6 102956 2017-2018 38        2     NA       5.397605e-79 5.397605e-79 40.0   \n",
       "  BMXARML LBXSOSSI ... BPXSY1 BPXSY4 BPXSY2 BPXSY3 LBDTCSI LBDSTRSI BMXWAIST\n",
       "1 24.0     NA      ...  NA    NA      NA     NA      NA       NA     62.2   \n",
       "2 32.6    288      ... 136    NA     142    140    3.08    1.106     82.2   \n",
       "3 36.6    289      ... 124    NA     122    116    4.71    1.287    114.8   \n",
       "4 35.2    272      ... 116    NA     118    114    4.45    0.723     86.4   \n",
       "5 35.0    274      ... 114    NA     114    114    3.88    1.005    113.5   \n",
       "6 38.0    277      ... 150    NA     146    148    4.22    3.263    122.0   \n",
       "  BMXWT LBXWBCSI LBXSASSI\n",
       "1  23.8  8.5     NA      \n",
       "2  49.0  5.1     27      \n",
       "3  97.4  8.3     29      \n",
       "4  69.1  5.1     15      \n",
       "5 111.9 11.4     16      \n",
       "6 111.5  9.0     27      "
      ]
     },
     "metadata": {},
     "output_type": "display_data"
    }
   ],
   "source": [
    "tail(df)"
   ]
  },
  {
   "cell_type": "markdown",
   "metadata": {
    "vscode": {
     "languageId": "r"
    }
   },
   "source": [
    "# 2. Preprocess the data \n",
    "\n",
    "The first step is filter the data:\n",
    "\n",
    "\n",
    "> In our study, all datasets were limited to non-pregnant subjects and adults of at least twenty years of age.\n",
    "\n",
    "> This lead to a further reduction in number of available variables to 123 for the 1999-2014 cycle.\n"
   ]
  },
  {
   "cell_type": "code",
   "execution_count": 43,
   "metadata": {
    "vscode": {
     "languageId": "r"
    }
   },
   "outputs": [],
   "source": [
    "df$SEQN <- as.integer(df$SEQN)\n",
    "df$RIDAGEYR <- as.integer(df$RIDAGEYR)\n",
    "df$RIAGENDR <- as.integer(df$RIAGENDR)\n"
   ]
  },
  {
   "cell_type": "code",
   "execution_count": 41,
   "metadata": {
    "vscode": {
     "languageId": "r"
    }
   },
   "outputs": [],
   "source": [
    "filtered_df <- df |> \n",
    "  filter(RHD143 == 2) |>  # Are you pregnant now? = \"No\"\n",
    "  filter(RIDAGEYR >= 20) |>\n",
    "  filter(YEAR != \"2015-2016/\")"
   ]
  },
  {
   "cell_type": "markdown",
   "metadata": {
    "vscode": {
     "languageId": "r"
    }
   },
   "source": [
    "> The data was further analyzed for missing values within the variables, and any with more than 50% of missing values were dropped from the dataset.\n",
    "\n",
    "Since the pregnancy question (RHD143) was only for *Females only 20 YEARS - 44 YEARS*, the missing values are men or women out of that age range, so I will not delete them."
   ]
  },
  {
   "cell_type": "code",
   "execution_count": 51,
   "metadata": {
    "vscode": {
     "languageId": "r"
    }
   },
   "outputs": [
    {
     "name": "stdout",
     "output_type": "stream",
     "text": [
      "         missing_percentage\n",
      "RHD143            93.640156\n",
      "BPXDI4            91.407964\n",
      "BPXSY4            91.407964\n",
      "LBDLDL            80.323043\n",
      "LBDTRSI           80.009124\n",
      "LBDGLUSI          79.577893\n",
      "LBXGH             57.676349\n",
      "BPXDI3            33.969499\n",
      "BPXSY3            33.968413\n",
      "BPXDI2            33.337316\n",
      "BPXSY2            33.337316\n",
      "BPXDI1            32.356455\n",
      "BPXSY1            32.356455\n",
      "BPXPLS            27.077404\n",
      "BMXWAIST          16.254263\n",
      "BMXBMI            13.325802\n",
      "BMXHT             12.859812\n",
      "BMXWT              5.930786\n",
      "DIQ010             4.515435\n",
      "SEQN               0.000000\n",
      "RIDAGEYR           0.000000\n",
      "RIAGENDR           0.000000\n",
      "YEAR               0.000000\n"
     ]
    }
   ],
   "source": [
    "missing_values <- sapply(df, function(x) mean(is.na(x))) * 100\n",
    "missing_values_df <- data.frame(missing_percentage = missing_values) |>\n",
    "                        arrange(desc(missing_percentage))\n",
    "print(missing_values_df)"
   ]
  },
  {
   "cell_type": "code",
   "execution_count": null,
   "metadata": {
    "vscode": {
     "languageId": "r"
    }
   },
   "outputs": [],
   "source": [
    "\n",
    "\n",
    "\n",
    "seeing if there is any extreme value that might be due to bad input of the data. According to the paper:\n",
    "\n",
    "> The preprocessing stage also converted any undecipherable values (errors in datatypes and standard formatting) from the database to null representations."
   ]
  },
  {
   "cell_type": "code",
   "execution_count": null,
   "metadata": {
    "vscode": {
     "languageId": "r"
    }
   },
   "outputs": [],
   "source": [
    "boxplot(df[, c('col1', 'col2', 'colN')])\n"
   ]
  },
  {
   "cell_type": "code",
   "execution_count": null,
   "metadata": {
    "vscode": {
     "languageId": "r"
    }
   },
   "outputs": [],
   "source": [
    "normalize_columns <- function(master, columns) {\n",
    "  for (column in columns) {\n",
    "    master[, column] <- (master[, column] - min(master[, column])) / (max(master[, column]) - min(master[, column]))\n",
    "  }\n",
    "  return(master)\n",
    "}\n"
   ]
  }
 ],
 "metadata": {
  "kernelspec": {
   "display_name": "R",
   "language": "R",
   "name": "ir"
  },
  "language_info": {
   "codemirror_mode": "r",
   "file_extension": ".r",
   "mimetype": "text/x-r-source",
   "name": "R",
   "pygments_lexer": "r",
   "version": "4.4.1"
  }
 },
 "nbformat": 4,
 "nbformat_minor": 2
}
