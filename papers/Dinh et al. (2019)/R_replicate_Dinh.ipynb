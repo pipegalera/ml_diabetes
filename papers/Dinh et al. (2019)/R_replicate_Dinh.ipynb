{
 "cells": [
  {
   "cell_type": "markdown",
   "metadata": {},
   "source": [
    "# Dinh et al. (2019)\n",
    "\n",
    "## A data-driven approach to predicting diabetes and cardiovascular disease with machine learning\n",
    "\n",
    "URL: https://bmcmedinformdecismak.biomedcentral.com/articles/10.1186/s12911-019-0918-5\n",
    "\n",
    "\n",
    "## Brief Summary\n",
    "\n",
    "Dinh et al. (2019) uses different ML models (logistic regression, support vector machines, random forest, and gradient boosting) on NHANES dataset to predict i) Diabetes and ii) Cardiovascular disease (\"CVD\").\n",
    "\n",
    "**Goal**: Identification mechanism for patients at risk of diabetes and cardiovascular diseases and key contributors to diabetes .\n",
    "\n",
    "**Results**:\n",
    "\n",
    "Best scores:\n",
    "\n",
    "- CVB prediction based on 131 NHANES variables achieved an AU-ROC score of 83.9% .\n",
    "- Diabetes prediction based on 123 NHANES variables achieved an AU-ROC score of 95.7% .\n",
    "- Pre-diabetic prediction based on 123 NHANES variables achieved an AU-ROC score of 84.4% .\n",
    "- Top 5 predictors in diabetes patients were 1) `waist size`, 2) `age`, 3) `self-reported weight`, 4) `leg length`, 5) `sodium intake`.\n",
    "\n",
    "\n",
    "\n",
    "This notebook replicates the results of the paper. The structure follows the following steps: \n",
    "\n",
    "1. NHANES data \n",
    "2. Pre-processing of the data\n",
    "3. Transformation of the data\n",
    "4. Train/Test Split \n",
    "5. CV 10-fold\n",
    "6. Training monitoring using MLflow\n",
    "7. Get metric results (AUC)\n",
    "\n",
    "\n",
    "The structure of the analysis emulates the Figure 1 from the paper: \n",
    "\n",
    "![Fig 1 from Dinh et al. 2019](https://raw.githubusercontent.com/pipegalera/ml_diabetes/main/images/dinh_2019_Fig1.png)\n"
   ]
  },
  {
   "cell_type": "code",
   "execution_count": 1,
   "metadata": {
    "vscode": {
     "languageId": "r"
    }
   },
   "outputs": [
    {
     "name": "stderr",
     "output_type": "stream",
     "text": [
      "Some features are not enabled in this build of Arrow. Run `arrow_info()` for more information.\n",
      "\n",
      "The repository you retrieved Arrow from did not include all of Arrow's features.\n",
      "You can install a fully-featured version by running:\n",
      "`install.packages('arrow', repos = 'https://apache.r-universe.dev')`.\n",
      "\n",
      "\n",
      "Attaching package: 'arrow'\n",
      "\n",
      "\n",
      "The following object is masked from 'package:utils':\n",
      "\n",
      "    timestamp\n",
      "\n",
      "\n",
      "\n",
      "Attaching package: 'dplyr'\n",
      "\n",
      "\n",
      "The following objects are masked from 'package:stats':\n",
      "\n",
      "    filter, lag\n",
      "\n",
      "\n",
      "The following objects are masked from 'package:base':\n",
      "\n",
      "    intersect, setdiff, setequal, union\n",
      "\n",
      "\n"
     ]
    }
   ],
   "source": [
    "library(arrow)\n",
    "library(dplyr)\n",
    "library(readxl)"
   ]
  },
  {
   "cell_type": "markdown",
   "metadata": {},
   "source": [
    "## 1. HNANES data\n",
    "\n",
    "URL: https://www.cdc.gov/nchs/index.htm\n",
    "\n",
    "\n",
    "## Target\n",
    "\n",
    "From the paper, the definitions are clear: \n",
    "\n",
    "![Dinh et al.(2019), Table 4](https://raw.githubusercontent.com/pipegalera/ml_diabetes/main/images/dinh_2019_Table4.png)\n",
    "\n",
    "- Case I: Diabetes.\n",
    "\n",
    "    - Glucose >= 126 mg/dL. OR;\n",
    "    - \"Yes\" to the question \"Have you ever been told by a doctor that you have diabetes?\"\n",
    "\n",
    "- Case II: Undiagnosed Diabetes. \n",
    "\n",
    "    - Glucose >= 126 mg/dL. AND;\n",
    "    - \"No\" to the question \"Have you ever been told by a doctor that you have diabetes?\"\n",
    "\n",
    "- Cardio: Cardiovascular disease.\n",
    "\n",
    "    - \"Yes\" to any of the the questions \"Have you ever been told by a doctor that you had congestive heart failure, coronary heart disease, a heart attack, or a stroke?\"\n",
    "\n",
    "The paper also defined and test for the target: \n",
    "\n",
    "- Pre diabetes\n",
    "\n",
    "    - Glucose 125 >= 100 mg/dL\n",
    "\n",
    "## Covariates\n",
    "\n",
    "The paper did not say what variables they use from NHANES. I emailed the author in the correspondence section of the paper to try to get the list of variables they used, but no answer from him yet.\n",
    "\n",
    "Given that NHANES have more than 3000 variables, I cannot just randomly take the variables I believe are important. \n",
    "\n",
    "For now, I will consider the variables taken from [Figure 5](https://raw.githubusercontent.com/pipegalera/ml_diabetes/main/images/dinh_2019_Fig5.png) and [Figure 6](https://raw.githubusercontent.com/pipegalera/ml_diabetes/main/images/dinh_2019_Fig6.png) of the paper. I compiled them by hand in an Excel file using NHANES search tool for variables:\n",
    "\n"
   ]
  },
  {
   "cell_type": "code",
   "execution_count": 143,
   "metadata": {
    "vscode": {
     "languageId": "r"
    }
   },
   "outputs": [
    {
     "data": {
      "text/html": [
       "<table class=\"dataframe\">\n",
       "<caption>A tibble: 15 x 2</caption>\n",
       "<thead>\n",
       "\t<tr><th scope=col>Variable Name</th><th scope=col>NHANES Name</th></tr>\n",
       "\t<tr><th scope=col>&lt;chr&gt;</th><th scope=col>&lt;chr&gt;</th></tr>\n",
       "</thead>\n",
       "<tbody>\n",
       "\t<tr><td>Age                          </td><td>RIDAGEYR</td></tr>\n",
       "\t<tr><td>Alcohol consumption          </td><td>ALQ130  </td></tr>\n",
       "\t<tr><td>Alcohol intake               </td><td>DRXTALCO</td></tr>\n",
       "\t<tr><td>Alcohol intake, First Day    </td><td>DR1TALCO</td></tr>\n",
       "\t<tr><td>Alcohol intake, Second Day   </td><td>DR2TALCO</td></tr>\n",
       "\t<tr><td>Arm circumference            </td><td>BMXARMC </td></tr>\n",
       "\t<tr><td>Arm length                   </td><td>BMXARML </td></tr>\n",
       "\t<tr><td>Blood osmolality             </td><td>LBXSOSSI</td></tr>\n",
       "\t<tr><td>Blood relatives have diabetes</td><td>MCQ250A </td></tr>\n",
       "\t<tr><td>Blood urea nitrogen          </td><td>LBDSBUSI</td></tr>\n",
       "\t<tr><td>BMI                          </td><td>BMXBMI  </td></tr>\n",
       "\t<tr><td>Caffeine intake              </td><td>DRXTCAFF</td></tr>\n",
       "\t<tr><td>Caffeine intake, First Day   </td><td>DR1TCAFF</td></tr>\n",
       "\t<tr><td>Caffeine intake, Second Day  </td><td>DR2TCAFF</td></tr>\n",
       "\t<tr><td>Calcium intake, First Day    </td><td>DR1TCALC</td></tr>\n",
       "</tbody>\n",
       "</table>\n"
      ],
      "text/latex": [
       "A tibble: 15 x 2\n",
       "\\begin{tabular}{ll}\n",
       " Variable Name & NHANES Name\\\\\n",
       " <chr> & <chr>\\\\\n",
       "\\hline\n",
       "\t Age                           & RIDAGEYR\\\\\n",
       "\t Alcohol consumption           & ALQ130  \\\\\n",
       "\t Alcohol intake                & DRXTALCO\\\\\n",
       "\t Alcohol intake, First Day     & DR1TALCO\\\\\n",
       "\t Alcohol intake, Second Day    & DR2TALCO\\\\\n",
       "\t Arm circumference             & BMXARMC \\\\\n",
       "\t Arm length                    & BMXARML \\\\\n",
       "\t Blood osmolality              & LBXSOSSI\\\\\n",
       "\t Blood relatives have diabetes & MCQ250A \\\\\n",
       "\t Blood urea nitrogen           & LBDSBUSI\\\\\n",
       "\t BMI                           & BMXBMI  \\\\\n",
       "\t Caffeine intake               & DRXTCAFF\\\\\n",
       "\t Caffeine intake, First Day    & DR1TCAFF\\\\\n",
       "\t Caffeine intake, Second Day   & DR2TCAFF\\\\\n",
       "\t Calcium intake, First Day     & DR1TCALC\\\\\n",
       "\\end{tabular}\n"
      ],
      "text/markdown": [
       "\n",
       "A tibble: 15 x 2\n",
       "\n",
       "| Variable Name &lt;chr&gt; | NHANES Name &lt;chr&gt; |\n",
       "|---|---|\n",
       "| Age                           | RIDAGEYR |\n",
       "| Alcohol consumption           | ALQ130   |\n",
       "| Alcohol intake                | DRXTALCO |\n",
       "| Alcohol intake, First Day     | DR1TALCO |\n",
       "| Alcohol intake, Second Day    | DR2TALCO |\n",
       "| Arm circumference             | BMXARMC  |\n",
       "| Arm length                    | BMXARML  |\n",
       "| Blood osmolality              | LBXSOSSI |\n",
       "| Blood relatives have diabetes | MCQ250A  |\n",
       "| Blood urea nitrogen           | LBDSBUSI |\n",
       "| BMI                           | BMXBMI   |\n",
       "| Caffeine intake               | DRXTCAFF |\n",
       "| Caffeine intake, First Day    | DR1TCAFF |\n",
       "| Caffeine intake, Second Day   | DR2TCAFF |\n",
       "| Calcium intake, First Day     | DR1TCALC |\n",
       "\n"
      ],
      "text/plain": [
       "   Variable Name                 NHANES Name\n",
       "1  Age                           RIDAGEYR   \n",
       "2  Alcohol consumption           ALQ130     \n",
       "3  Alcohol intake                DRXTALCO   \n",
       "4  Alcohol intake, First Day     DR1TALCO   \n",
       "5  Alcohol intake, Second Day    DR2TALCO   \n",
       "6  Arm circumference             BMXARMC    \n",
       "7  Arm length                    BMXARML    \n",
       "8  Blood osmolality              LBXSOSSI   \n",
       "9  Blood relatives have diabetes MCQ250A    \n",
       "10 Blood urea nitrogen           LBDSBUSI   \n",
       "11 BMI                           BMXBMI     \n",
       "12 Caffeine intake               DRXTCAFF   \n",
       "13 Caffeine intake, First Day    DR1TCAFF   \n",
       "14 Caffeine intake, Second Day   DR2TCAFF   \n",
       "15 Calcium intake, First Day     DR1TCALC   "
      ]
     },
     "metadata": {},
     "output_type": "display_data"
    }
   ],
   "source": [
    "DATA_PATH <- \"/Users/pipegalera/dev/ml_diabetes/data/NHANES/raw_data/\"\n",
    "dinh_2019_vars <- read_excel(paste0(DATA_PATH, \"dinh_2019_variables_doc.xlsx\"))\n",
    "\n",
    "head(dinh_2019_vars[c(\"Variable Name\", \"NHANES Name\")], n=15)\n"
   ]
  },
  {
   "cell_type": "markdown",
   "metadata": {},
   "source": [
    "For the complete list (n=62), check the file `dinh_2019_variables_doc.xlsx` under NHANES data folder."
   ]
  },
  {
   "cell_type": "markdown",
   "metadata": {
    "vscode": {
     "languageId": "r"
    }
   },
   "source": [
    "NHANES data is made by multiple files (see `NHANES` unde data folder) that have to be compiled together. The data was downloaded automatically via script, all the files converted from SAS to parquet, and the files were stacked and merged based on the individual index (\"SEQN\"). For more details please check the `nhanes_data_backfill` notebook. \n",
    "\n",
    "Plese notice that no transformation are made to the covariates, the files were only arranged and stacked together. "
   ]
  },
  {
   "cell_type": "code",
   "execution_count": 221,
   "metadata": {
    "vscode": {
     "languageId": "r"
    }
   },
   "outputs": [],
   "source": [
    "df <- read_parquet(paste0(DATA_PATH, \"dinh_raw_data.parquet\"))"
   ]
  },
  {
   "cell_type": "code",
   "execution_count": 222,
   "metadata": {
    "vscode": {
     "languageId": "r"
    }
   },
   "outputs": [
    {
     "data": {
      "text/html": [
       "<table class=\"dataframe\">\n",
       "<caption>A tibble: 6 x 64</caption>\n",
       "<thead>\n",
       "\t<tr><th scope=col>SEQN</th><th scope=col>YEAR</th><th scope=col>RIDAGEYR</th><th scope=col>ALQ130</th><th scope=col>DRXTALCO</th><th scope=col>DR1TALCO</th><th scope=col>DR2TALCO</th><th scope=col>BMXARMC</th><th scope=col>BMXARML</th><th scope=col>LBXSOSSI</th><th scope=col>...</th><th scope=col>BPXSY4</th><th scope=col>BPXSY2</th><th scope=col>BPXSY3</th><th scope=col>LBDTCSI</th><th scope=col>LBDSTRSI</th><th scope=col>BMXWAIST</th><th scope=col>BMXWT</th><th scope=col>LBXWBCSI</th><th scope=col>LBXSASSI</th><th scope=col>RHD143</th></tr>\n",
       "\t<tr><th scope=col>&lt;dbl&gt;</th><th scope=col>&lt;chr&gt;</th><th scope=col>&lt;dbl&gt;</th><th scope=col>&lt;dbl&gt;</th><th scope=col>&lt;dbl&gt;</th><th scope=col>&lt;dbl&gt;</th><th scope=col>&lt;dbl&gt;</th><th scope=col>&lt;dbl&gt;</th><th scope=col>&lt;dbl&gt;</th><th scope=col>&lt;dbl&gt;</th><th scope=col>...</th><th scope=col>&lt;dbl&gt;</th><th scope=col>&lt;dbl&gt;</th><th scope=col>&lt;dbl&gt;</th><th scope=col>&lt;dbl&gt;</th><th scope=col>&lt;dbl&gt;</th><th scope=col>&lt;dbl&gt;</th><th scope=col>&lt;dbl&gt;</th><th scope=col>&lt;dbl&gt;</th><th scope=col>&lt;dbl&gt;</th><th scope=col>&lt;dbl&gt;</th></tr>\n",
       "</thead>\n",
       "<tbody>\n",
       "\t<tr><td>1</td><td>1999-2000</td><td> 2</td><td>NA</td><td> 0.00</td><td>NA</td><td>NA</td><td>15.2</td><td>18.6</td><td> NA</td><td>...</td><td>NA</td><td> NA</td><td> NA</td><td>  NA</td><td>   NA</td><td>45.7</td><td>12.5</td><td> NA</td><td>NA</td><td>NA</td></tr>\n",
       "\t<tr><td>2</td><td>1999-2000</td><td>77</td><td> 1</td><td> 0.00</td><td>NA</td><td>NA</td><td>29.8</td><td>38.2</td><td>288</td><td>...</td><td>NA</td><td> 98</td><td> 98</td><td>5.56</td><td>1.298</td><td>98.0</td><td>75.4</td><td>7.6</td><td>19</td><td>NA</td></tr>\n",
       "\t<tr><td>3</td><td>1999-2000</td><td>10</td><td>NA</td><td> 0.00</td><td>NA</td><td>NA</td><td>19.7</td><td>25.5</td><td> NA</td><td>...</td><td>NA</td><td>104</td><td>112</td><td>3.34</td><td>   NA</td><td>64.7</td><td>32.9</td><td>7.5</td><td>NA</td><td>NA</td></tr>\n",
       "\t<tr><td>4</td><td>1999-2000</td><td> 1</td><td>NA</td><td> 0.00</td><td>NA</td><td>NA</td><td>16.4</td><td>20.4</td><td> NA</td><td>...</td><td>NA</td><td> NA</td><td> NA</td><td>  NA</td><td>   NA</td><td>  NA</td><td>13.3</td><td>8.8</td><td>NA</td><td>NA</td></tr>\n",
       "\t<tr><td>5</td><td>1999-2000</td><td>49</td><td> 3</td><td>34.56</td><td>NA</td><td>NA</td><td>35.8</td><td>39.7</td><td>276</td><td>...</td><td>NA</td><td>122</td><td>122</td><td>7.21</td><td>3.850</td><td>99.9</td><td>92.5</td><td>5.9</td><td>22</td><td>NA</td></tr>\n",
       "\t<tr><td>6</td><td>1999-2000</td><td>19</td><td>NA</td><td> 0.00</td><td>NA</td><td>NA</td><td>26.0</td><td>34.5</td><td>277</td><td>...</td><td>NA</td><td>116</td><td>112</td><td>3.96</td><td>0.553</td><td>81.6</td><td>59.2</td><td>9.6</td><td>20</td><td>NA</td></tr>\n",
       "</tbody>\n",
       "</table>\n"
      ],
      "text/latex": [
       "A tibble: 6 x 64\n",
       "\\begin{tabular}{lllllllllllllllllllll}\n",
       " SEQN & YEAR & RIDAGEYR & ALQ130 & DRXTALCO & DR1TALCO & DR2TALCO & BMXARMC & BMXARML & LBXSOSSI & ... & BPXSY4 & BPXSY2 & BPXSY3 & LBDTCSI & LBDSTRSI & BMXWAIST & BMXWT & LBXWBCSI & LBXSASSI & RHD143\\\\\n",
       " <dbl> & <chr> & <dbl> & <dbl> & <dbl> & <dbl> & <dbl> & <dbl> & <dbl> & <dbl> & ... & <dbl> & <dbl> & <dbl> & <dbl> & <dbl> & <dbl> & <dbl> & <dbl> & <dbl> & <dbl>\\\\\n",
       "\\hline\n",
       "\t 1 & 1999-2000 &  2 & NA &  0.00 & NA & NA & 15.2 & 18.6 &  NA & ... & NA &  NA &  NA &   NA &    NA & 45.7 & 12.5 &  NA & NA & NA\\\\\n",
       "\t 2 & 1999-2000 & 77 &  1 &  0.00 & NA & NA & 29.8 & 38.2 & 288 & ... & NA &  98 &  98 & 5.56 & 1.298 & 98.0 & 75.4 & 7.6 & 19 & NA\\\\\n",
       "\t 3 & 1999-2000 & 10 & NA &  0.00 & NA & NA & 19.7 & 25.5 &  NA & ... & NA & 104 & 112 & 3.34 &    NA & 64.7 & 32.9 & 7.5 & NA & NA\\\\\n",
       "\t 4 & 1999-2000 &  1 & NA &  0.00 & NA & NA & 16.4 & 20.4 &  NA & ... & NA &  NA &  NA &   NA &    NA &   NA & 13.3 & 8.8 & NA & NA\\\\\n",
       "\t 5 & 1999-2000 & 49 &  3 & 34.56 & NA & NA & 35.8 & 39.7 & 276 & ... & NA & 122 & 122 & 7.21 & 3.850 & 99.9 & 92.5 & 5.9 & 22 & NA\\\\\n",
       "\t 6 & 1999-2000 & 19 & NA &  0.00 & NA & NA & 26.0 & 34.5 & 277 & ... & NA & 116 & 112 & 3.96 & 0.553 & 81.6 & 59.2 & 9.6 & 20 & NA\\\\\n",
       "\\end{tabular}\n"
      ],
      "text/markdown": [
       "\n",
       "A tibble: 6 x 64\n",
       "\n",
       "| SEQN &lt;dbl&gt; | YEAR &lt;chr&gt; | RIDAGEYR &lt;dbl&gt; | ALQ130 &lt;dbl&gt; | DRXTALCO &lt;dbl&gt; | DR1TALCO &lt;dbl&gt; | DR2TALCO &lt;dbl&gt; | BMXARMC &lt;dbl&gt; | BMXARML &lt;dbl&gt; | LBXSOSSI &lt;dbl&gt; | ... ... | BPXSY4 &lt;dbl&gt; | BPXSY2 &lt;dbl&gt; | BPXSY3 &lt;dbl&gt; | LBDTCSI &lt;dbl&gt; | LBDSTRSI &lt;dbl&gt; | BMXWAIST &lt;dbl&gt; | BMXWT &lt;dbl&gt; | LBXWBCSI &lt;dbl&gt; | LBXSASSI &lt;dbl&gt; | RHD143 &lt;dbl&gt; |\n",
       "|---|---|---|---|---|---|---|---|---|---|---|---|---|---|---|---|---|---|---|---|---|\n",
       "| 1 | 1999-2000 |  2 | NA |  0.00 | NA | NA | 15.2 | 18.6 |  NA | ... | NA |  NA |  NA |   NA |    NA | 45.7 | 12.5 |  NA | NA | NA |\n",
       "| 2 | 1999-2000 | 77 |  1 |  0.00 | NA | NA | 29.8 | 38.2 | 288 | ... | NA |  98 |  98 | 5.56 | 1.298 | 98.0 | 75.4 | 7.6 | 19 | NA |\n",
       "| 3 | 1999-2000 | 10 | NA |  0.00 | NA | NA | 19.7 | 25.5 |  NA | ... | NA | 104 | 112 | 3.34 |    NA | 64.7 | 32.9 | 7.5 | NA | NA |\n",
       "| 4 | 1999-2000 |  1 | NA |  0.00 | NA | NA | 16.4 | 20.4 |  NA | ... | NA |  NA |  NA |   NA |    NA |   NA | 13.3 | 8.8 | NA | NA |\n",
       "| 5 | 1999-2000 | 49 |  3 | 34.56 | NA | NA | 35.8 | 39.7 | 276 | ... | NA | 122 | 122 | 7.21 | 3.850 | 99.9 | 92.5 | 5.9 | 22 | NA |\n",
       "| 6 | 1999-2000 | 19 | NA |  0.00 | NA | NA | 26.0 | 34.5 | 277 | ... | NA | 116 | 112 | 3.96 | 0.553 | 81.6 | 59.2 | 9.6 | 20 | NA |\n",
       "\n"
      ],
      "text/plain": [
       "  SEQN YEAR      RIDAGEYR ALQ130 DRXTALCO DR1TALCO DR2TALCO BMXARMC BMXARML\n",
       "1 1    1999-2000  2       NA      0.00    NA       NA       15.2    18.6   \n",
       "2 2    1999-2000 77        1      0.00    NA       NA       29.8    38.2   \n",
       "3 3    1999-2000 10       NA      0.00    NA       NA       19.7    25.5   \n",
       "4 4    1999-2000  1       NA      0.00    NA       NA       16.4    20.4   \n",
       "5 5    1999-2000 49        3     34.56    NA       NA       35.8    39.7   \n",
       "6 6    1999-2000 19       NA      0.00    NA       NA       26.0    34.5   \n",
       "  LBXSOSSI ... BPXSY4 BPXSY2 BPXSY3 LBDTCSI LBDSTRSI BMXWAIST BMXWT LBXWBCSI\n",
       "1  NA      ... NA      NA     NA      NA       NA    45.7     12.5   NA     \n",
       "2 288      ... NA      98     98    5.56    1.298    98.0     75.4  7.6     \n",
       "3  NA      ... NA     104    112    3.34       NA    64.7     32.9  7.5     \n",
       "4  NA      ... NA      NA     NA      NA       NA      NA     13.3  8.8     \n",
       "5 276      ... NA     122    122    7.21    3.850    99.9     92.5  5.9     \n",
       "6 277      ... NA     116    112    3.96    0.553    81.6     59.2  9.6     \n",
       "  LBXSASSI RHD143\n",
       "1 NA       NA    \n",
       "2 19       NA    \n",
       "3 NA       NA    \n",
       "4 NA       NA    \n",
       "5 22       NA    \n",
       "6 20       NA    "
      ]
     },
     "metadata": {},
     "output_type": "display_data"
    }
   ],
   "source": [
    "head(df)"
   ]
  },
  {
   "cell_type": "code",
   "execution_count": 223,
   "metadata": {
    "vscode": {
     "languageId": "r"
    }
   },
   "outputs": [
    {
     "data": {
      "text/html": [
       "<table class=\"dataframe\">\n",
       "<caption>A tibble: 6 x 64</caption>\n",
       "<thead>\n",
       "\t<tr><th scope=col>SEQN</th><th scope=col>YEAR</th><th scope=col>RIDAGEYR</th><th scope=col>ALQ130</th><th scope=col>DRXTALCO</th><th scope=col>DR1TALCO</th><th scope=col>DR2TALCO</th><th scope=col>BMXARMC</th><th scope=col>BMXARML</th><th scope=col>LBXSOSSI</th><th scope=col>...</th><th scope=col>BPXSY4</th><th scope=col>BPXSY2</th><th scope=col>BPXSY3</th><th scope=col>LBDTCSI</th><th scope=col>LBDSTRSI</th><th scope=col>BMXWAIST</th><th scope=col>BMXWT</th><th scope=col>LBXWBCSI</th><th scope=col>LBXSASSI</th><th scope=col>RHD143</th></tr>\n",
       "\t<tr><th scope=col>&lt;dbl&gt;</th><th scope=col>&lt;chr&gt;</th><th scope=col>&lt;dbl&gt;</th><th scope=col>&lt;dbl&gt;</th><th scope=col>&lt;dbl&gt;</th><th scope=col>&lt;dbl&gt;</th><th scope=col>&lt;dbl&gt;</th><th scope=col>&lt;dbl&gt;</th><th scope=col>&lt;dbl&gt;</th><th scope=col>&lt;dbl&gt;</th><th scope=col>...</th><th scope=col>&lt;dbl&gt;</th><th scope=col>&lt;dbl&gt;</th><th scope=col>&lt;dbl&gt;</th><th scope=col>&lt;dbl&gt;</th><th scope=col>&lt;dbl&gt;</th><th scope=col>&lt;dbl&gt;</th><th scope=col>&lt;dbl&gt;</th><th scope=col>&lt;dbl&gt;</th><th scope=col>&lt;dbl&gt;</th><th scope=col>&lt;dbl&gt;</th></tr>\n",
       "</thead>\n",
       "<tbody>\n",
       "\t<tr><td>83726</td><td>2013-2014</td><td>40</td><td>NA</td><td>NA</td><td>NA</td><td>  NA</td><td>31.0</td><td>39.0</td><td> NA</td><td>...</td><td>NA</td><td> NA</td><td> NA</td><td>  NA</td><td>   NA</td><td> 97.7</td><td>79.0</td><td> NA</td><td>NA</td><td>NA</td></tr>\n",
       "\t<tr><td>83727</td><td>2013-2014</td><td>26</td><td> 3</td><td>NA</td><td>14</td><td>19.9</td><td>29.9</td><td>35.2</td><td>285</td><td>...</td><td>NA</td><td>116</td><td>112</td><td>4.91</td><td>0.858</td><td> 87.1</td><td>71.8</td><td>5.1</td><td>27</td><td>NA</td></tr>\n",
       "\t<tr><td>83728</td><td>2013-2014</td><td> 2</td><td>NA</td><td>NA</td><td> 0</td><td> 0.0</td><td>14.7</td><td>16.5</td><td> NA</td><td>...</td><td>NA</td><td> NA</td><td> NA</td><td>  NA</td><td>   NA</td><td> 47.2</td><td>11.3</td><td>6.6</td><td>NA</td><td>NA</td></tr>\n",
       "\t<tr><td>83729</td><td>2013-2014</td><td>42</td><td>NA</td><td>NA</td><td> 0</td><td> 0.0</td><td>37.0</td><td>37.6</td><td>277</td><td>...</td><td>NA</td><td>130</td><td>138</td><td>3.93</td><td>1.197</td><td>102.7</td><td>89.6</td><td>6.4</td><td>26</td><td>NA</td></tr>\n",
       "\t<tr><td>83730</td><td>2013-2014</td><td> 7</td><td>NA</td><td>NA</td><td>NA</td><td>  NA</td><td>19.0</td><td>26.0</td><td> NA</td><td>...</td><td>NA</td><td> NA</td><td> NA</td><td>4.32</td><td>   NA</td><td> 53.0</td><td>22.8</td><td>9.9</td><td>NA</td><td>NA</td></tr>\n",
       "\t<tr><td>83731</td><td>2013-2014</td><td>11</td><td>NA</td><td>NA</td><td> 0</td><td> 0.0</td><td>25.0</td><td>31.7</td><td> NA</td><td>...</td><td>NA</td><td> 94</td><td> 90</td><td>  NA</td><td>   NA</td><td> 73.5</td><td>42.3</td><td> NA</td><td>NA</td><td>NA</td></tr>\n",
       "</tbody>\n",
       "</table>\n"
      ],
      "text/latex": [
       "A tibble: 6 x 64\n",
       "\\begin{tabular}{lllllllllllllllllllll}\n",
       " SEQN & YEAR & RIDAGEYR & ALQ130 & DRXTALCO & DR1TALCO & DR2TALCO & BMXARMC & BMXARML & LBXSOSSI & ... & BPXSY4 & BPXSY2 & BPXSY3 & LBDTCSI & LBDSTRSI & BMXWAIST & BMXWT & LBXWBCSI & LBXSASSI & RHD143\\\\\n",
       " <dbl> & <chr> & <dbl> & <dbl> & <dbl> & <dbl> & <dbl> & <dbl> & <dbl> & <dbl> & ... & <dbl> & <dbl> & <dbl> & <dbl> & <dbl> & <dbl> & <dbl> & <dbl> & <dbl> & <dbl>\\\\\n",
       "\\hline\n",
       "\t 83726 & 2013-2014 & 40 & NA & NA & NA &   NA & 31.0 & 39.0 &  NA & ... & NA &  NA &  NA &   NA &    NA &  97.7 & 79.0 &  NA & NA & NA\\\\\n",
       "\t 83727 & 2013-2014 & 26 &  3 & NA & 14 & 19.9 & 29.9 & 35.2 & 285 & ... & NA & 116 & 112 & 4.91 & 0.858 &  87.1 & 71.8 & 5.1 & 27 & NA\\\\\n",
       "\t 83728 & 2013-2014 &  2 & NA & NA &  0 &  0.0 & 14.7 & 16.5 &  NA & ... & NA &  NA &  NA &   NA &    NA &  47.2 & 11.3 & 6.6 & NA & NA\\\\\n",
       "\t 83729 & 2013-2014 & 42 & NA & NA &  0 &  0.0 & 37.0 & 37.6 & 277 & ... & NA & 130 & 138 & 3.93 & 1.197 & 102.7 & 89.6 & 6.4 & 26 & NA\\\\\n",
       "\t 83730 & 2013-2014 &  7 & NA & NA & NA &   NA & 19.0 & 26.0 &  NA & ... & NA &  NA &  NA & 4.32 &    NA &  53.0 & 22.8 & 9.9 & NA & NA\\\\\n",
       "\t 83731 & 2013-2014 & 11 & NA & NA &  0 &  0.0 & 25.0 & 31.7 &  NA & ... & NA &  94 &  90 &   NA &    NA &  73.5 & 42.3 &  NA & NA & NA\\\\\n",
       "\\end{tabular}\n"
      ],
      "text/markdown": [
       "\n",
       "A tibble: 6 x 64\n",
       "\n",
       "| SEQN &lt;dbl&gt; | YEAR &lt;chr&gt; | RIDAGEYR &lt;dbl&gt; | ALQ130 &lt;dbl&gt; | DRXTALCO &lt;dbl&gt; | DR1TALCO &lt;dbl&gt; | DR2TALCO &lt;dbl&gt; | BMXARMC &lt;dbl&gt; | BMXARML &lt;dbl&gt; | LBXSOSSI &lt;dbl&gt; | ... ... | BPXSY4 &lt;dbl&gt; | BPXSY2 &lt;dbl&gt; | BPXSY3 &lt;dbl&gt; | LBDTCSI &lt;dbl&gt; | LBDSTRSI &lt;dbl&gt; | BMXWAIST &lt;dbl&gt; | BMXWT &lt;dbl&gt; | LBXWBCSI &lt;dbl&gt; | LBXSASSI &lt;dbl&gt; | RHD143 &lt;dbl&gt; |\n",
       "|---|---|---|---|---|---|---|---|---|---|---|---|---|---|---|---|---|---|---|---|---|\n",
       "| 83726 | 2013-2014 | 40 | NA | NA | NA |   NA | 31.0 | 39.0 |  NA | ... | NA |  NA |  NA |   NA |    NA |  97.7 | 79.0 |  NA | NA | NA |\n",
       "| 83727 | 2013-2014 | 26 |  3 | NA | 14 | 19.9 | 29.9 | 35.2 | 285 | ... | NA | 116 | 112 | 4.91 | 0.858 |  87.1 | 71.8 | 5.1 | 27 | NA |\n",
       "| 83728 | 2013-2014 |  2 | NA | NA |  0 |  0.0 | 14.7 | 16.5 |  NA | ... | NA |  NA |  NA |   NA |    NA |  47.2 | 11.3 | 6.6 | NA | NA |\n",
       "| 83729 | 2013-2014 | 42 | NA | NA |  0 |  0.0 | 37.0 | 37.6 | 277 | ... | NA | 130 | 138 | 3.93 | 1.197 | 102.7 | 89.6 | 6.4 | 26 | NA |\n",
       "| 83730 | 2013-2014 |  7 | NA | NA | NA |   NA | 19.0 | 26.0 |  NA | ... | NA |  NA |  NA | 4.32 |    NA |  53.0 | 22.8 | 9.9 | NA | NA |\n",
       "| 83731 | 2013-2014 | 11 | NA | NA |  0 |  0.0 | 25.0 | 31.7 |  NA | ... | NA |  94 |  90 |   NA |    NA |  73.5 | 42.3 |  NA | NA | NA |\n",
       "\n"
      ],
      "text/plain": [
       "  SEQN  YEAR      RIDAGEYR ALQ130 DRXTALCO DR1TALCO DR2TALCO BMXARMC BMXARML\n",
       "1 83726 2013-2014 40       NA     NA       NA         NA     31.0    39.0   \n",
       "2 83727 2013-2014 26        3     NA       14       19.9     29.9    35.2   \n",
       "3 83728 2013-2014  2       NA     NA        0        0.0     14.7    16.5   \n",
       "4 83729 2013-2014 42       NA     NA        0        0.0     37.0    37.6   \n",
       "5 83730 2013-2014  7       NA     NA       NA         NA     19.0    26.0   \n",
       "6 83731 2013-2014 11       NA     NA        0        0.0     25.0    31.7   \n",
       "  LBXSOSSI ... BPXSY4 BPXSY2 BPXSY3 LBDTCSI LBDSTRSI BMXWAIST BMXWT LBXWBCSI\n",
       "1  NA      ... NA      NA     NA      NA       NA     97.7    79.0   NA     \n",
       "2 285      ... NA     116    112    4.91    0.858     87.1    71.8  5.1     \n",
       "3  NA      ... NA      NA     NA      NA       NA     47.2    11.3  6.6     \n",
       "4 277      ... NA     130    138    3.93    1.197    102.7    89.6  6.4     \n",
       "5  NA      ... NA      NA     NA    4.32       NA     53.0    22.8  9.9     \n",
       "6  NA      ... NA      94     90      NA       NA     73.5    42.3   NA     \n",
       "  LBXSASSI RHD143\n",
       "1 NA       NA    \n",
       "2 27       NA    \n",
       "3 NA       NA    \n",
       "4 26       NA    \n",
       "5 NA       NA    \n",
       "6 NA       NA    "
      ]
     },
     "metadata": {},
     "output_type": "display_data"
    }
   ],
   "source": [
    "tail(df)"
   ]
  },
  {
   "cell_type": "code",
   "execution_count": 224,
   "metadata": {
    "vscode": {
     "languageId": "r"
    }
   },
   "outputs": [
    {
     "data": {
      "text/html": [
       "82091"
      ],
      "text/latex": [
       "82091"
      ],
      "text/markdown": [
       "82091"
      ],
      "text/plain": [
       "[1] 82091"
      ]
     },
     "metadata": {},
     "output_type": "display_data"
    }
   ],
   "source": [
    "nrow(df)"
   ]
  },
  {
   "cell_type": "code",
   "execution_count": 225,
   "metadata": {
    "vscode": {
     "languageId": "r"
    }
   },
   "outputs": [
    {
     "data": {
      "text/html": [
       "<style>\n",
       ".list-inline {list-style: none; margin:0; padding: 0}\n",
       ".list-inline>li {display: inline-block}\n",
       ".list-inline>li:not(:last-child)::after {content: \"\\00b7\"; padding: 0 .5ex}\n",
       "</style>\n",
       "<ol class=list-inline><li>'SEQN'</li><li>'YEAR'</li><li>'RIDAGEYR'</li><li>'ALQ130'</li><li>'DRXTALCO'</li><li>'DR1TALCO'</li><li>'DR2TALCO'</li><li>'BMXARMC'</li><li>'BMXARML'</li><li>'LBXSOSSI'</li><li>'MCQ250A'</li><li>'LBDSBUSI'</li><li>'BMXBMI'</li><li>'DRXTCAFF'</li><li>'DR1TCAFF'</li><li>'DR2TCAFF'</li><li>'DR1TCALC'</li><li>'DR2TCALC'</li><li>'DRXTCALC'</li><li>'DR1TCARB'</li><li>'DR2TCARB'</li><li>'DRXTCARB'</li><li>'LB2SCLSI'</li><li>'MCQ300c'</li><li>'MCQ300C'</li><li>'BPXDI1'</li><li>'BPXDI4'</li><li>'BPXDI2'</li><li>'BPXDI3'</li><li>'RIDRETH1'</li><li>'DR1TFIBE'</li><li>'DR2TFIBE'</li><li>'DRXTFIBE'</li><li>'LBXSGTSI'</li><li>'HSD010'</li><li>'HUQ010'</li><li>'LBDHDLSI'</li><li>'LBDHDDSI'</li><li>'BMXHT'</li><li>'BPQ080'</li><li>'INDHHIN2'</li><li>'DRXTKCAL'</li><li>'DR1TKCAL'</li><li>'DR2TKCAL'</li><li>'LBDLDLSI'</li><li>'BMXLEG'</li><li>'LBDLYMNO'</li><li>'LBXMCVSI'</li><li>'BPXPLS'</li><li>'WHD140'</li><li>'DR1TSODI'</li><li>'DR2TSODI'</li><li>'DRDTSODI'</li><li>'BPXSY1'</li><li>'BPXSY4'</li><li>'BPXSY2'</li><li>'BPXSY3'</li><li>'LBDTCSI'</li><li>'LBDSTRSI'</li><li>'BMXWAIST'</li><li>'BMXWT'</li><li>'LBXWBCSI'</li><li>'LBXSASSI'</li><li>'RHD143'</li></ol>\n"
      ],
      "text/latex": [
       "\\begin{enumerate*}\n",
       "\\item 'SEQN'\n",
       "\\item 'YEAR'\n",
       "\\item 'RIDAGEYR'\n",
       "\\item 'ALQ130'\n",
       "\\item 'DRXTALCO'\n",
       "\\item 'DR1TALCO'\n",
       "\\item 'DR2TALCO'\n",
       "\\item 'BMXARMC'\n",
       "\\item 'BMXARML'\n",
       "\\item 'LBXSOSSI'\n",
       "\\item 'MCQ250A'\n",
       "\\item 'LBDSBUSI'\n",
       "\\item 'BMXBMI'\n",
       "\\item 'DRXTCAFF'\n",
       "\\item 'DR1TCAFF'\n",
       "\\item 'DR2TCAFF'\n",
       "\\item 'DR1TCALC'\n",
       "\\item 'DR2TCALC'\n",
       "\\item 'DRXTCALC'\n",
       "\\item 'DR1TCARB'\n",
       "\\item 'DR2TCARB'\n",
       "\\item 'DRXTCARB'\n",
       "\\item 'LB2SCLSI'\n",
       "\\item 'MCQ300c'\n",
       "\\item 'MCQ300C'\n",
       "\\item 'BPXDI1'\n",
       "\\item 'BPXDI4'\n",
       "\\item 'BPXDI2'\n",
       "\\item 'BPXDI3'\n",
       "\\item 'RIDRETH1'\n",
       "\\item 'DR1TFIBE'\n",
       "\\item 'DR2TFIBE'\n",
       "\\item 'DRXTFIBE'\n",
       "\\item 'LBXSGTSI'\n",
       "\\item 'HSD010'\n",
       "\\item 'HUQ010'\n",
       "\\item 'LBDHDLSI'\n",
       "\\item 'LBDHDDSI'\n",
       "\\item 'BMXHT'\n",
       "\\item 'BPQ080'\n",
       "\\item 'INDHHIN2'\n",
       "\\item 'DRXTKCAL'\n",
       "\\item 'DR1TKCAL'\n",
       "\\item 'DR2TKCAL'\n",
       "\\item 'LBDLDLSI'\n",
       "\\item 'BMXLEG'\n",
       "\\item 'LBDLYMNO'\n",
       "\\item 'LBXMCVSI'\n",
       "\\item 'BPXPLS'\n",
       "\\item 'WHD140'\n",
       "\\item 'DR1TSODI'\n",
       "\\item 'DR2TSODI'\n",
       "\\item 'DRDTSODI'\n",
       "\\item 'BPXSY1'\n",
       "\\item 'BPXSY4'\n",
       "\\item 'BPXSY2'\n",
       "\\item 'BPXSY3'\n",
       "\\item 'LBDTCSI'\n",
       "\\item 'LBDSTRSI'\n",
       "\\item 'BMXWAIST'\n",
       "\\item 'BMXWT'\n",
       "\\item 'LBXWBCSI'\n",
       "\\item 'LBXSASSI'\n",
       "\\item 'RHD143'\n",
       "\\end{enumerate*}\n"
      ],
      "text/markdown": [
       "1. 'SEQN'\n",
       "2. 'YEAR'\n",
       "3. 'RIDAGEYR'\n",
       "4. 'ALQ130'\n",
       "5. 'DRXTALCO'\n",
       "6. 'DR1TALCO'\n",
       "7. 'DR2TALCO'\n",
       "8. 'BMXARMC'\n",
       "9. 'BMXARML'\n",
       "10. 'LBXSOSSI'\n",
       "11. 'MCQ250A'\n",
       "12. 'LBDSBUSI'\n",
       "13. 'BMXBMI'\n",
       "14. 'DRXTCAFF'\n",
       "15. 'DR1TCAFF'\n",
       "16. 'DR2TCAFF'\n",
       "17. 'DR1TCALC'\n",
       "18. 'DR2TCALC'\n",
       "19. 'DRXTCALC'\n",
       "20. 'DR1TCARB'\n",
       "21. 'DR2TCARB'\n",
       "22. 'DRXTCARB'\n",
       "23. 'LB2SCLSI'\n",
       "24. 'MCQ300c'\n",
       "25. 'MCQ300C'\n",
       "26. 'BPXDI1'\n",
       "27. 'BPXDI4'\n",
       "28. 'BPXDI2'\n",
       "29. 'BPXDI3'\n",
       "30. 'RIDRETH1'\n",
       "31. 'DR1TFIBE'\n",
       "32. 'DR2TFIBE'\n",
       "33. 'DRXTFIBE'\n",
       "34. 'LBXSGTSI'\n",
       "35. 'HSD010'\n",
       "36. 'HUQ010'\n",
       "37. 'LBDHDLSI'\n",
       "38. 'LBDHDDSI'\n",
       "39. 'BMXHT'\n",
       "40. 'BPQ080'\n",
       "41. 'INDHHIN2'\n",
       "42. 'DRXTKCAL'\n",
       "43. 'DR1TKCAL'\n",
       "44. 'DR2TKCAL'\n",
       "45. 'LBDLDLSI'\n",
       "46. 'BMXLEG'\n",
       "47. 'LBDLYMNO'\n",
       "48. 'LBXMCVSI'\n",
       "49. 'BPXPLS'\n",
       "50. 'WHD140'\n",
       "51. 'DR1TSODI'\n",
       "52. 'DR2TSODI'\n",
       "53. 'DRDTSODI'\n",
       "54. 'BPXSY1'\n",
       "55. 'BPXSY4'\n",
       "56. 'BPXSY2'\n",
       "57. 'BPXSY3'\n",
       "58. 'LBDTCSI'\n",
       "59. 'LBDSTRSI'\n",
       "60. 'BMXWAIST'\n",
       "61. 'BMXWT'\n",
       "62. 'LBXWBCSI'\n",
       "63. 'LBXSASSI'\n",
       "64. 'RHD143'\n",
       "\n",
       "\n"
      ],
      "text/plain": [
       " [1] \"SEQN\"     \"YEAR\"     \"RIDAGEYR\" \"ALQ130\"   \"DRXTALCO\" \"DR1TALCO\"\n",
       " [7] \"DR2TALCO\" \"BMXARMC\"  \"BMXARML\"  \"LBXSOSSI\" \"MCQ250A\"  \"LBDSBUSI\"\n",
       "[13] \"BMXBMI\"   \"DRXTCAFF\" \"DR1TCAFF\" \"DR2TCAFF\" \"DR1TCALC\" \"DR2TCALC\"\n",
       "[19] \"DRXTCALC\" \"DR1TCARB\" \"DR2TCARB\" \"DRXTCARB\" \"LB2SCLSI\" \"MCQ300c\" \n",
       "[25] \"MCQ300C\"  \"BPXDI1\"   \"BPXDI4\"   \"BPXDI2\"   \"BPXDI3\"   \"RIDRETH1\"\n",
       "[31] \"DR1TFIBE\" \"DR2TFIBE\" \"DRXTFIBE\" \"LBXSGTSI\" \"HSD010\"   \"HUQ010\"  \n",
       "[37] \"LBDHDLSI\" \"LBDHDDSI\" \"BMXHT\"    \"BPQ080\"   \"INDHHIN2\" \"DRXTKCAL\"\n",
       "[43] \"DR1TKCAL\" \"DR2TKCAL\" \"LBDLDLSI\" \"BMXLEG\"   \"LBDLYMNO\" \"LBXMCVSI\"\n",
       "[49] \"BPXPLS\"   \"WHD140\"   \"DR1TSODI\" \"DR2TSODI\" \"DRDTSODI\" \"BPXSY1\"  \n",
       "[55] \"BPXSY4\"   \"BPXSY2\"   \"BPXSY3\"   \"LBDTCSI\"  \"LBDSTRSI\" \"BMXWAIST\"\n",
       "[61] \"BMXWT\"    \"LBXWBCSI\" \"LBXSASSI\" \"RHD143\"  "
      ]
     },
     "metadata": {},
     "output_type": "display_data"
    }
   ],
   "source": [
    "colnames(df)"
   ]
  },
  {
   "cell_type": "markdown",
   "metadata": {
    "vscode": {
     "languageId": "r"
    }
   },
   "source": [
    "# 2. Pre-processing\n",
    "\n",
    "There are some fixes before the data is ready for analysis. \n",
    "\n",
    "\n",
    "## 2.1 Homogenize variables that are the same but are called diffrent in different NHANES years\n",
    "\n",
    "1. Intake variables went from 1 day in 1999 to 2001 to 2 days from 2003 on, therefore the variable has to be homogenized. Dinh et al. (2019) do not specify which examination records the authors, but my best guess is that they problably took the average of both days that the examination was performed. \n",
    "\n",
    "This situation happends with:\n",
    "\n",
    "- Alcohol intake (`DRXTALCO`, `DR1TALCO`, `DR2TALCO`)\n",
    "- Caffeine intake (`DRXTCAFF`, `DR1TCAFF`, `DR2TCAFF`)\n",
    "- Calcium intake (`DRXTCALC`, `DR1TCALC`, `DR2TCALC`)\n",
    "- Carbohydrate intake (`DRXTCARB`, `DR1TCARB`, `DR2TCARB`)\n",
    "- Fiber intake (`DRXTFIBE`, `DR1TFIBE`, `DR2TFIBE`)\n",
    "- Kcal intake (`DRXTKCAL`, `DR1TKCAL`, `DR2TKCAL`)\n",
    "- Sodium intake (`DRDTSODI`, `DR1TSODI`, `DR2TSODI`)\n",
    "\n",
    "\n",
    "2. Also, small changes in same quesion format are registered with different codes. Examples: \n",
    "\n",
    "    - `MCQ250A`, and `MCQ300C`\n",
    "    - `LBDHDDSI` and `LBDHDLSI`."
   ]
  },
  {
   "cell_type": "code",
   "execution_count": 226,
   "metadata": {
    "vscode": {
     "languageId": "r"
    }
   },
   "outputs": [
    {
     "data": {
      "text/html": [
       "<style>\n",
       ".list-inline {list-style: none; margin:0; padding: 0}\n",
       ".list-inline>li {display: inline-block}\n",
       ".list-inline>li:not(:last-child)::after {content: \"\\00b7\"; padding: 0 .5ex}\n",
       "</style>\n",
       "<ol class=list-inline><li>'1999-2000'</li><li>'2001-2002'</li></ol>\n"
      ],
      "text/latex": [
       "\\begin{enumerate*}\n",
       "\\item '1999-2000'\n",
       "\\item '2001-2002'\n",
       "\\end{enumerate*}\n"
      ],
      "text/markdown": [
       "1. '1999-2000'\n",
       "2. '2001-2002'\n",
       "\n",
       "\n"
      ],
      "text/plain": [
       "[1] \"1999-2000\" \"2001-2002\""
      ]
     },
     "metadata": {},
     "output_type": "display_data"
    }
   ],
   "source": [
    "# DRXTALCO only in 1999-2002\n",
    "unique(df$YEAR[!is.na(df$DRXTALCO)])\n"
   ]
  },
  {
   "cell_type": "code",
   "execution_count": 227,
   "metadata": {
    "vscode": {
     "languageId": "r"
    }
   },
   "outputs": [
    {
     "data": {
      "text/html": [
       "<style>\n",
       ".list-inline {list-style: none; margin:0; padding: 0}\n",
       ".list-inline>li {display: inline-block}\n",
       ".list-inline>li:not(:last-child)::after {content: \"\\00b7\"; padding: 0 .5ex}\n",
       "</style>\n",
       "<ol class=list-inline><li>'2003-2004'</li><li>'2005-2006'</li><li>'2007-2008'</li><li>'2009-2010'</li><li>'2011-2012'</li><li>'2013-2014'</li></ol>\n"
      ],
      "text/latex": [
       "\\begin{enumerate*}\n",
       "\\item '2003-2004'\n",
       "\\item '2005-2006'\n",
       "\\item '2007-2008'\n",
       "\\item '2009-2010'\n",
       "\\item '2011-2012'\n",
       "\\item '2013-2014'\n",
       "\\end{enumerate*}\n"
      ],
      "text/markdown": [
       "1. '2003-2004'\n",
       "2. '2005-2006'\n",
       "3. '2007-2008'\n",
       "4. '2009-2010'\n",
       "5. '2011-2012'\n",
       "6. '2013-2014'\n",
       "\n",
       "\n"
      ],
      "text/plain": [
       "[1] \"2003-2004\" \"2005-2006\" \"2007-2008\" \"2009-2010\" \"2011-2012\" \"2013-2014\""
      ]
     },
     "metadata": {},
     "output_type": "display_data"
    }
   ],
   "source": [
    "# DRXTALCO replaced to DR1TALCO and DR2TALCO 2003 onwards due to new procedure.\n",
    "unique(df$YEAR[!is.na(df$DR1TALCO)])\n"
   ]
  },
  {
   "cell_type": "code",
   "execution_count": 228,
   "metadata": {
    "vscode": {
     "languageId": "r"
    }
   },
   "outputs": [
    {
     "data": {
      "text/html": [
       "<table class=\"dataframe\">\n",
       "<caption>A tibble: 5 x 5</caption>\n",
       "<thead>\n",
       "\t<tr><th scope=col>Variable Name</th><th scope=col>NHANES Name</th><th scope=col>NHANES File</th><th scope=col>NHANES Type of data</th><th scope=col>Variable Definition</th></tr>\n",
       "\t<tr><th scope=col>&lt;chr&gt;</th><th scope=col>&lt;chr&gt;</th><th scope=col>&lt;chr&gt;</th><th scope=col>&lt;chr&gt;</th><th scope=col>&lt;chr&gt;</th></tr>\n",
       "</thead>\n",
       "<tbody>\n",
       "\t<tr><td>Blood relatives have diabetes</td><td>MCQ250A </td><td>MCQ              </td><td>Questionnaire</td><td>Including living and deceased, were any of {SP's/ your} biological that is, blood relatives including grandparents, parents, brothers, sisters ever told by a health professional that they had . . .diabetes?</td></tr>\n",
       "\t<tr><td>Close relative had diabetes  </td><td>MCQ300c </td><td>MCQ              </td><td>Questionnaire</td><td>Including living and deceased, were any of {SP's/your} close biological that is, blood relatives including father, mother, sisters or brothers, ever told by a health professional that they had diabetes?    </td></tr>\n",
       "\t<tr><td>Close relative had diabetes  </td><td>MCQ300C </td><td>MCQ              </td><td>Questionnaire</td><td>Including living and deceased, were any of {SP's/your} close biological that is, blood relatives including father, mother, sisters or brothers, ever told by a health professional that they had diabetes?    </td></tr>\n",
       "\t<tr><td>HDL-cholesterol              </td><td>LBDHDLSI</td><td>Lab13, l13_b, HDL</td><td>Laboratory   </td><td>HDL-cholesterol (mmol/L)                                                                                                                                                                                      </td></tr>\n",
       "\t<tr><td>HDL-cholesterol              </td><td>LBDHDDSI</td><td>Lab13, l13_b, HDL</td><td>Laboratory   </td><td>HDL-cholesterol (mmol/L)                                                                                                                                                                                      </td></tr>\n",
       "</tbody>\n",
       "</table>\n"
      ],
      "text/latex": [
       "A tibble: 5 x 5\n",
       "\\begin{tabular}{lllll}\n",
       " Variable Name & NHANES Name & NHANES File & NHANES Type of data & Variable Definition\\\\\n",
       " <chr> & <chr> & <chr> & <chr> & <chr>\\\\\n",
       "\\hline\n",
       "\t Blood relatives have diabetes & MCQ250A  & MCQ               & Questionnaire & Including living and deceased, were any of \\{SP's/ your\\} biological that is, blood relatives including grandparents, parents, brothers, sisters ever told by a health professional that they had . . .diabetes?\\\\\n",
       "\t Close relative had diabetes   & MCQ300c  & MCQ               & Questionnaire & Including living and deceased, were any of \\{SP's/your\\} close biological that is, blood relatives including father, mother, sisters or brothers, ever told by a health professional that they had diabetes?    \\\\\n",
       "\t Close relative had diabetes   & MCQ300C  & MCQ               & Questionnaire & Including living and deceased, were any of \\{SP's/your\\} close biological that is, blood relatives including father, mother, sisters or brothers, ever told by a health professional that they had diabetes?    \\\\\n",
       "\t HDL-cholesterol               & LBDHDLSI & Lab13, l13\\_b, HDL & Laboratory    & HDL-cholesterol (mmol/L)                                                                                                                                                                                      \\\\\n",
       "\t HDL-cholesterol               & LBDHDDSI & Lab13, l13\\_b, HDL & Laboratory    & HDL-cholesterol (mmol/L)                                                                                                                                                                                      \\\\\n",
       "\\end{tabular}\n"
      ],
      "text/markdown": [
       "\n",
       "A tibble: 5 x 5\n",
       "\n",
       "| Variable Name &lt;chr&gt; | NHANES Name &lt;chr&gt; | NHANES File &lt;chr&gt; | NHANES Type of data &lt;chr&gt; | Variable Definition &lt;chr&gt; |\n",
       "|---|---|---|---|---|\n",
       "| Blood relatives have diabetes | MCQ250A  | MCQ               | Questionnaire | Including living and deceased, were any of {SP's/ your} biological that is, blood relatives including grandparents, parents, brothers, sisters ever told by a health professional that they had . . .diabetes? |\n",
       "| Close relative had diabetes   | MCQ300c  | MCQ               | Questionnaire | Including living and deceased, were any of {SP's/your} close biological that is, blood relatives including father, mother, sisters or brothers, ever told by a health professional that they had diabetes?     |\n",
       "| Close relative had diabetes   | MCQ300C  | MCQ               | Questionnaire | Including living and deceased, were any of {SP's/your} close biological that is, blood relatives including father, mother, sisters or brothers, ever told by a health professional that they had diabetes?     |\n",
       "| HDL-cholesterol               | LBDHDLSI | Lab13, l13_b, HDL | Laboratory    | HDL-cholesterol (mmol/L)                                                                                                                                                                                       |\n",
       "| HDL-cholesterol               | LBDHDDSI | Lab13, l13_b, HDL | Laboratory    | HDL-cholesterol (mmol/L)                                                                                                                                                                                       |\n",
       "\n"
      ],
      "text/plain": [
       "  Variable Name                 NHANES Name NHANES File      \n",
       "1 Blood relatives have diabetes MCQ250A     MCQ              \n",
       "2 Close relative had diabetes   MCQ300c     MCQ              \n",
       "3 Close relative had diabetes   MCQ300C     MCQ              \n",
       "4 HDL-cholesterol               LBDHDLSI    Lab13, l13_b, HDL\n",
       "5 HDL-cholesterol               LBDHDDSI    Lab13, l13_b, HDL\n",
       "  NHANES Type of data\n",
       "1 Questionnaire      \n",
       "2 Questionnaire      \n",
       "3 Questionnaire      \n",
       "4 Laboratory         \n",
       "5 Laboratory         \n",
       "  Variable Definition                                                                                                                                                                                           \n",
       "1 Including living and deceased, were any of {SP's/ your} biological that is, blood relatives including grandparents, parents, brothers, sisters ever told by a health professional that they had . . .diabetes?\n",
       "2 Including living and deceased, were any of {SP's/your} close biological that is, blood relatives including father, mother, sisters or brothers, ever told by a health professional that they had diabetes?    \n",
       "3 Including living and deceased, were any of {SP's/your} close biological that is, blood relatives including father, mother, sisters or brothers, ever told by a health professional that they had diabetes?    \n",
       "4 HDL-cholesterol (mmol/L)                                                                                                                                                                                      \n",
       "5 HDL-cholesterol (mmol/L)                                                                                                                                                                                      "
      ]
     },
     "metadata": {},
     "output_type": "display_data"
    }
   ],
   "source": [
    "# Similar questions (or the same) with different NHANES variable codes\n",
    "var_docs <- read_excel(paste0(DATA_PATH, \"dinh_2019_variables_doc.xlsx\"))\n",
    "var_docs |> \n",
    "  filter(`NHANES Name` %in% c('MCQ250A', 'MCQ300C', 'MCQ300c', 'LBDHDDSI', 'LBDHDLSI'))"
   ]
  },
  {
   "cell_type": "code",
   "execution_count": 229,
   "metadata": {
    "vscode": {
     "languageId": "r"
    }
   },
   "outputs": [
    {
     "data": {
      "text/html": [
       "<style>\n",
       ".list-inline {list-style: none; margin:0; padding: 0}\n",
       ".list-inline>li {display: inline-block}\n",
       ".list-inline>li:not(:last-child)::after {content: \"\\00b7\"; padding: 0 .5ex}\n",
       "</style>\n",
       "<ol class=list-inline><li>'1999-2000'</li><li>'2001-2002'</li><li>'2003-2004'</li></ol>\n"
      ],
      "text/latex": [
       "\\begin{enumerate*}\n",
       "\\item '1999-2000'\n",
       "\\item '2001-2002'\n",
       "\\item '2003-2004'\n",
       "\\end{enumerate*}\n"
      ],
      "text/markdown": [
       "1. '1999-2000'\n",
       "2. '2001-2002'\n",
       "3. '2003-2004'\n",
       "\n",
       "\n"
      ],
      "text/plain": [
       "[1] \"1999-2000\" \"2001-2002\" \"2003-2004\""
      ]
     },
     "metadata": {},
     "output_type": "display_data"
    }
   ],
   "source": [
    "unique(df$YEAR[!is.na(df$MCQ250A)])\n"
   ]
  },
  {
   "cell_type": "code",
   "execution_count": 230,
   "metadata": {
    "vscode": {
     "languageId": "r"
    }
   },
   "outputs": [
    {
     "data": {
      "text/html": [
       "<style>\n",
       ".list-inline {list-style: none; margin:0; padding: 0}\n",
       ".list-inline>li {display: inline-block}\n",
       ".list-inline>li:not(:last-child)::after {content: \"\\00b7\"; padding: 0 .5ex}\n",
       "</style>\n",
       "<ol class=list-inline><li>'2005-2006'</li><li>'2007-2008'</li><li>'2009-2010'</li></ol>\n"
      ],
      "text/latex": [
       "\\begin{enumerate*}\n",
       "\\item '2005-2006'\n",
       "\\item '2007-2008'\n",
       "\\item '2009-2010'\n",
       "\\end{enumerate*}\n"
      ],
      "text/markdown": [
       "1. '2005-2006'\n",
       "2. '2007-2008'\n",
       "3. '2009-2010'\n",
       "\n",
       "\n"
      ],
      "text/plain": [
       "[1] \"2005-2006\" \"2007-2008\" \"2009-2010\""
      ]
     },
     "metadata": {},
     "output_type": "display_data"
    }
   ],
   "source": [
    "unique(df$YEAR[!is.na(df$MCQ300C)])\n"
   ]
  },
  {
   "cell_type": "code",
   "execution_count": 231,
   "metadata": {
    "vscode": {
     "languageId": "r"
    }
   },
   "outputs": [
    {
     "data": {
      "text/html": [
       "<style>\n",
       ".list-inline {list-style: none; margin:0; padding: 0}\n",
       ".list-inline>li {display: inline-block}\n",
       ".list-inline>li:not(:last-child)::after {content: \"\\00b7\"; padding: 0 .5ex}\n",
       "</style>\n",
       "<ol class=list-inline><li>'2011-2012'</li><li>'2013-2014'</li></ol>\n"
      ],
      "text/latex": [
       "\\begin{enumerate*}\n",
       "\\item '2011-2012'\n",
       "\\item '2013-2014'\n",
       "\\end{enumerate*}\n"
      ],
      "text/markdown": [
       "1. '2011-2012'\n",
       "2. '2013-2014'\n",
       "\n",
       "\n"
      ],
      "text/plain": [
       "[1] \"2011-2012\" \"2013-2014\""
      ]
     },
     "metadata": {},
     "output_type": "display_data"
    }
   ],
   "source": [
    "unique(df$YEAR[!is.na(df$MCQ300c)])"
   ]
  },
  {
   "cell_type": "code",
   "execution_count": 232,
   "metadata": {
    "vscode": {
     "languageId": "r"
    }
   },
   "outputs": [
    {
     "data": {
      "text/html": [
       "<style>\n",
       ".list-inline {list-style: none; margin:0; padding: 0}\n",
       ".list-inline>li {display: inline-block}\n",
       ".list-inline>li:not(:last-child)::after {content: \"\\00b7\"; padding: 0 .5ex}\n",
       "</style>\n",
       "<ol class=list-inline><li>'1999-2000'</li><li>'2001-2002'</li></ol>\n"
      ],
      "text/latex": [
       "\\begin{enumerate*}\n",
       "\\item '1999-2000'\n",
       "\\item '2001-2002'\n",
       "\\end{enumerate*}\n"
      ],
      "text/markdown": [
       "1. '1999-2000'\n",
       "2. '2001-2002'\n",
       "\n",
       "\n"
      ],
      "text/plain": [
       "[1] \"1999-2000\" \"2001-2002\""
      ]
     },
     "metadata": {},
     "output_type": "display_data"
    }
   ],
   "source": [
    "unique(df$YEAR[!is.na(df$LBDHDLSI)])"
   ]
  },
  {
   "cell_type": "code",
   "execution_count": 233,
   "metadata": {
    "vscode": {
     "languageId": "r"
    }
   },
   "outputs": [
    {
     "data": {
      "text/html": [
       "<style>\n",
       ".list-inline {list-style: none; margin:0; padding: 0}\n",
       ".list-inline>li {display: inline-block}\n",
       ".list-inline>li:not(:last-child)::after {content: \"\\00b7\"; padding: 0 .5ex}\n",
       "</style>\n",
       "<ol class=list-inline><li>'2003-2004'</li><li>'2005-2006'</li><li>'2007-2008'</li><li>'2009-2010'</li><li>'2011-2012'</li><li>'2013-2014'</li></ol>\n"
      ],
      "text/latex": [
       "\\begin{enumerate*}\n",
       "\\item '2003-2004'\n",
       "\\item '2005-2006'\n",
       "\\item '2007-2008'\n",
       "\\item '2009-2010'\n",
       "\\item '2011-2012'\n",
       "\\item '2013-2014'\n",
       "\\end{enumerate*}\n"
      ],
      "text/markdown": [
       "1. '2003-2004'\n",
       "2. '2005-2006'\n",
       "3. '2007-2008'\n",
       "4. '2009-2010'\n",
       "5. '2011-2012'\n",
       "6. '2013-2014'\n",
       "\n",
       "\n"
      ],
      "text/plain": [
       "[1] \"2003-2004\" \"2005-2006\" \"2007-2008\" \"2009-2010\" \"2011-2012\" \"2013-2014\""
      ]
     },
     "metadata": {},
     "output_type": "display_data"
    }
   ],
   "source": [
    "unique(df$YEAR[!is.na(df$LBDHDDSI)])"
   ]
  },
  {
   "cell_type": "code",
   "execution_count": 234,
   "metadata": {
    "vscode": {
     "languageId": "r"
    }
   },
   "outputs": [],
   "source": [
    "create_intake_new_column <- function(df, day0_col, day1_col, day2_col) {\n",
    "    ifelse(is.na(df[[day0_col]]), \n",
    "           rowMeans(df[, c(day1_col, day2_col)], na.rm = TRUE), \n",
    "           df[[day0_col]])\n",
    "}\n",
    "\n",
    "df_formated <- df |>\n",
    "# Create new columns\n",
    "  mutate(\n",
    "    # Alcohol intake\n",
    "    Alcohol_Intake = create_intake_new_column(df,'DRXTALCO', 'DR1TALCO', 'DR2TALCO'),\n",
    "    # Caffeine intake\n",
    "    Caffeine_Intake = create_intake_new_column(df,'DRXTCAFF', 'DR1TCAFF', 'DR2TCAFF'),\n",
    "    # Calcium intake\n",
    "    Calcium_Intake = create_intake_new_column(df,'DRXTCALC', 'DR1TCALC', 'DR2TCALC'),\n",
    "    # Carbohydrate intake\n",
    "    Carbohydrate_Intake = create_intake_new_column(df,'DRXTCARB', 'DR1TCARB', 'DR2TCARB'),\n",
    "    # Fiber intake\n",
    "    Fiber_Intake = create_intake_new_column(df,'DRXTFIBE', 'DR1TFIBE', 'DR2TFIBE'),\n",
    "    # Kcal intake\n",
    "    Kcal_Intake = create_intake_new_column(df,'DRXTKCAL', 'DR1TKCAL', 'DR2TKCAL'),\n",
    "    # Sodium intake\n",
    "    Sodium_Intake = create_intake_new_column(df,'DRDTSODI', 'DR1TSODI', 'DR2TSODI'),\n",
    "    # Relative_Had_Diabetes\n",
    "    Relative_Had_Diabetes = coalesce(MCQ250A, MCQ300C, MCQ300c),\n",
    "    # HDL-cholesterol\n",
    "    HDL_cholesterol = coalesce(LBDHDLSI, LBDHDDSI)\n",
    "   ) |>\n",
    "# Delete old columns that are not needed\n",
    "  select(-c(DRXTALCO, DR1TALCO, DR2TALCO, DRXTCAFF, DR1TCAFF, DR2TCAFF,\n",
    "            DRXTCALC, DR1TCALC, DR2TCALC, DRXTCARB, DR1TCARB, DR2TCARB,\n",
    "            DRXTFIBE, DR1TFIBE, DR2TFIBE, DRXTKCAL, DR1TKCAL, DR2TKCAL,\n",
    "            DRDTSODI, DR1TSODI, DR2TSODI, MCQ250A, MCQ300C, MCQ300c, LBDHDLSI, LBDHDDSI)\n",
    "            )"
   ]
  },
  {
   "cell_type": "code",
   "execution_count": 235,
   "metadata": {
    "vscode": {
     "languageId": "r"
    }
   },
   "outputs": [
    {
     "data": {
      "text/html": [
       "<style>\n",
       ".list-inline {list-style: none; margin:0; padding: 0}\n",
       ".list-inline>li {display: inline-block}\n",
       ".list-inline>li:not(:last-child)::after {content: \"\\00b7\"; padding: 0 .5ex}\n",
       "</style>\n",
       "<ol class=list-inline><li>'1999-2000'</li><li>'2001-2002'</li><li>'2003-2004'</li><li>'2005-2006'</li><li>'2007-2008'</li><li>'2009-2010'</li><li>'2011-2012'</li><li>'2013-2014'</li></ol>\n"
      ],
      "text/latex": [
       "\\begin{enumerate*}\n",
       "\\item '1999-2000'\n",
       "\\item '2001-2002'\n",
       "\\item '2003-2004'\n",
       "\\item '2005-2006'\n",
       "\\item '2007-2008'\n",
       "\\item '2009-2010'\n",
       "\\item '2011-2012'\n",
       "\\item '2013-2014'\n",
       "\\end{enumerate*}\n"
      ],
      "text/markdown": [
       "1. '1999-2000'\n",
       "2. '2001-2002'\n",
       "3. '2003-2004'\n",
       "4. '2005-2006'\n",
       "5. '2007-2008'\n",
       "6. '2009-2010'\n",
       "7. '2011-2012'\n",
       "8. '2013-2014'\n",
       "\n",
       "\n"
      ],
      "text/plain": [
       "[1] \"1999-2000\" \"2001-2002\" \"2003-2004\" \"2005-2006\" \"2007-2008\" \"2009-2010\"\n",
       "[7] \"2011-2012\" \"2013-2014\""
      ]
     },
     "metadata": {},
     "output_type": "display_data"
    }
   ],
   "source": [
    "unique(df_formated$YEAR[!is.na(df_formated$Relative_Had_Diabetes)])\n"
   ]
  },
  {
   "cell_type": "markdown",
   "metadata": {},
   "source": [
    "## 2.2 Discretional trimming of the data according to the authors\n",
    "\n",
    "> In our study, all datasets were limited to non-pregnant subjects and adults of at least twenty years of age."
   ]
  },
  {
   "cell_type": "code",
   "execution_count": 240,
   "metadata": {
    "vscode": {
     "languageId": "r"
    }
   },
   "outputs": [],
   "source": [
    "df_formated <- df_formated |> \n",
    "  filter(RHD143 == 2) |>  # Are you pregnant now? = \"No\"\n",
    "  filter(RIDAGEYR >= 20) "
   ]
  },
  {
   "cell_type": "markdown",
   "metadata": {
    "vscode": {
     "languageId": "r"
    }
   },
   "source": [
    "> The preprocessing stage also converted any undecipherable values (errors in datatypes and standard formatting) from the database to null representations.\n",
    "\n",
    "For this, I've checked the variables according to their possible values in the NHANES documentation"
   ]
  },
  {
   "cell_type": "code",
   "execution_count": 245,
   "metadata": {
    "vscode": {
     "languageId": "r"
    }
   },
   "outputs": [
    {
     "data": {
      "text/html": [
       "<style>\n",
       ".list-inline {list-style: none; margin:0; padding: 0}\n",
       ".list-inline>li {display: inline-block}\n",
       ".list-inline>li:not(:last-child)::after {content: \"\\00b7\"; padding: 0 .5ex}\n",
       "</style>\n",
       "<ol class=list-inline><li>'SEQN'</li><li>'YEAR'</li><li>'RIDAGEYR'</li><li>'ALQ130'</li><li>'BMXARMC'</li><li>'BMXARML'</li><li>'LBXSOSSI'</li><li>'LBDSBUSI'</li><li>'BMXBMI'</li><li>'LB2SCLSI'</li><li>'BPXDI1'</li><li>'BPXDI4'</li><li>'BPXDI2'</li><li>'BPXDI3'</li><li>'RIDRETH1'</li><li>'LBXSGTSI'</li><li>'HSD010'</li><li>'HUQ010'</li><li>'BMXHT'</li><li>'BPQ080'</li><li>'INDHHIN2'</li><li>'LBDLDLSI'</li><li>'BMXLEG'</li><li>'LBDLYMNO'</li><li>'LBXMCVSI'</li><li>'BPXPLS'</li><li>'WHD140'</li><li>'BPXSY1'</li><li>'BPXSY4'</li><li>'BPXSY2'</li><li>'BPXSY3'</li><li>'LBDTCSI'</li><li>'LBDSTRSI'</li><li>'BMXWAIST'</li><li>'BMXWT'</li><li>'LBXWBCSI'</li><li>'LBXSASSI'</li><li>'RHD143'</li><li>'Alcohol_Intake'</li><li>'Caffeine_Intake'</li><li>'Calcium_Intake'</li><li>'Carbohydrate_Intake'</li><li>'Fiber_Intake'</li><li>'Kcal_Intake'</li><li>'Sodium_Intake'</li><li>'Relative_Had_Diabetes'</li><li>'HDL_cholesterol'</li></ol>\n"
      ],
      "text/latex": [
       "\\begin{enumerate*}\n",
       "\\item 'SEQN'\n",
       "\\item 'YEAR'\n",
       "\\item 'RIDAGEYR'\n",
       "\\item 'ALQ130'\n",
       "\\item 'BMXARMC'\n",
       "\\item 'BMXARML'\n",
       "\\item 'LBXSOSSI'\n",
       "\\item 'LBDSBUSI'\n",
       "\\item 'BMXBMI'\n",
       "\\item 'LB2SCLSI'\n",
       "\\item 'BPXDI1'\n",
       "\\item 'BPXDI4'\n",
       "\\item 'BPXDI2'\n",
       "\\item 'BPXDI3'\n",
       "\\item 'RIDRETH1'\n",
       "\\item 'LBXSGTSI'\n",
       "\\item 'HSD010'\n",
       "\\item 'HUQ010'\n",
       "\\item 'BMXHT'\n",
       "\\item 'BPQ080'\n",
       "\\item 'INDHHIN2'\n",
       "\\item 'LBDLDLSI'\n",
       "\\item 'BMXLEG'\n",
       "\\item 'LBDLYMNO'\n",
       "\\item 'LBXMCVSI'\n",
       "\\item 'BPXPLS'\n",
       "\\item 'WHD140'\n",
       "\\item 'BPXSY1'\n",
       "\\item 'BPXSY4'\n",
       "\\item 'BPXSY2'\n",
       "\\item 'BPXSY3'\n",
       "\\item 'LBDTCSI'\n",
       "\\item 'LBDSTRSI'\n",
       "\\item 'BMXWAIST'\n",
       "\\item 'BMXWT'\n",
       "\\item 'LBXWBCSI'\n",
       "\\item 'LBXSASSI'\n",
       "\\item 'RHD143'\n",
       "\\item 'Alcohol\\_Intake'\n",
       "\\item 'Caffeine\\_Intake'\n",
       "\\item 'Calcium\\_Intake'\n",
       "\\item 'Carbohydrate\\_Intake'\n",
       "\\item 'Fiber\\_Intake'\n",
       "\\item 'Kcal\\_Intake'\n",
       "\\item 'Sodium\\_Intake'\n",
       "\\item 'Relative\\_Had\\_Diabetes'\n",
       "\\item 'HDL\\_cholesterol'\n",
       "\\end{enumerate*}\n"
      ],
      "text/markdown": [
       "1. 'SEQN'\n",
       "2. 'YEAR'\n",
       "3. 'RIDAGEYR'\n",
       "4. 'ALQ130'\n",
       "5. 'BMXARMC'\n",
       "6. 'BMXARML'\n",
       "7. 'LBXSOSSI'\n",
       "8. 'LBDSBUSI'\n",
       "9. 'BMXBMI'\n",
       "10. 'LB2SCLSI'\n",
       "11. 'BPXDI1'\n",
       "12. 'BPXDI4'\n",
       "13. 'BPXDI2'\n",
       "14. 'BPXDI3'\n",
       "15. 'RIDRETH1'\n",
       "16. 'LBXSGTSI'\n",
       "17. 'HSD010'\n",
       "18. 'HUQ010'\n",
       "19. 'BMXHT'\n",
       "20. 'BPQ080'\n",
       "21. 'INDHHIN2'\n",
       "22. 'LBDLDLSI'\n",
       "23. 'BMXLEG'\n",
       "24. 'LBDLYMNO'\n",
       "25. 'LBXMCVSI'\n",
       "26. 'BPXPLS'\n",
       "27. 'WHD140'\n",
       "28. 'BPXSY1'\n",
       "29. 'BPXSY4'\n",
       "30. 'BPXSY2'\n",
       "31. 'BPXSY3'\n",
       "32. 'LBDTCSI'\n",
       "33. 'LBDSTRSI'\n",
       "34. 'BMXWAIST'\n",
       "35. 'BMXWT'\n",
       "36. 'LBXWBCSI'\n",
       "37. 'LBXSASSI'\n",
       "38. 'RHD143'\n",
       "39. 'Alcohol_Intake'\n",
       "40. 'Caffeine_Intake'\n",
       "41. 'Calcium_Intake'\n",
       "42. 'Carbohydrate_Intake'\n",
       "43. 'Fiber_Intake'\n",
       "44. 'Kcal_Intake'\n",
       "45. 'Sodium_Intake'\n",
       "46. 'Relative_Had_Diabetes'\n",
       "47. 'HDL_cholesterol'\n",
       "\n",
       "\n"
      ],
      "text/plain": [
       " [1] \"SEQN\"                  \"YEAR\"                  \"RIDAGEYR\"             \n",
       " [4] \"ALQ130\"                \"BMXARMC\"               \"BMXARML\"              \n",
       " [7] \"LBXSOSSI\"              \"LBDSBUSI\"              \"BMXBMI\"               \n",
       "[10] \"LB2SCLSI\"              \"BPXDI1\"                \"BPXDI4\"               \n",
       "[13] \"BPXDI2\"                \"BPXDI3\"                \"RIDRETH1\"             \n",
       "[16] \"LBXSGTSI\"              \"HSD010\"                \"HUQ010\"               \n",
       "[19] \"BMXHT\"                 \"BPQ080\"                \"INDHHIN2\"             \n",
       "[22] \"LBDLDLSI\"              \"BMXLEG\"                \"LBDLYMNO\"             \n",
       "[25] \"LBXMCVSI\"              \"BPXPLS\"                \"WHD140\"               \n",
       "[28] \"BPXSY1\"                \"BPXSY4\"                \"BPXSY2\"               \n",
       "[31] \"BPXSY3\"                \"LBDTCSI\"               \"LBDSTRSI\"             \n",
       "[34] \"BMXWAIST\"              \"BMXWT\"                 \"LBXWBCSI\"             \n",
       "[37] \"LBXSASSI\"              \"RHD143\"                \"Alcohol_Intake\"       \n",
       "[40] \"Caffeine_Intake\"       \"Calcium_Intake\"        \"Carbohydrate_Intake\"  \n",
       "[43] \"Fiber_Intake\"          \"Kcal_Intake\"           \"Sodium_Intake\"        \n",
       "[46] \"Relative_Had_Diabetes\" \"HDL_cholesterol\"      "
      ]
     },
     "metadata": {},
     "output_type": "display_data"
    }
   ],
   "source": [
    "colnames(df_formated)"
   ]
  },
  {
   "cell_type": "code",
   "execution_count": 251,
   "metadata": {
    "vscode": {
     "languageId": "r"
    }
   },
   "outputs": [
    {
     "data": {
      "text/html": [
       "<style>\n",
       ".list-inline {list-style: none; margin:0; padding: 0}\n",
       ".list-inline>li {display: inline-block}\n",
       ".list-inline>li:not(:last-child)::after {content: \"\\00b7\"; padding: 0 .5ex}\n",
       "</style>\n",
       "<ol class=list-inline><li>4</li><li>2</li><li>1</li><li>3</li><li>10</li><li>&lt;NA&gt;</li><li>6</li><li>12</li><li>5</li><li>7</li><li>50</li><li>8</li><li>9</li><li>20</li><li>999</li><li>15</li><li>16</li><li>17</li><li>23</li><li>777</li><li>13</li><li>18</li></ol>\n"
      ],
      "text/latex": [
       "\\begin{enumerate*}\n",
       "\\item 4\n",
       "\\item 2\n",
       "\\item 1\n",
       "\\item 3\n",
       "\\item 10\n",
       "\\item <NA>\n",
       "\\item 6\n",
       "\\item 12\n",
       "\\item 5\n",
       "\\item 7\n",
       "\\item 50\n",
       "\\item 8\n",
       "\\item 9\n",
       "\\item 20\n",
       "\\item 999\n",
       "\\item 15\n",
       "\\item 16\n",
       "\\item 17\n",
       "\\item 23\n",
       "\\item 777\n",
       "\\item 13\n",
       "\\item 18\n",
       "\\end{enumerate*}\n"
      ],
      "text/markdown": [
       "1. 4\n",
       "2. 2\n",
       "3. 1\n",
       "4. 3\n",
       "5. 10\n",
       "6. &lt;NA&gt;\n",
       "7. 6\n",
       "8. 12\n",
       "9. 5\n",
       "10. 7\n",
       "11. 50\n",
       "12. 8\n",
       "13. 9\n",
       "14. 20\n",
       "15. 999\n",
       "16. 15\n",
       "17. 16\n",
       "18. 17\n",
       "19. 23\n",
       "20. 777\n",
       "21. 13\n",
       "22. 18\n",
       "\n",
       "\n"
      ],
      "text/plain": [
       " [1]   4   2   1   3  10  NA   6  12   5   7  50   8   9  20 999  15  16  17  23\n",
       "[20] 777  13  18"
      ]
     },
     "metadata": {},
     "output_type": "display_data"
    }
   ],
   "source": [
    "unique(df_formated$ALQ130)"
   ]
  },
  {
   "cell_type": "code",
   "execution_count": 250,
   "metadata": {
    "vscode": {
     "languageId": "r"
    }
   },
   "outputs": [
    {
     "name": "stderr",
     "output_type": "stream",
     "text": [
      "Warning message in cbind(parts$left, chars$ellip_h, parts$right, deparse.level = 0L):\n",
      "\"number of rows of result is not a multiple of vector length (arg 2)\"\n",
      "Warning message in cbind(parts$left, chars$ellip_h, parts$right, deparse.level = 0L):\n",
      "\"number of rows of result is not a multiple of vector length (arg 2)\"\n",
      "Warning message in cbind(parts$left, chars$ellip_h, parts$right, deparse.level = 0L):\n",
      "\"number of rows of result is not a multiple of vector length (arg 2)\"\n",
      "Warning message in cbind(parts$left, chars$ellip_h, parts$right, deparse.level = 0L):\n",
      "\"number of rows of result is not a multiple of vector length (arg 2)\"\n"
     ]
    },
    {
     "data": {
      "text/html": [
       "<table class=\"dataframe\">\n",
       "<caption>A tibble: 0 x 47</caption>\n",
       "<thead>\n",
       "\t<tr><th scope=col>SEQN</th><th scope=col>YEAR</th><th scope=col>RIDAGEYR</th><th scope=col>ALQ130</th><th scope=col>BMXARMC</th><th scope=col>BMXARML</th><th scope=col>LBXSOSSI</th><th scope=col>LBDSBUSI</th><th scope=col>BMXBMI</th><th scope=col>LB2SCLSI</th><th scope=col>...</th><th scope=col>RHD143</th><th scope=col>Alcohol_Intake</th><th scope=col>Caffeine_Intake</th><th scope=col>Calcium_Intake</th><th scope=col>Carbohydrate_Intake</th><th scope=col>Fiber_Intake</th><th scope=col>Kcal_Intake</th><th scope=col>Sodium_Intake</th><th scope=col>Relative_Had_Diabetes</th><th scope=col>HDL_cholesterol</th></tr>\n",
       "\t<tr><th scope=col>&lt;dbl&gt;</th><th scope=col>&lt;chr&gt;</th><th scope=col>&lt;dbl&gt;</th><th scope=col>&lt;dbl&gt;</th><th scope=col>&lt;dbl&gt;</th><th scope=col>&lt;dbl&gt;</th><th scope=col>&lt;dbl&gt;</th><th scope=col>&lt;dbl&gt;</th><th scope=col>&lt;dbl&gt;</th><th scope=col>&lt;dbl&gt;</th><th scope=col>...</th><th scope=col>&lt;dbl&gt;</th><th scope=col>&lt;dbl&gt;</th><th scope=col>&lt;dbl&gt;</th><th scope=col>&lt;dbl&gt;</th><th scope=col>&lt;dbl&gt;</th><th scope=col>&lt;dbl&gt;</th><th scope=col>&lt;dbl&gt;</th><th scope=col>&lt;dbl&gt;</th><th scope=col>&lt;dbl&gt;</th><th scope=col>&lt;dbl&gt;</th></tr>\n",
       "</thead>\n",
       "<tbody>\n",
       "</tbody>\n",
       "</table>\n"
      ],
      "text/latex": [
       "A tibble: 0 x 47\n",
       "\\begin{tabular}{lllllllllllllllllllll}\n",
       " SEQN & YEAR & RIDAGEYR & ALQ130 & BMXARMC & BMXARML & LBXSOSSI & LBDSBUSI & BMXBMI & LB2SCLSI & ... & RHD143 & Alcohol\\_Intake & Caffeine\\_Intake & Calcium\\_Intake & Carbohydrate\\_Intake & Fiber\\_Intake & Kcal\\_Intake & Sodium\\_Intake & Relative\\_Had\\_Diabetes & HDL\\_cholesterol\\\\\n",
       " <dbl> & <chr> & <dbl> & <dbl> & <dbl> & <dbl> & <dbl> & <dbl> & <dbl> & <dbl> & ... & <dbl> & <dbl> & <dbl> & <dbl> & <dbl> & <dbl> & <dbl> & <dbl> & <dbl> & <dbl>\\\\\n",
       "\\hline\n",
       "\\end{tabular}\n"
      ],
      "text/markdown": [
       "\n",
       "A tibble: 0 x 47\n",
       "\n",
       "| SEQN &lt;dbl&gt; | YEAR &lt;chr&gt; | RIDAGEYR &lt;dbl&gt; | ALQ130 &lt;dbl&gt; | BMXARMC &lt;dbl&gt; | BMXARML &lt;dbl&gt; | LBXSOSSI &lt;dbl&gt; | LBDSBUSI &lt;dbl&gt; | BMXBMI &lt;dbl&gt; | LB2SCLSI &lt;dbl&gt; | ... ... | RHD143 &lt;dbl&gt; | Alcohol_Intake &lt;dbl&gt; | Caffeine_Intake &lt;dbl&gt; | Calcium_Intake &lt;dbl&gt; | Carbohydrate_Intake &lt;dbl&gt; | Fiber_Intake &lt;dbl&gt; | Kcal_Intake &lt;dbl&gt; | Sodium_Intake &lt;dbl&gt; | Relative_Had_Diabetes &lt;dbl&gt; | HDL_cholesterol &lt;dbl&gt; |\n",
       "|---|---|---|---|---|---|---|---|---|---|---|---|---|---|---|---|---|---|---|---|---|\n",
       "\n"
      ],
      "text/plain": [
       "     SEQN YEAR RIDAGEYR ALQ130 BMXARMC BMXARML LBXSOSSI LBDSBUSI BMXBMI\n",
       "     LB2SCLSI ... RHD143 Alcohol_Intake Caffeine_Intake Calcium_Intake\n",
       "     Carbohydrate_Intake Fiber_Intake Kcal_Intake Sodium_Intake\n",
       "     Relative_Had_Diabetes HDL_cholesterol"
      ]
     },
     "metadata": {},
     "output_type": "display_data"
    }
   ],
   "source": [
    "df_formated %>%\n",
    "  filter(RIDAGEYR < 20 & RIDAGEYR > 80) |> \n",
    "  \n",
    "\n"
   ]
  },
  {
   "cell_type": "code",
   "execution_count": 243,
   "metadata": {
    "vscode": {
     "languageId": "r"
    }
   },
   "outputs": [
    {
     "data": {
      "text/html": [
       "<style>\n",
       ".list-inline {list-style: none; margin:0; padding: 0}\n",
       ".list-inline>li {display: inline-block}\n",
       ".list-inline>li:not(:last-child)::after {content: \"\\00b7\"; padding: 0 .5ex}\n",
       "</style>\n",
       "<ol class=list-inline><li>20</li><li>21</li><li>22</li><li>23</li><li>24</li><li>25</li><li>26</li><li>27</li><li>28</li><li>29</li><li>30</li><li>31</li><li>32</li><li>33</li><li>34</li><li>35</li><li>36</li><li>37</li><li>38</li><li>39</li><li>40</li><li>41</li><li>42</li><li>43</li><li>44</li><li>45</li><li>46</li><li>47</li><li>48</li><li>49</li><li>50</li><li>51</li><li>52</li><li>53</li><li>54</li><li>55</li><li>56</li><li>57</li><li>58</li><li>61</li><li>76</li><li>85</li></ol>\n"
      ],
      "text/latex": [
       "\\begin{enumerate*}\n",
       "\\item 20\n",
       "\\item 21\n",
       "\\item 22\n",
       "\\item 23\n",
       "\\item 24\n",
       "\\item 25\n",
       "\\item 26\n",
       "\\item 27\n",
       "\\item 28\n",
       "\\item 29\n",
       "\\item 30\n",
       "\\item 31\n",
       "\\item 32\n",
       "\\item 33\n",
       "\\item 34\n",
       "\\item 35\n",
       "\\item 36\n",
       "\\item 37\n",
       "\\item 38\n",
       "\\item 39\n",
       "\\item 40\n",
       "\\item 41\n",
       "\\item 42\n",
       "\\item 43\n",
       "\\item 44\n",
       "\\item 45\n",
       "\\item 46\n",
       "\\item 47\n",
       "\\item 48\n",
       "\\item 49\n",
       "\\item 50\n",
       "\\item 51\n",
       "\\item 52\n",
       "\\item 53\n",
       "\\item 54\n",
       "\\item 55\n",
       "\\item 56\n",
       "\\item 57\n",
       "\\item 58\n",
       "\\item 61\n",
       "\\item 76\n",
       "\\item 85\n",
       "\\end{enumerate*}\n"
      ],
      "text/markdown": [
       "1. 20\n",
       "2. 21\n",
       "3. 22\n",
       "4. 23\n",
       "5. 24\n",
       "6. 25\n",
       "7. 26\n",
       "8. 27\n",
       "9. 28\n",
       "10. 29\n",
       "11. 30\n",
       "12. 31\n",
       "13. 32\n",
       "14. 33\n",
       "15. 34\n",
       "16. 35\n",
       "17. 36\n",
       "18. 37\n",
       "19. 38\n",
       "20. 39\n",
       "21. 40\n",
       "22. 41\n",
       "23. 42\n",
       "24. 43\n",
       "25. 44\n",
       "26. 45\n",
       "27. 46\n",
       "28. 47\n",
       "29. 48\n",
       "30. 49\n",
       "31. 50\n",
       "32. 51\n",
       "33. 52\n",
       "34. 53\n",
       "35. 54\n",
       "36. 55\n",
       "37. 56\n",
       "38. 57\n",
       "39. 58\n",
       "40. 61\n",
       "41. 76\n",
       "42. 85\n",
       "\n",
       "\n"
      ],
      "text/plain": [
       " [1] 20 21 22 23 24 25 26 27 28 29 30 31 32 33 34 35 36 37 38 39 40 41 42 43 44\n",
       "[26] 45 46 47 48 49 50 51 52 53 54 55 56 57 58 61 76 85"
      ]
     },
     "metadata": {},
     "output_type": "display_data"
    }
   ],
   "source": [
    "sort(unique(df_formated$RIDAGEYR))"
   ]
  },
  {
   "cell_type": "code",
   "execution_count": null,
   "metadata": {
    "vscode": {
     "languageId": "r"
    }
   },
   "outputs": [],
   "source": [
    "\n",
    "\n",
    "\n",
    "seeing if there is any extreme value that might be due to bad input of the data. According to the paper:\n",
    "\n",
    "> The preprocessing stage also converted any undecipherable values (errors in datatypes and standard formatting) from the database to null representations."
   ]
  },
  {
   "cell_type": "code",
   "execution_count": null,
   "metadata": {
    "vscode": {
     "languageId": "r"
    }
   },
   "outputs": [],
   "source": [
    "boxplot(df[, c('col1', 'col2', 'colN')])\n"
   ]
  },
  {
   "cell_type": "code",
   "execution_count": null,
   "metadata": {
    "vscode": {
     "languageId": "r"
    }
   },
   "outputs": [],
   "source": [
    "normalize_columns <- function(master, columns) {\n",
    "  for (column in columns) {\n",
    "    master[, column] <- (master[, column] - min(master[, column])) / (max(master[, column]) - min(master[, column]))\n",
    "  }\n",
    "  return(master)\n",
    "}\n"
   ]
  }
 ],
 "metadata": {
  "kernelspec": {
   "display_name": "R",
   "language": "R",
   "name": "ir"
  },
  "language_info": {
   "codemirror_mode": "r",
   "file_extension": ".r",
   "mimetype": "text/x-r-source",
   "name": "R",
   "pygments_lexer": "r",
   "version": "4.4.1"
  }
 },
 "nbformat": 4,
 "nbformat_minor": 2
}
