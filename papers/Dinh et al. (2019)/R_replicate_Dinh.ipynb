{
 "cells": [
  {
   "cell_type": "markdown",
   "metadata": {},
   "source": [
    "# Dinh et al. (2019)\n",
    "\n",
    "## A data-driven approach to predicting diabetes and cardiovascular disease with machine learning\n",
    "\n",
    "URL: https://bmcmedinformdecismak.biomedcentral.com/articles/10.1186/s12911-019-0918-5\n",
    "\n",
    "\n",
    "## Brief Summary\n",
    "\n",
    "Dinh et al. (2019) uses different ML models (logistic regression, support vector machines, random forest, and gradient boosting) on NHANES dataset to predict i) Diabetes and ii) Cardiovascular disease (\"CVD\").\n",
    "\n",
    "**Goal**: Identification mechanism for patients at risk of diabetes and cardiovascular diseases and key contributors to diabetes .\n",
    "\n",
    "**Results**:\n",
    "\n",
    "Best scores:\n",
    "\n",
    "- CVB prediction based on 131 NHANES variables achieved an AU-ROC score of 83.9% .\n",
    "- Diabetes prediction based on 123 NHANES variables achieved an AU-ROC score of 95.7% .\n",
    "- Pre-diabetic prediction based on 123 NHANES variables achieved an AU-ROC score of 84.4% .\n",
    "- Top 5 predictors in diabetes patients were 1) `waist size`, 2) `age`, 3) `self-reported weight`, 4) `leg length`, 5) `sodium intake`.\n",
    "\n",
    "\n",
    "\n",
    "This notebook replicates the results of the paper. The structure follows the following steps: \n",
    "\n",
    "1. NHANES data \n",
    "2. Pre-processing of the data\n",
    "3. Transformation of the data\n",
    "4. Train/Test Split \n",
    "5. CV 10-fold\n",
    "6. Training monitoring using MLflow\n",
    "7. Get metric results (AUC)\n",
    "\n",
    "\n",
    "The structure of the analysis emulates the Figure 1 from the paper: \n",
    "\n",
    "![Fig 1 from Dinh et al. 2019](https://raw.githubusercontent.com/pipegalera/ml_diabetes/main/images/dinh_2019_Fig1.png)\n"
   ]
  },
  {
   "cell_type": "code",
   "execution_count": 98,
   "metadata": {},
   "outputs": [],
   "source": [
    "# install.packages('caret', dependencies = TRUE)\n",
    "# install.packages('ggplot2')\n",
    "# install.packages('glue')\n",
    "# install.packages('recipes')\n",
    "# install.packages('pROC')\n",
    "# install.packages('arrow')\n",
    "# install.packages('dplyr')\n",
    "# install.packages('readxl')\n",
    "# install.packages('doParallel')"
   ]
  },
  {
   "cell_type": "code",
   "execution_count": 106,
   "metadata": {
    "vscode": {
     "languageId": "r"
    }
   },
   "outputs": [],
   "source": [
    "library(arrow)\n",
    "library(ggplot2)\n",
    "library(dplyr)\n",
    "library(readxl)\n",
    "library(caret)\n",
    "library(glue)\n",
    "library(recipes)\n",
    "library(pROC)\n",
    "library(doParallel)\n",
    "\n",
    "SEED <- 4208\n",
    "DATA_PATH  <- \"/Users/pipegalera/dev/ml_diabetes/data/raw_data/NHANES/\"\n",
    "DINH_DOCS_PATH <- \"/Users/pipegalera/dev/ml_diabetes/data/processed/NHANES/\""
   ]
  },
  {
   "cell_type": "markdown",
   "metadata": {
    "vscode": {
     "languageId": "r"
    }
   },
   "source": [
    "## 1. HNANES data"
   ]
  },
  {
   "cell_type": "markdown",
   "metadata": {},
   "source": [
    "### Covariates and Targets \n",
    "\n",
    "- Source: https://www.cdc.gov/nchs/index.htm\n",
    "- Downloaded raw data via: `notebooksnhanes_data_backfill`\n",
    "\n",
    "\n",
    "The paper did not mention what variables they use from NHANES. I emailed the author in the correspondence section of the paper to try to get the list of variables they used, but no answer from him yet.\n",
    "\n",
    "Please notice that NHANES have more than 3900 variables, therefore without the list of the specific variables used it is impossible to fully replicate the paper.\n",
    "\n",
    "For now, I will consider the variables taken from [Figure 5](https://raw.githubusercontent.com/pipegalera/ml_diabetes/main/images/dinh_2019_Fig5.png) and [Figure 6](https://raw.githubusercontent.com/pipegalera/ml_diabetes/main/images/dinh_2019_Fig6.png) of the paper. I compiled them by hand in an Excel file using NHANES search tool for variables (see: `processed/NHANES/dinh_2019_variables_doc.xlsx`).\n",
    "\n",
    "\n",
    "- `Case I: Diabetes`\n",
    "\n",
    "    - Glucose >= 126 mg/dL. OR;\n",
    "    - \"Yes\" to the question \"Have you ever been told by a doctor that you have diabetes?\"\n",
    "\n",
    "- `Case II: Undiagnosed Diabetes`\n",
    "\n",
    "    - Glucose >= 126 mg/dL. AND;\n",
    "    - \"No\" to the question \"Have you ever been told by a doctor that you have diabetes?\"\n",
    "\n",
    "- `Cardiovascular disease`\n",
    "\n",
    "    - \"Yes\" to any of the the questions \"Have you ever been told by a doctor that you had congestive heart failure, coronary heart disease, a heart attack, or a stroke?\"\n",
    "\n",
    "- `Pre diabetes`\n",
    "\n",
    "    - Glucose 125 >= 100 mg/dL"
   ]
  },
  {
   "cell_type": "code",
   "execution_count": 52,
   "metadata": {
    "vscode": {
     "languageId": "r"
    }
   },
   "outputs": [
    {
     "data": {
      "text/html": [
       "<table class=\"dataframe\">\n",
       "<caption>A tibble: 15 × 2</caption>\n",
       "<thead>\n",
       "\t<tr><th scope=col>Variable Name</th><th scope=col>NHANES Name</th></tr>\n",
       "\t<tr><th scope=col>&lt;chr&gt;</th><th scope=col>&lt;chr&gt;</th></tr>\n",
       "</thead>\n",
       "<tbody>\n",
       "\t<tr><td>Age                          </td><td>RIDAGEYR</td></tr>\n",
       "\t<tr><td>Alcohol consumption          </td><td>ALQ130  </td></tr>\n",
       "\t<tr><td>Alcohol intake               </td><td>DRXTALCO</td></tr>\n",
       "\t<tr><td>Alcohol intake, First Day    </td><td>DR1TALCO</td></tr>\n",
       "\t<tr><td>Alcohol intake, Second Day   </td><td>DR2TALCO</td></tr>\n",
       "\t<tr><td>Arm circumference            </td><td>BMXARMC </td></tr>\n",
       "\t<tr><td>Arm length                   </td><td>BMXARML </td></tr>\n",
       "\t<tr><td>Blood osmolality             </td><td>LBXSOSSI</td></tr>\n",
       "\t<tr><td>Blood relatives have diabetes</td><td>MCQ250A </td></tr>\n",
       "\t<tr><td>Blood urea nitrogen          </td><td>LBDSBUSI</td></tr>\n",
       "\t<tr><td>BMI                          </td><td>BMXBMI  </td></tr>\n",
       "\t<tr><td>Caffeine intake              </td><td>DRXTCAFF</td></tr>\n",
       "\t<tr><td>Caffeine intake, First Day   </td><td>DR1TCAFF</td></tr>\n",
       "\t<tr><td>Caffeine intake, Second Day  </td><td>DR2TCAFF</td></tr>\n",
       "\t<tr><td>Calcium intake, First Day    </td><td>DR1TCALC</td></tr>\n",
       "</tbody>\n",
       "</table>\n"
      ],
      "text/latex": [
       "A tibble: 15 × 2\n",
       "\\begin{tabular}{ll}\n",
       " Variable Name & NHANES Name\\\\\n",
       " <chr> & <chr>\\\\\n",
       "\\hline\n",
       "\t Age                           & RIDAGEYR\\\\\n",
       "\t Alcohol consumption           & ALQ130  \\\\\n",
       "\t Alcohol intake                & DRXTALCO\\\\\n",
       "\t Alcohol intake, First Day     & DR1TALCO\\\\\n",
       "\t Alcohol intake, Second Day    & DR2TALCO\\\\\n",
       "\t Arm circumference             & BMXARMC \\\\\n",
       "\t Arm length                    & BMXARML \\\\\n",
       "\t Blood osmolality              & LBXSOSSI\\\\\n",
       "\t Blood relatives have diabetes & MCQ250A \\\\\n",
       "\t Blood urea nitrogen           & LBDSBUSI\\\\\n",
       "\t BMI                           & BMXBMI  \\\\\n",
       "\t Caffeine intake               & DRXTCAFF\\\\\n",
       "\t Caffeine intake, First Day    & DR1TCAFF\\\\\n",
       "\t Caffeine intake, Second Day   & DR2TCAFF\\\\\n",
       "\t Calcium intake, First Day     & DR1TCALC\\\\\n",
       "\\end{tabular}\n"
      ],
      "text/markdown": [
       "\n",
       "A tibble: 15 × 2\n",
       "\n",
       "| Variable Name &lt;chr&gt; | NHANES Name &lt;chr&gt; |\n",
       "|---|---|\n",
       "| Age                           | RIDAGEYR |\n",
       "| Alcohol consumption           | ALQ130   |\n",
       "| Alcohol intake                | DRXTALCO |\n",
       "| Alcohol intake, First Day     | DR1TALCO |\n",
       "| Alcohol intake, Second Day    | DR2TALCO |\n",
       "| Arm circumference             | BMXARMC  |\n",
       "| Arm length                    | BMXARML  |\n",
       "| Blood osmolality              | LBXSOSSI |\n",
       "| Blood relatives have diabetes | MCQ250A  |\n",
       "| Blood urea nitrogen           | LBDSBUSI |\n",
       "| BMI                           | BMXBMI   |\n",
       "| Caffeine intake               | DRXTCAFF |\n",
       "| Caffeine intake, First Day    | DR1TCAFF |\n",
       "| Caffeine intake, Second Day   | DR2TCAFF |\n",
       "| Calcium intake, First Day     | DR1TCALC |\n",
       "\n"
      ],
      "text/plain": [
       "   Variable Name                 NHANES Name\n",
       "1  Age                           RIDAGEYR   \n",
       "2  Alcohol consumption           ALQ130     \n",
       "3  Alcohol intake                DRXTALCO   \n",
       "4  Alcohol intake, First Day     DR1TALCO   \n",
       "5  Alcohol intake, Second Day    DR2TALCO   \n",
       "6  Arm circumference             BMXARMC    \n",
       "7  Arm length                    BMXARML    \n",
       "8  Blood osmolality              LBXSOSSI   \n",
       "9  Blood relatives have diabetes MCQ250A    \n",
       "10 Blood urea nitrogen           LBDSBUSI   \n",
       "11 BMI                           BMXBMI     \n",
       "12 Caffeine intake               DRXTCAFF   \n",
       "13 Caffeine intake, First Day    DR1TCAFF   \n",
       "14 Caffeine intake, Second Day   DR2TCAFF   \n",
       "15 Calcium intake, First Day     DR1TCALC   "
      ]
     },
     "metadata": {},
     "output_type": "display_data"
    }
   ],
   "source": [
    "dinh_2019_vars <- read_excel(paste0(DINH_DOCS_PATH, \"dinh_2019_variables_doc.xlsx\"))\n",
    "\n",
    "head(dinh_2019_vars[c(\"Variable Name\", \"NHANES Name\")], n=15)\n"
   ]
  },
  {
   "cell_type": "markdown",
   "metadata": {},
   "source": [
    "For the complete list of variables, check the file `dinh_2019_variables_doc.xlsx` under NHANES data folder."
   ]
  },
  {
   "cell_type": "markdown",
   "metadata": {
    "vscode": {
     "languageId": "r"
    }
   },
   "source": [
    "NHANES data is made by multiple files (see `NHANES` unde data folder) that have to be compiled together. The data was downloaded automatically via script, all the files converted from SAS to parquet, and the files were stacked and merged based on the individual index (\"SEQN\"). For more details please check the `nhanes_data_backfill` notebook. \n",
    "\n",
    "Plese notice that no transformation are made to the covariates, the files were only arranged and stacked together. "
   ]
  },
  {
   "cell_type": "code",
   "execution_count": 53,
   "metadata": {
    "vscode": {
     "languageId": "r"
    }
   },
   "outputs": [],
   "source": [
    "df <- read_parquet(paste0(DATA_PATH, \"dinh_raw_data.parquet\"))"
   ]
  },
  {
   "cell_type": "code",
   "execution_count": 54,
   "metadata": {
    "vscode": {
     "languageId": "r"
    }
   },
   "outputs": [
    {
     "data": {
      "text/html": [
       "<table class=\"dataframe\">\n",
       "<caption>A tibble: 6 × 78</caption>\n",
       "<thead>\n",
       "\t<tr><th scope=col>SEQN</th><th scope=col>YEAR</th><th scope=col>RIDAGEYR</th><th scope=col>ALQ130</th><th scope=col>DRXTALCO</th><th scope=col>DR1TALCO</th><th scope=col>DR2TALCO</th><th scope=col>BMXARMC</th><th scope=col>BMXARML</th><th scope=col>LBXSOSSI</th><th scope=col>⋯</th><th scope=col>SEQ060</th><th scope=col>DIQ010</th><th scope=col>MCQ160B</th><th scope=col>MCQ160b</th><th scope=col>MCQ160C</th><th scope=col>MCQ160c</th><th scope=col>MCQ160E</th><th scope=col>MCQ160e</th><th scope=col>MCQ160F</th><th scope=col>MCQ160f</th></tr>\n",
       "\t<tr><th scope=col>&lt;dbl&gt;</th><th scope=col>&lt;chr&gt;</th><th scope=col>&lt;dbl&gt;</th><th scope=col>&lt;dbl&gt;</th><th scope=col>&lt;dbl&gt;</th><th scope=col>&lt;dbl&gt;</th><th scope=col>&lt;dbl&gt;</th><th scope=col>&lt;dbl&gt;</th><th scope=col>&lt;dbl&gt;</th><th scope=col>&lt;dbl&gt;</th><th scope=col>⋯</th><th scope=col>&lt;dbl&gt;</th><th scope=col>&lt;dbl&gt;</th><th scope=col>&lt;dbl&gt;</th><th scope=col>&lt;dbl&gt;</th><th scope=col>&lt;dbl&gt;</th><th scope=col>&lt;dbl&gt;</th><th scope=col>&lt;dbl&gt;</th><th scope=col>&lt;dbl&gt;</th><th scope=col>&lt;dbl&gt;</th><th scope=col>&lt;dbl&gt;</th></tr>\n",
       "</thead>\n",
       "<tbody>\n",
       "\t<tr><td>1</td><td>1999-2000</td><td> 2</td><td>NA</td><td> 0.00</td><td>NA</td><td>NA</td><td>15.2</td><td>18.6</td><td> NA</td><td>⋯</td><td>NA</td><td>2</td><td>NA</td><td>NA</td><td>NA</td><td>NA</td><td>NA</td><td>NA</td><td>NA</td><td>NA</td></tr>\n",
       "\t<tr><td>2</td><td>1999-2000</td><td>77</td><td> 1</td><td> 0.00</td><td>NA</td><td>NA</td><td>29.8</td><td>38.2</td><td>288</td><td>⋯</td><td>NA</td><td>2</td><td> 2</td><td>NA</td><td> 2</td><td>NA</td><td> 2</td><td>NA</td><td> 2</td><td>NA</td></tr>\n",
       "\t<tr><td>3</td><td>1999-2000</td><td>10</td><td>NA</td><td> 0.00</td><td>NA</td><td>NA</td><td>19.7</td><td>25.5</td><td> NA</td><td>⋯</td><td>NA</td><td>2</td><td>NA</td><td>NA</td><td>NA</td><td>NA</td><td>NA</td><td>NA</td><td>NA</td><td>NA</td></tr>\n",
       "\t<tr><td>4</td><td>1999-2000</td><td> 1</td><td>NA</td><td> 0.00</td><td>NA</td><td>NA</td><td>16.4</td><td>20.4</td><td> NA</td><td>⋯</td><td>NA</td><td>2</td><td>NA</td><td>NA</td><td>NA</td><td>NA</td><td>NA</td><td>NA</td><td>NA</td><td>NA</td></tr>\n",
       "\t<tr><td>5</td><td>1999-2000</td><td>49</td><td> 3</td><td>34.56</td><td>NA</td><td>NA</td><td>35.8</td><td>39.7</td><td>276</td><td>⋯</td><td>NA</td><td>2</td><td> 2</td><td>NA</td><td> 2</td><td>NA</td><td> 2</td><td>NA</td><td> 2</td><td>NA</td></tr>\n",
       "\t<tr><td>6</td><td>1999-2000</td><td>19</td><td>NA</td><td> 0.00</td><td>NA</td><td>NA</td><td>26.0</td><td>34.5</td><td>277</td><td>⋯</td><td> 2</td><td>2</td><td>NA</td><td>NA</td><td>NA</td><td>NA</td><td>NA</td><td>NA</td><td>NA</td><td>NA</td></tr>\n",
       "</tbody>\n",
       "</table>\n"
      ],
      "text/latex": [
       "A tibble: 6 × 78\n",
       "\\begin{tabular}{lllllllllllllllllllll}\n",
       " SEQN & YEAR & RIDAGEYR & ALQ130 & DRXTALCO & DR1TALCO & DR2TALCO & BMXARMC & BMXARML & LBXSOSSI & ⋯ & SEQ060 & DIQ010 & MCQ160B & MCQ160b & MCQ160C & MCQ160c & MCQ160E & MCQ160e & MCQ160F & MCQ160f\\\\\n",
       " <dbl> & <chr> & <dbl> & <dbl> & <dbl> & <dbl> & <dbl> & <dbl> & <dbl> & <dbl> & ⋯ & <dbl> & <dbl> & <dbl> & <dbl> & <dbl> & <dbl> & <dbl> & <dbl> & <dbl> & <dbl>\\\\\n",
       "\\hline\n",
       "\t 1 & 1999-2000 &  2 & NA &  0.00 & NA & NA & 15.2 & 18.6 &  NA & ⋯ & NA & 2 & NA & NA & NA & NA & NA & NA & NA & NA\\\\\n",
       "\t 2 & 1999-2000 & 77 &  1 &  0.00 & NA & NA & 29.8 & 38.2 & 288 & ⋯ & NA & 2 &  2 & NA &  2 & NA &  2 & NA &  2 & NA\\\\\n",
       "\t 3 & 1999-2000 & 10 & NA &  0.00 & NA & NA & 19.7 & 25.5 &  NA & ⋯ & NA & 2 & NA & NA & NA & NA & NA & NA & NA & NA\\\\\n",
       "\t 4 & 1999-2000 &  1 & NA &  0.00 & NA & NA & 16.4 & 20.4 &  NA & ⋯ & NA & 2 & NA & NA & NA & NA & NA & NA & NA & NA\\\\\n",
       "\t 5 & 1999-2000 & 49 &  3 & 34.56 & NA & NA & 35.8 & 39.7 & 276 & ⋯ & NA & 2 &  2 & NA &  2 & NA &  2 & NA &  2 & NA\\\\\n",
       "\t 6 & 1999-2000 & 19 & NA &  0.00 & NA & NA & 26.0 & 34.5 & 277 & ⋯ &  2 & 2 & NA & NA & NA & NA & NA & NA & NA & NA\\\\\n",
       "\\end{tabular}\n"
      ],
      "text/markdown": [
       "\n",
       "A tibble: 6 × 78\n",
       "\n",
       "| SEQN &lt;dbl&gt; | YEAR &lt;chr&gt; | RIDAGEYR &lt;dbl&gt; | ALQ130 &lt;dbl&gt; | DRXTALCO &lt;dbl&gt; | DR1TALCO &lt;dbl&gt; | DR2TALCO &lt;dbl&gt; | BMXARMC &lt;dbl&gt; | BMXARML &lt;dbl&gt; | LBXSOSSI &lt;dbl&gt; | ⋯ ⋯ | SEQ060 &lt;dbl&gt; | DIQ010 &lt;dbl&gt; | MCQ160B &lt;dbl&gt; | MCQ160b &lt;dbl&gt; | MCQ160C &lt;dbl&gt; | MCQ160c &lt;dbl&gt; | MCQ160E &lt;dbl&gt; | MCQ160e &lt;dbl&gt; | MCQ160F &lt;dbl&gt; | MCQ160f &lt;dbl&gt; |\n",
       "|---|---|---|---|---|---|---|---|---|---|---|---|---|---|---|---|---|---|---|---|---|\n",
       "| 1 | 1999-2000 |  2 | NA |  0.00 | NA | NA | 15.2 | 18.6 |  NA | ⋯ | NA | 2 | NA | NA | NA | NA | NA | NA | NA | NA |\n",
       "| 2 | 1999-2000 | 77 |  1 |  0.00 | NA | NA | 29.8 | 38.2 | 288 | ⋯ | NA | 2 |  2 | NA |  2 | NA |  2 | NA |  2 | NA |\n",
       "| 3 | 1999-2000 | 10 | NA |  0.00 | NA | NA | 19.7 | 25.5 |  NA | ⋯ | NA | 2 | NA | NA | NA | NA | NA | NA | NA | NA |\n",
       "| 4 | 1999-2000 |  1 | NA |  0.00 | NA | NA | 16.4 | 20.4 |  NA | ⋯ | NA | 2 | NA | NA | NA | NA | NA | NA | NA | NA |\n",
       "| 5 | 1999-2000 | 49 |  3 | 34.56 | NA | NA | 35.8 | 39.7 | 276 | ⋯ | NA | 2 |  2 | NA |  2 | NA |  2 | NA |  2 | NA |\n",
       "| 6 | 1999-2000 | 19 | NA |  0.00 | NA | NA | 26.0 | 34.5 | 277 | ⋯ |  2 | 2 | NA | NA | NA | NA | NA | NA | NA | NA |\n",
       "\n"
      ],
      "text/plain": [
       "  SEQN YEAR      RIDAGEYR ALQ130 DRXTALCO DR1TALCO DR2TALCO BMXARMC BMXARML\n",
       "1 1    1999-2000  2       NA      0.00    NA       NA       15.2    18.6   \n",
       "2 2    1999-2000 77        1      0.00    NA       NA       29.8    38.2   \n",
       "3 3    1999-2000 10       NA      0.00    NA       NA       19.7    25.5   \n",
       "4 4    1999-2000  1       NA      0.00    NA       NA       16.4    20.4   \n",
       "5 5    1999-2000 49        3     34.56    NA       NA       35.8    39.7   \n",
       "6 6    1999-2000 19       NA      0.00    NA       NA       26.0    34.5   \n",
       "  LBXSOSSI ⋯ SEQ060 DIQ010 MCQ160B MCQ160b MCQ160C MCQ160c MCQ160E MCQ160e\n",
       "1  NA      ⋯ NA     2      NA      NA      NA      NA      NA      NA     \n",
       "2 288      ⋯ NA     2       2      NA       2      NA       2      NA     \n",
       "3  NA      ⋯ NA     2      NA      NA      NA      NA      NA      NA     \n",
       "4  NA      ⋯ NA     2      NA      NA      NA      NA      NA      NA     \n",
       "5 276      ⋯ NA     2       2      NA       2      NA       2      NA     \n",
       "6 277      ⋯  2     2      NA      NA      NA      NA      NA      NA     \n",
       "  MCQ160F MCQ160f\n",
       "1 NA      NA     \n",
       "2  2      NA     \n",
       "3 NA      NA     \n",
       "4 NA      NA     \n",
       "5  2      NA     \n",
       "6 NA      NA     "
      ]
     },
     "metadata": {},
     "output_type": "display_data"
    }
   ],
   "source": [
    "head(df)"
   ]
  },
  {
   "cell_type": "code",
   "execution_count": 55,
   "metadata": {
    "vscode": {
     "languageId": "r"
    }
   },
   "outputs": [
    {
     "data": {
      "text/html": [
       "82091"
      ],
      "text/latex": [
       "82091"
      ],
      "text/markdown": [
       "82091"
      ],
      "text/plain": [
       "[1] 82091"
      ]
     },
     "metadata": {},
     "output_type": "display_data"
    }
   ],
   "source": [
    "nrow(df)"
   ]
  },
  {
   "cell_type": "code",
   "execution_count": 56,
   "metadata": {
    "vscode": {
     "languageId": "r"
    }
   },
   "outputs": [
    {
     "data": {
      "text/html": [
       "<style>\n",
       ".list-inline {list-style: none; margin:0; padding: 0}\n",
       ".list-inline>li {display: inline-block}\n",
       ".list-inline>li:not(:last-child)::after {content: \"\\00b7\"; padding: 0 .5ex}\n",
       "</style>\n",
       "<ol class=list-inline><li>'SEQN'</li><li>'YEAR'</li><li>'RIDAGEYR'</li><li>'ALQ130'</li><li>'DRXTALCO'</li><li>'DR1TALCO'</li><li>'DR2TALCO'</li><li>'BMXARMC'</li><li>'BMXARML'</li><li>'LBXSOSSI'</li><li>'MCQ250A'</li><li>'LBDSBUSI'</li><li>'BMXBMI'</li><li>'DRXTCAFF'</li><li>'DR1TCAFF'</li><li>'DR2TCAFF'</li><li>'DR1TCALC'</li><li>'DR2TCALC'</li><li>'DRXTCALC'</li><li>'DR1TCARB'</li><li>'DR2TCARB'</li><li>'DRXTCARB'</li><li>'LBXSNASI'</li><li>'LBXSCLSI'</li><li>'MCQ300c'</li><li>'MCQ300C'</li><li>'BPXDI1'</li><li>'BPXDI4'</li><li>'BPXDI2'</li><li>'BPXDI3'</li><li>'RIDRETH1'</li><li>'DR1TFIBE'</li><li>'DR2TFIBE'</li><li>'DRXTFIBE'</li><li>'LBXSGTSI'</li><li>'HSD010'</li><li>'HUQ010'</li><li>'LBDHDLSI'</li><li>'LBDHDDSI'</li><li>'BMXHT'</li><li>'BPQ080'</li><li>'INDHHIN2'</li><li>'DRXTKCAL'</li><li>'DR1TKCAL'</li><li>'DR2TKCAL'</li><li>'LBDLDLSI'</li><li>'BMXLEG'</li><li>'LBDLYMNO'</li><li>'LBXMCVSI'</li><li>'BPXPLS'</li><li>'WHD140'</li><li>'DR1TSODI'</li><li>'DR2TSODI'</li><li>'DRDTSODI'</li><li>'BPXSY1'</li><li>'BPXSY4'</li><li>'BPXSY2'</li><li>'BPXSY3'</li><li>'LBDTCSI'</li><li>'LBDSTRSI'</li><li>'BMXWAIST'</li><li>'BMXWT'</li><li>'LBXWBCSI'</li><li>'LBXSASSI'</li><li>'LBXGLUSI'</li><li>'LBDGLUSI'</li><li>'RHQ141'</li><li>'RHD143'</li><li>'SEQ060'</li><li>'DIQ010'</li><li>'MCQ160B'</li><li>'MCQ160b'</li><li>'MCQ160C'</li><li>'MCQ160c'</li><li>'MCQ160E'</li><li>'MCQ160e'</li><li>'MCQ160F'</li><li>'MCQ160f'</li></ol>\n"
      ],
      "text/latex": [
       "\\begin{enumerate*}\n",
       "\\item 'SEQN'\n",
       "\\item 'YEAR'\n",
       "\\item 'RIDAGEYR'\n",
       "\\item 'ALQ130'\n",
       "\\item 'DRXTALCO'\n",
       "\\item 'DR1TALCO'\n",
       "\\item 'DR2TALCO'\n",
       "\\item 'BMXARMC'\n",
       "\\item 'BMXARML'\n",
       "\\item 'LBXSOSSI'\n",
       "\\item 'MCQ250A'\n",
       "\\item 'LBDSBUSI'\n",
       "\\item 'BMXBMI'\n",
       "\\item 'DRXTCAFF'\n",
       "\\item 'DR1TCAFF'\n",
       "\\item 'DR2TCAFF'\n",
       "\\item 'DR1TCALC'\n",
       "\\item 'DR2TCALC'\n",
       "\\item 'DRXTCALC'\n",
       "\\item 'DR1TCARB'\n",
       "\\item 'DR2TCARB'\n",
       "\\item 'DRXTCARB'\n",
       "\\item 'LBXSNASI'\n",
       "\\item 'LBXSCLSI'\n",
       "\\item 'MCQ300c'\n",
       "\\item 'MCQ300C'\n",
       "\\item 'BPXDI1'\n",
       "\\item 'BPXDI4'\n",
       "\\item 'BPXDI2'\n",
       "\\item 'BPXDI3'\n",
       "\\item 'RIDRETH1'\n",
       "\\item 'DR1TFIBE'\n",
       "\\item 'DR2TFIBE'\n",
       "\\item 'DRXTFIBE'\n",
       "\\item 'LBXSGTSI'\n",
       "\\item 'HSD010'\n",
       "\\item 'HUQ010'\n",
       "\\item 'LBDHDLSI'\n",
       "\\item 'LBDHDDSI'\n",
       "\\item 'BMXHT'\n",
       "\\item 'BPQ080'\n",
       "\\item 'INDHHIN2'\n",
       "\\item 'DRXTKCAL'\n",
       "\\item 'DR1TKCAL'\n",
       "\\item 'DR2TKCAL'\n",
       "\\item 'LBDLDLSI'\n",
       "\\item 'BMXLEG'\n",
       "\\item 'LBDLYMNO'\n",
       "\\item 'LBXMCVSI'\n",
       "\\item 'BPXPLS'\n",
       "\\item 'WHD140'\n",
       "\\item 'DR1TSODI'\n",
       "\\item 'DR2TSODI'\n",
       "\\item 'DRDTSODI'\n",
       "\\item 'BPXSY1'\n",
       "\\item 'BPXSY4'\n",
       "\\item 'BPXSY2'\n",
       "\\item 'BPXSY3'\n",
       "\\item 'LBDTCSI'\n",
       "\\item 'LBDSTRSI'\n",
       "\\item 'BMXWAIST'\n",
       "\\item 'BMXWT'\n",
       "\\item 'LBXWBCSI'\n",
       "\\item 'LBXSASSI'\n",
       "\\item 'LBXGLUSI'\n",
       "\\item 'LBDGLUSI'\n",
       "\\item 'RHQ141'\n",
       "\\item 'RHD143'\n",
       "\\item 'SEQ060'\n",
       "\\item 'DIQ010'\n",
       "\\item 'MCQ160B'\n",
       "\\item 'MCQ160b'\n",
       "\\item 'MCQ160C'\n",
       "\\item 'MCQ160c'\n",
       "\\item 'MCQ160E'\n",
       "\\item 'MCQ160e'\n",
       "\\item 'MCQ160F'\n",
       "\\item 'MCQ160f'\n",
       "\\end{enumerate*}\n"
      ],
      "text/markdown": [
       "1. 'SEQN'\n",
       "2. 'YEAR'\n",
       "3. 'RIDAGEYR'\n",
       "4. 'ALQ130'\n",
       "5. 'DRXTALCO'\n",
       "6. 'DR1TALCO'\n",
       "7. 'DR2TALCO'\n",
       "8. 'BMXARMC'\n",
       "9. 'BMXARML'\n",
       "10. 'LBXSOSSI'\n",
       "11. 'MCQ250A'\n",
       "12. 'LBDSBUSI'\n",
       "13. 'BMXBMI'\n",
       "14. 'DRXTCAFF'\n",
       "15. 'DR1TCAFF'\n",
       "16. 'DR2TCAFF'\n",
       "17. 'DR1TCALC'\n",
       "18. 'DR2TCALC'\n",
       "19. 'DRXTCALC'\n",
       "20. 'DR1TCARB'\n",
       "21. 'DR2TCARB'\n",
       "22. 'DRXTCARB'\n",
       "23. 'LBXSNASI'\n",
       "24. 'LBXSCLSI'\n",
       "25. 'MCQ300c'\n",
       "26. 'MCQ300C'\n",
       "27. 'BPXDI1'\n",
       "28. 'BPXDI4'\n",
       "29. 'BPXDI2'\n",
       "30. 'BPXDI3'\n",
       "31. 'RIDRETH1'\n",
       "32. 'DR1TFIBE'\n",
       "33. 'DR2TFIBE'\n",
       "34. 'DRXTFIBE'\n",
       "35. 'LBXSGTSI'\n",
       "36. 'HSD010'\n",
       "37. 'HUQ010'\n",
       "38. 'LBDHDLSI'\n",
       "39. 'LBDHDDSI'\n",
       "40. 'BMXHT'\n",
       "41. 'BPQ080'\n",
       "42. 'INDHHIN2'\n",
       "43. 'DRXTKCAL'\n",
       "44. 'DR1TKCAL'\n",
       "45. 'DR2TKCAL'\n",
       "46. 'LBDLDLSI'\n",
       "47. 'BMXLEG'\n",
       "48. 'LBDLYMNO'\n",
       "49. 'LBXMCVSI'\n",
       "50. 'BPXPLS'\n",
       "51. 'WHD140'\n",
       "52. 'DR1TSODI'\n",
       "53. 'DR2TSODI'\n",
       "54. 'DRDTSODI'\n",
       "55. 'BPXSY1'\n",
       "56. 'BPXSY4'\n",
       "57. 'BPXSY2'\n",
       "58. 'BPXSY3'\n",
       "59. 'LBDTCSI'\n",
       "60. 'LBDSTRSI'\n",
       "61. 'BMXWAIST'\n",
       "62. 'BMXWT'\n",
       "63. 'LBXWBCSI'\n",
       "64. 'LBXSASSI'\n",
       "65. 'LBXGLUSI'\n",
       "66. 'LBDGLUSI'\n",
       "67. 'RHQ141'\n",
       "68. 'RHD143'\n",
       "69. 'SEQ060'\n",
       "70. 'DIQ010'\n",
       "71. 'MCQ160B'\n",
       "72. 'MCQ160b'\n",
       "73. 'MCQ160C'\n",
       "74. 'MCQ160c'\n",
       "75. 'MCQ160E'\n",
       "76. 'MCQ160e'\n",
       "77. 'MCQ160F'\n",
       "78. 'MCQ160f'\n",
       "\n",
       "\n"
      ],
      "text/plain": [
       " [1] \"SEQN\"     \"YEAR\"     \"RIDAGEYR\" \"ALQ130\"   \"DRXTALCO\" \"DR1TALCO\"\n",
       " [7] \"DR2TALCO\" \"BMXARMC\"  \"BMXARML\"  \"LBXSOSSI\" \"MCQ250A\"  \"LBDSBUSI\"\n",
       "[13] \"BMXBMI\"   \"DRXTCAFF\" \"DR1TCAFF\" \"DR2TCAFF\" \"DR1TCALC\" \"DR2TCALC\"\n",
       "[19] \"DRXTCALC\" \"DR1TCARB\" \"DR2TCARB\" \"DRXTCARB\" \"LBXSNASI\" \"LBXSCLSI\"\n",
       "[25] \"MCQ300c\"  \"MCQ300C\"  \"BPXDI1\"   \"BPXDI4\"   \"BPXDI2\"   \"BPXDI3\"  \n",
       "[31] \"RIDRETH1\" \"DR1TFIBE\" \"DR2TFIBE\" \"DRXTFIBE\" \"LBXSGTSI\" \"HSD010\"  \n",
       "[37] \"HUQ010\"   \"LBDHDLSI\" \"LBDHDDSI\" \"BMXHT\"    \"BPQ080\"   \"INDHHIN2\"\n",
       "[43] \"DRXTKCAL\" \"DR1TKCAL\" \"DR2TKCAL\" \"LBDLDLSI\" \"BMXLEG\"   \"LBDLYMNO\"\n",
       "[49] \"LBXMCVSI\" \"BPXPLS\"   \"WHD140\"   \"DR1TSODI\" \"DR2TSODI\" \"DRDTSODI\"\n",
       "[55] \"BPXSY1\"   \"BPXSY4\"   \"BPXSY2\"   \"BPXSY3\"   \"LBDTCSI\"  \"LBDSTRSI\"\n",
       "[61] \"BMXWAIST\" \"BMXWT\"    \"LBXWBCSI\" \"LBXSASSI\" \"LBXGLUSI\" \"LBDGLUSI\"\n",
       "[67] \"RHQ141\"   \"RHD143\"   \"SEQ060\"   \"DIQ010\"   \"MCQ160B\"  \"MCQ160b\" \n",
       "[73] \"MCQ160C\"  \"MCQ160c\"  \"MCQ160E\"  \"MCQ160e\"  \"MCQ160F\"  \"MCQ160f\" "
      ]
     },
     "metadata": {},
     "output_type": "display_data"
    }
   ],
   "source": [
    "colnames(df)"
   ]
  },
  {
   "cell_type": "markdown",
   "metadata": {
    "vscode": {
     "languageId": "r"
    }
   },
   "source": [
    "## 2. Pre-processing and Data modeling"
   ]
  },
  {
   "cell_type": "markdown",
   "metadata": {
    "vscode": {
     "languageId": "r"
    }
   },
   "source": [
    "\n",
    "### 2.1 Extreme values and replacing Missing/Don't know answers\n",
    "\n",
    "> The preprocessing stage also converted any undecipherable values (errors in datatypes and standard formatting) from the database to null representations.\n",
    "\n",
    "For this, I've checked the variables according to their possible values in the NHANES documentation (https://wwwn.cdc.gov/nchs/nhanes/search/default.aspx). I did not found any any extreme value out of the possible ranges. However, the data is reviwed and updated after the survey, so it might be that the NCHS applied some fixes after they saw them. \n",
    "\n",
    "\n",
    "I have replaced \"Don't know\" and \"Refused\" for NA values and converted the intial encoding of the categorical variables to the real values in the survey - given that the encoding is not consistent accross years. For the model, I will encode the variables myself so I don't have to jungle NHANES encoding. \n",
    "\n",
    "All the variables can by found at  https://wwwn.cdc.gov/nchs/nhanes/search/default.aspx"
   ]
  },
  {
   "cell_type": "code",
   "execution_count": 57,
   "metadata": {
    "vscode": {
     "languageId": "r"
    }
   },
   "outputs": [],
   "source": [
    "# Refused or Don\"t know for NA\n",
    "df <- df |>\n",
    "  mutate(\n",
    "    ALQ130 = case_when(\n",
    "      ALQ130 == 77 ~ NA,\n",
    "      ALQ130 == 99 ~ NA, \n",
    "      ALQ130 == 777 ~ NA,\n",
    "      ALQ130 == 999 ~ NA,\n",
    "      TRUE ~ ALQ130\n",
    "    ),\n",
    "    WHD140 = case_when(\n",
    "      WHD140 == 7777 ~ NA,\n",
    "      WHD140 == 77777 ~ NA,\n",
    "      WHD140 == 9999 ~ NA,\n",
    "      WHD140 == 99999 ~ NA,\n",
    "      TRUE ~ WHD140\n",
    "    ),\n",
    "    DIQ010 = case_when(\n",
    "      DIQ010 == 1 ~ \"Yes\",\n",
    "      DIQ010 == 2 ~ \"No\",\n",
    "      DIQ010 == 3 ~ \"Borderline\",\n",
    "      DIQ010 == 7 ~ NA,\n",
    "      DIQ010 == 9 ~ NA,\n",
    "      TRUE ~ as.character(DIQ010)\n",
    "    ),\n",
    "    SEQ060 = case_when(\n",
    "      SEQ060 == 1 ~ \"Yes\",\n",
    "      SEQ060 == 2 ~ \"No\",\n",
    "      SEQ060 == 7 ~ NA,\n",
    "      SEQ060 == 9 ~ NA,\n",
    "      TRUE ~ as.character(SEQ060)\n",
    "    ),\n",
    "    RHQ141 = case_when(\n",
    "      RHQ141 == 1 ~ \"Yes\",\n",
    "      RHQ141 == 2 ~ \"No\",\n",
    "      RHQ141 == 7 ~ NA,\n",
    "      RHQ141 == 9 ~ NA,\n",
    "      TRUE ~ as.character(RHQ141)\n",
    "    ),\n",
    "    RHD143 = case_when(\n",
    "      RHD143 == 1 ~ \"Yes\",\n",
    "      RHD143 == 2 ~ \"No\",\n",
    "      RHD143 == 7 ~ NA,\n",
    "      RHD143 == 9 ~ NA,\n",
    "      TRUE ~ as.character(RHD143)\n",
    "    ),\n",
    "    MCQ250A = case_when(\n",
    "      MCQ250A == 1 ~ \"Yes\",\n",
    "      MCQ250A == 2 ~ \"No\",\n",
    "      MCQ250A == 7 ~ NA,\n",
    "      MCQ250A == 9 ~ NA,\n",
    "      TRUE ~ as.character(MCQ250A)\n",
    "    ),\n",
    "    MCQ300C = case_when(\n",
    "      MCQ300C == 1 ~ \"Yes\",\n",
    "      MCQ300C == 2 ~ \"No\",\n",
    "      MCQ300C == 7 ~ NA,\n",
    "      MCQ300C == 9 ~ NA,\n",
    "      TRUE ~ as.character(MCQ300C)\n",
    "    ),\n",
    "    MCQ300c = case_when(\n",
    "      MCQ300c == 1 ~ \"Yes\",\n",
    "      MCQ300c == 2 ~ \"No\",\n",
    "      MCQ300c == 7 ~ NA,\n",
    "      MCQ300c == 9 ~ NA,\n",
    "      TRUE ~ as.character(MCQ300c)\n",
    "    ),\n",
    "    MCQ160B = case_when(\n",
    "      MCQ160B == 1 ~ \"Yes\",\n",
    "      MCQ160B == 2 ~ \"No\",\n",
    "      MCQ160B == 7 ~ NA,\n",
    "      MCQ160B == 9 ~ NA,\n",
    "      TRUE ~ as.character(MCQ160B)\n",
    "    ),\n",
    "    MCQ160b = case_when(\n",
    "      MCQ160b == 1 ~ \"Yes\",\n",
    "      MCQ160b == 2 ~ \"No\",\n",
    "      MCQ160b == 7 ~ NA,\n",
    "      MCQ160b == 9 ~ NA,\n",
    "      TRUE ~ as.character(MCQ160b)\n",
    "    ),\n",
    "    MCQ160C = case_when(\n",
    "      MCQ160C == 1 ~ \"Yes\",\n",
    "      MCQ160C == 2 ~ \"No\",\n",
    "      MCQ160C == 7 ~ NA,\n",
    "      MCQ160C == 9 ~ NA,\n",
    "      TRUE ~ as.character(MCQ160C)\n",
    "    ),\n",
    "    MCQ160c = case_when(\n",
    "      MCQ160c == 1 ~ \"Yes\",\n",
    "      MCQ160c == 2 ~ \"No\",\n",
    "      MCQ160c == 7 ~ NA,\n",
    "      MCQ160c == 9 ~ NA,\n",
    "      TRUE ~ as.character(MCQ160c)\n",
    "    ),\n",
    "    MCQ160E = case_when(\n",
    "      MCQ160E == 1 ~ \"Yes\",\n",
    "      MCQ160E == 2 ~ \"No\",\n",
    "      MCQ160E == 7 ~ NA,\n",
    "      MCQ160E == 9 ~ NA,\n",
    "      TRUE ~ as.character(MCQ160E)\n",
    "    ),\n",
    "    MCQ160e = case_when(\n",
    "      MCQ160e == 1 ~ \"Yes\",\n",
    "      MCQ160e == 2 ~ \"No\",\n",
    "      MCQ160e == 7 ~ NA,\n",
    "      MCQ160e == 9 ~ NA,\n",
    "      TRUE ~ as.character(MCQ160e)\n",
    "    ),\n",
    "    MCQ160F = case_when(\n",
    "      MCQ160F == 1 ~ \"Yes\",\n",
    "      MCQ160F == 2 ~ \"No\",\n",
    "      MCQ160F == 7 ~ NA,\n",
    "      MCQ160F == 9 ~ NA,\n",
    "      TRUE ~ as.character(MCQ160F)\n",
    "    ),\n",
    "    MCQ160f = case_when(\n",
    "      MCQ160f == 1 ~ \"Yes\",\n",
    "      MCQ160f == 2 ~ \"No\",\n",
    "      MCQ160f == 7 ~ NA,\n",
    "      MCQ160f == 9 ~ NA,\n",
    "      TRUE ~ as.character(MCQ160f)\n",
    "    ),\n",
    "    BPQ080 = case_when(\n",
    "      BPQ080 == 1 ~ \"Yes\",\n",
    "      BPQ080 == 2 ~ \"No\",\n",
    "      BPQ080 == 7 ~ NA,\n",
    "      BPQ080 == 9 ~ NA,\n",
    "      TRUE ~ as.character(BPQ080)\n",
    "    ),\n",
    "    HUQ010 = case_when(\n",
    "      HUQ010 == 1 ~ \"Excellent\",\n",
    "      HUQ010 == 2 ~ \"Very Good\",\n",
    "      HUQ010 == 3 ~ \"Good\",\n",
    "      HUQ010 == 4 ~ \"Fair\",\n",
    "      HUQ010 == 5 ~ \"Poor\",\n",
    "      HUQ010 == 7 ~ NA,\n",
    "      HUQ010 == 9 ~ NA,\n",
    "      TRUE ~ as.character(HUQ010)\n",
    "    ),\n",
    "    HSD010 = case_when(\n",
    "      HSD010 == 1 ~ \"Excellent\",\n",
    "      HSD010 == 2 ~ \"Very Good\",\n",
    "      HSD010 == 3 ~ \"Good\",\n",
    "      HSD010 == 4 ~ \"Fair\",\n",
    "      HSD010 == 5 ~ \"Poor\",\n",
    "      HSD010 == 7 ~ NA,\n",
    "      HSD010 == 9 ~ NA,\n",
    "      TRUE ~ as.character(HSD010)\n",
    "    ),\n",
    "    INDHHIN2 = case_when(\n",
    "      INDHHIN2 == 1 ~\t\"$0 to $ 4,999\",\n",
    "      INDHHIN2 == 2 ~\t\"$5,000 to $ 9,999\",\n",
    "      INDHHIN2 == 3 ~\t\"$10,000 to $14,999\",\n",
    "      INDHHIN2 == 4 ~\t\"$15,000 to $19,999\",\n",
    "      INDHHIN2 == 5 ~\t\"$20,000 to $24,999\",\n",
    "      INDHHIN2 == 6 ~\t\"$25,000 to $34,999\",\n",
    "      INDHHIN2 == 7 ~\t\"$35,000 to $44,999\",\n",
    "      INDHHIN2 == 8 ~\t\"$45,000 to $54,999\",\n",
    "      INDHHIN2 == 9 ~\t\"$55,000 to $64,999\",\n",
    "      INDHHIN2 == 10 ~ \"$65,000 to $74,999\",\n",
    "      INDHHIN2 == 12 ~ \"Over $20,000\",\n",
    "      INDHHIN2 == 13 ~ \"Under $20,000\",\n",
    "      INDHHIN2 == 14 ~ \"$75,000 to $99,999\",\n",
    "      INDHHIN2 == 15 ~ \"$100,000 and Over\",\n",
    "      INDHHIN2 == 77 ~ NA,\n",
    "      INDHHIN2 == 99 ~ NA,\n",
    "      TRUE ~ as.character(INDHHIN2)\n",
    "    ),\n",
    "    RIDRETH1 = case_when(\n",
    "      RIDRETH1 == 1 ~ \"Mexican American\",\n",
    "      RIDRETH1 == 2 ~ \"Other Hispanic\",\n",
    "      RIDRETH1 == 3 ~ \"Non-Hispanic White\",\n",
    "      RIDRETH1 == 4 ~ \"Non-Hispanic Blac\",\n",
    "      RIDRETH1 == 5 ~ \"Other Race - Including Multi-Racial\",\n",
    "      TRUE ~ as.character(RIDRETH1)\n",
    "    ),\n",
    "\n",
    "  )"
   ]
  },
  {
   "cell_type": "markdown",
   "metadata": {},
   "source": [
    "\n",
    "### 2.2 Homogenize variables that are the same but are called diffrent in different NHANES years\n",
    "\n",
    "Intake variables went from 1 day in 1999 to 2001 to 2 days from 2003 on, therefore the variable has to be homogenized. Dinh et al. (2019) do not specify which examination records the authors, but my best guess is that they problably took the average of both days that the examination was performed. \n",
    "\n",
    "This situation happends with:\n",
    "\n",
    "- Alcohol intake (`DRXTALCO`, `DR1TALCO`, `DR2TALCO`)\n",
    "- Caffeine intake (`DRXTCAFF`, `DR1TCAFF`, `DR2TCAFF`)\n",
    "- Calcium intake (`DRXTCALC`, `DR1TCALC`, `DR2TCALC`)\n",
    "- Carbohydrate intake (`DRXTCARB`, `DR1TCARB`, `DR2TCARB`)\n",
    "- Fiber intake (`DRXTFIBE`, `DR1TFIBE`, `DR2TFIBE`)\n",
    "- Kcal intake (`DRXTKCAL`, `DR1TKCAL`, `DR2TKCAL`)\n",
    "- Sodium intake (`DRDTSODI`, `DR1TSODI`, `DR2TSODI`)\n",
    "\n",
    "\n",
    "Also, small changes in same quesion format are registered with different codes. Examples: \n",
    "\n",
    "- `MCQ250A`, `MCQ300C` and `MCQ300c`\n",
    "- `LBDHDDSI` and `LBDHDLSI`\n",
    "- `LBXGLUSI` and `LBDGLUSI`\n",
    "- `SEQ060`,`RHQ141`, and `RHD143`\n",
    "\n",
    "And same questions are coded differnetly as well:\n",
    "\n",
    "- `MCQ160B` and `MCQ160b`\n",
    "- `MCQ160C` and `MCQ160c`\n",
    "- `MCQ160E` and `MCQ160e`\n",
    "- `MCQ160F` and `MCQ160F`\n",
    "\n",
    "\n",
    "It can be seen here:"
   ]
  },
  {
   "cell_type": "code",
   "execution_count": 58,
   "metadata": {
    "vscode": {
     "languageId": "r"
    }
   },
   "outputs": [
    {
     "data": {
      "text/html": [
       "<table class=\"dataframe\">\n",
       "<caption>A tibble: 7 × 5</caption>\n",
       "<thead>\n",
       "\t<tr><th scope=col>Variable Name</th><th scope=col>NHANES Name</th><th scope=col>NHANES File</th><th scope=col>NHANES Type of data</th><th scope=col>Variable Definition</th></tr>\n",
       "\t<tr><th scope=col>&lt;chr&gt;</th><th scope=col>&lt;chr&gt;</th><th scope=col>&lt;chr&gt;</th><th scope=col>&lt;chr&gt;</th><th scope=col>&lt;chr&gt;</th></tr>\n",
       "</thead>\n",
       "<tbody>\n",
       "\t<tr><td>Blood relatives have diabetes</td><td>MCQ250A </td><td><span style=white-space:pre-wrap>MCQ              </span></td><td>Questionnaire</td><td>Including living and deceased, were any of {SP&amp;apos;s/ your} biological that is, blood relatives including grandparents, parents, brothers, sisters ever told by a health professional that they had . . .diabetes?</td></tr>\n",
       "\t<tr><td><span style=white-space:pre-wrap>Close relative had diabetes  </span></td><td>MCQ300c </td><td><span style=white-space:pre-wrap>MCQ              </span></td><td>Questionnaire</td><td><span style=white-space:pre-wrap>Including living and deceased, were any of {SP&amp;apos;s/your} close biological that is, blood relatives including father, mother, sisters or brothers, ever told by a health professional that they had diabetes?    </span></td></tr>\n",
       "\t<tr><td><span style=white-space:pre-wrap>Close relative had diabetes  </span></td><td>MCQ300C </td><td><span style=white-space:pre-wrap>MCQ              </span></td><td>Questionnaire</td><td><span style=white-space:pre-wrap>Including living and deceased, were any of {SP&amp;apos;s/your} close biological that is, blood relatives including father, mother, sisters or brothers, ever told by a health professional that they had diabetes?    </span></td></tr>\n",
       "\t<tr><td>HDL-cholesterol              </td><td>LBDHDLSI</td><td>Lab13, l13_b, HDL</td><td>Laboratory   </td><td>HDL-cholesterol (mmol/L)                                                                                                                                                                                           </td></tr>\n",
       "\t<tr><td>HDL-cholesterol              </td><td>LBDHDDSI</td><td>Lab13, l13_b, HDL</td><td>Laboratory   </td><td>HDL-cholesterol (mmol/L)                                                                                                                                                                                           </td></tr>\n",
       "\t<tr><td>Plasma Glucose               </td><td>LBXGLUSI</td><td>LAB10AM, L10AM_B </td><td>Laboratory   </td><td>Plasma glucose: SI(mmol/L)                                                                                                                                                                                         </td></tr>\n",
       "\t<tr><td>Plasma Glucose               </td><td>LBDGLUSI</td><td>GLU              </td><td>Laboratory   </td><td>Plasma glucose: SI(mmol/L)                                                                                                                                                                                         </td></tr>\n",
       "</tbody>\n",
       "</table>\n"
      ],
      "text/latex": [
       "A tibble: 7 × 5\n",
       "\\begin{tabular}{lllll}\n",
       " Variable Name & NHANES Name & NHANES File & NHANES Type of data & Variable Definition\\\\\n",
       " <chr> & <chr> & <chr> & <chr> & <chr>\\\\\n",
       "\\hline\n",
       "\t Blood relatives have diabetes & MCQ250A  & MCQ               & Questionnaire & Including living and deceased, were any of \\{SP\\&apos;s/ your\\} biological that is, blood relatives including grandparents, parents, brothers, sisters ever told by a health professional that they had . . .diabetes?\\\\\n",
       "\t Close relative had diabetes   & MCQ300c  & MCQ               & Questionnaire & Including living and deceased, were any of \\{SP\\&apos;s/your\\} close biological that is, blood relatives including father, mother, sisters or brothers, ever told by a health professional that they had diabetes?    \\\\\n",
       "\t Close relative had diabetes   & MCQ300C  & MCQ               & Questionnaire & Including living and deceased, were any of \\{SP\\&apos;s/your\\} close biological that is, blood relatives including father, mother, sisters or brothers, ever told by a health professional that they had diabetes?    \\\\\n",
       "\t HDL-cholesterol               & LBDHDLSI & Lab13, l13\\_b, HDL & Laboratory    & HDL-cholesterol (mmol/L)                                                                                                                                                                                           \\\\\n",
       "\t HDL-cholesterol               & LBDHDDSI & Lab13, l13\\_b, HDL & Laboratory    & HDL-cholesterol (mmol/L)                                                                                                                                                                                           \\\\\n",
       "\t Plasma Glucose                & LBXGLUSI & LAB10AM, L10AM\\_B  & Laboratory    & Plasma glucose: SI(mmol/L)                                                                                                                                                                                         \\\\\n",
       "\t Plasma Glucose                & LBDGLUSI & GLU               & Laboratory    & Plasma glucose: SI(mmol/L)                                                                                                                                                                                         \\\\\n",
       "\\end{tabular}\n"
      ],
      "text/markdown": [
       "\n",
       "A tibble: 7 × 5\n",
       "\n",
       "| Variable Name &lt;chr&gt; | NHANES Name &lt;chr&gt; | NHANES File &lt;chr&gt; | NHANES Type of data &lt;chr&gt; | Variable Definition &lt;chr&gt; |\n",
       "|---|---|---|---|---|\n",
       "| Blood relatives have diabetes | MCQ250A  | MCQ               | Questionnaire | Including living and deceased, were any of {SP&amp;apos;s/ your} biological that is, blood relatives including grandparents, parents, brothers, sisters ever told by a health professional that they had . . .diabetes? |\n",
       "| Close relative had diabetes   | MCQ300c  | MCQ               | Questionnaire | Including living and deceased, were any of {SP&amp;apos;s/your} close biological that is, blood relatives including father, mother, sisters or brothers, ever told by a health professional that they had diabetes?     |\n",
       "| Close relative had diabetes   | MCQ300C  | MCQ               | Questionnaire | Including living and deceased, were any of {SP&amp;apos;s/your} close biological that is, blood relatives including father, mother, sisters or brothers, ever told by a health professional that they had diabetes?     |\n",
       "| HDL-cholesterol               | LBDHDLSI | Lab13, l13_b, HDL | Laboratory    | HDL-cholesterol (mmol/L)                                                                                                                                                                                            |\n",
       "| HDL-cholesterol               | LBDHDDSI | Lab13, l13_b, HDL | Laboratory    | HDL-cholesterol (mmol/L)                                                                                                                                                                                            |\n",
       "| Plasma Glucose                | LBXGLUSI | LAB10AM, L10AM_B  | Laboratory    | Plasma glucose: SI(mmol/L)                                                                                                                                                                                          |\n",
       "| Plasma Glucose                | LBDGLUSI | GLU               | Laboratory    | Plasma glucose: SI(mmol/L)                                                                                                                                                                                          |\n",
       "\n"
      ],
      "text/plain": [
       "  Variable Name                 NHANES Name NHANES File      \n",
       "1 Blood relatives have diabetes MCQ250A     MCQ              \n",
       "2 Close relative had diabetes   MCQ300c     MCQ              \n",
       "3 Close relative had diabetes   MCQ300C     MCQ              \n",
       "4 HDL-cholesterol               LBDHDLSI    Lab13, l13_b, HDL\n",
       "5 HDL-cholesterol               LBDHDDSI    Lab13, l13_b, HDL\n",
       "6 Plasma Glucose                LBXGLUSI    LAB10AM, L10AM_B \n",
       "7 Plasma Glucose                LBDGLUSI    GLU              \n",
       "  NHANES Type of data\n",
       "1 Questionnaire      \n",
       "2 Questionnaire      \n",
       "3 Questionnaire      \n",
       "4 Laboratory         \n",
       "5 Laboratory         \n",
       "6 Laboratory         \n",
       "7 Laboratory         \n",
       "  Variable Definition                                                                                                                                                                                                \n",
       "1 Including living and deceased, were any of {SP&apos;s/ your} biological that is, blood relatives including grandparents, parents, brothers, sisters ever told by a health professional that they had . . .diabetes?\n",
       "2 Including living and deceased, were any of {SP&apos;s/your} close biological that is, blood relatives including father, mother, sisters or brothers, ever told by a health professional that they had diabetes?    \n",
       "3 Including living and deceased, were any of {SP&apos;s/your} close biological that is, blood relatives including father, mother, sisters or brothers, ever told by a health professional that they had diabetes?    \n",
       "4 HDL-cholesterol (mmol/L)                                                                                                                                                                                           \n",
       "5 HDL-cholesterol (mmol/L)                                                                                                                                                                                           \n",
       "6 Plasma glucose: SI(mmol/L)                                                                                                                                                                                         \n",
       "7 Plasma glucose: SI(mmol/L)                                                                                                                                                                                         "
      ]
     },
     "metadata": {},
     "output_type": "display_data"
    }
   ],
   "source": [
    "# Similar questions (or the same) with different NHANES variable codes\n",
    "var_docs <- read_excel(paste0(DINH_DOCS_PATH, \"dinh_2019_variables_doc.xlsx\"))\n",
    "var_docs |> \n",
    "  filter(`NHANES Name` %in% c('MCQ250A', 'MCQ300C', 'MCQ300c', 'LBDHDDSI', 'LBDHDLSI', 'LBXGLUSI', 'LBDGLUSI'))"
   ]
  },
  {
   "cell_type": "code",
   "execution_count": 59,
   "metadata": {
    "vscode": {
     "languageId": "r"
    }
   },
   "outputs": [
    {
     "data": {
      "text/html": [
       "<table class=\"dataframe\">\n",
       "<caption>A tibble: 11 × 5</caption>\n",
       "<thead>\n",
       "\t<tr><th scope=col>Variable Name</th><th scope=col>NHANES Name</th><th scope=col>NHANES File</th><th scope=col>NHANES Type of data</th><th scope=col>Variable Definition</th></tr>\n",
       "\t<tr><th scope=col>&lt;chr&gt;</th><th scope=col>&lt;chr&gt;</th><th scope=col>&lt;chr&gt;</th><th scope=col>&lt;chr&gt;</th><th scope=col>&lt;chr&gt;</th></tr>\n",
       "</thead>\n",
       "<tbody>\n",
       "\t<tr><td>Pregnant               </td><td>RHQ141 </td><td>RHQ</td><td>Questionnaire</td><td>{Do you/Does SP} think {you are/he/she is} pregnant now?                                                                                                                </td></tr>\n",
       "\t<tr><td>Pregnant               </td><td>RHD143 </td><td>RHQ</td><td>Questionnaire</td><td>{Are you/Is SP} pregnant now?                                                                                                                                           </td></tr>\n",
       "\t<tr><td>Pregnant               </td><td>SEQ060 </td><td>RHQ</td><td>Questionnaire</td><td>Are you currently pregnant?                                                                                                                                             </td></tr>\n",
       "\t<tr><td>Told CHF by a Doctor   </td><td>MCQ160B</td><td>MCQ</td><td>Questionnaire</td><td>Has a doctor or other health professional ever told {you/SP} that {you/s/he} . . .had congestive heart failure?                                                         </td></tr>\n",
       "\t<tr><td>Told CHF by a Doctor   </td><td>MCQ160b</td><td>MCQ</td><td>Questionnaire</td><td>Has a doctor or other health professional ever told {you/SP} that {you/s/he} . . .had congestive heart failure?                                                         </td></tr>\n",
       "\t<tr><td>Told CHD by a Doctor   </td><td>MCQ160C</td><td>MCQ</td><td>Questionnaire</td><td>Has a doctor or other health professional ever told {you/SP} that {you/s/he} . . .had coronary heart disease?                                                           </td></tr>\n",
       "\t<tr><td>Told CHD by a Doctor   </td><td>MCQ160c</td><td>MCQ</td><td>Questionnaire</td><td>Has a doctor or other health professional ever told {you/SP} that {you/s/he} . . .had coronary heart disease?                                                           </td></tr>\n",
       "\t<tr><td>Told HA by a Doctor    </td><td>MCQ160E</td><td>MCQ</td><td>Questionnaire</td><td>Has a doctor or other health professional ever told {you/SP} that {you/s/he} . . .had a heart attack (also called myocardial infarction (my-o-car-dee-al in-fark-shun))?</td></tr>\n",
       "\t<tr><td>Told HA by a Doctor    </td><td>MCQ160e</td><td>MCQ</td><td>Questionnaire</td><td>Has a doctor or other health professional ever told {you/SP} that {you/s/he} . . .had a heart attack (also called myocardial infarction (my-o-car-dee-al in-fark-shun))?</td></tr>\n",
       "\t<tr><td>Told stroke by a Doctor</td><td>MCQ160F</td><td>MCQ</td><td>Questionnaire</td><td>Has a doctor or other health professional ever told {you/SP} that {you/s/he} . . .had a stroke?                                                                         </td></tr>\n",
       "\t<tr><td>Told stroke by a Doctor</td><td>MCQ160f</td><td>MCQ</td><td>Questionnaire</td><td>Has a doctor or other health professional ever told {you/SP} that {you/s/he} . . .had a stroke?                                                                         </td></tr>\n",
       "</tbody>\n",
       "</table>\n"
      ],
      "text/latex": [
       "A tibble: 11 × 5\n",
       "\\begin{tabular}{lllll}\n",
       " Variable Name & NHANES Name & NHANES File & NHANES Type of data & Variable Definition\\\\\n",
       " <chr> & <chr> & <chr> & <chr> & <chr>\\\\\n",
       "\\hline\n",
       "\t Pregnant                & RHQ141  & RHQ & Questionnaire & \\{Do you/Does SP\\} think \\{you are/he/she is\\} pregnant now?                                                                                                                \\\\\n",
       "\t Pregnant                & RHD143  & RHQ & Questionnaire & \\{Are you/Is SP\\} pregnant now?                                                                                                                                           \\\\\n",
       "\t Pregnant                & SEQ060  & RHQ & Questionnaire & Are you currently pregnant?                                                                                                                                             \\\\\n",
       "\t Told CHF by a Doctor    & MCQ160B & MCQ & Questionnaire & Has a doctor or other health professional ever told \\{you/SP\\} that \\{you/s/he\\} . . .had congestive heart failure?                                                         \\\\\n",
       "\t Told CHF by a Doctor    & MCQ160b & MCQ & Questionnaire & Has a doctor or other health professional ever told \\{you/SP\\} that \\{you/s/he\\} . . .had congestive heart failure?                                                         \\\\\n",
       "\t Told CHD by a Doctor    & MCQ160C & MCQ & Questionnaire & Has a doctor or other health professional ever told \\{you/SP\\} that \\{you/s/he\\} . . .had coronary heart disease?                                                           \\\\\n",
       "\t Told CHD by a Doctor    & MCQ160c & MCQ & Questionnaire & Has a doctor or other health professional ever told \\{you/SP\\} that \\{you/s/he\\} . . .had coronary heart disease?                                                           \\\\\n",
       "\t Told HA by a Doctor     & MCQ160E & MCQ & Questionnaire & Has a doctor or other health professional ever told \\{you/SP\\} that \\{you/s/he\\} . . .had a heart attack (also called myocardial infarction (my-o-car-dee-al in-fark-shun))?\\\\\n",
       "\t Told HA by a Doctor     & MCQ160e & MCQ & Questionnaire & Has a doctor or other health professional ever told \\{you/SP\\} that \\{you/s/he\\} . . .had a heart attack (also called myocardial infarction (my-o-car-dee-al in-fark-shun))?\\\\\n",
       "\t Told stroke by a Doctor & MCQ160F & MCQ & Questionnaire & Has a doctor or other health professional ever told \\{you/SP\\} that \\{you/s/he\\} . . .had a stroke?                                                                         \\\\\n",
       "\t Told stroke by a Doctor & MCQ160f & MCQ & Questionnaire & Has a doctor or other health professional ever told \\{you/SP\\} that \\{you/s/he\\} . . .had a stroke?                                                                         \\\\\n",
       "\\end{tabular}\n"
      ],
      "text/markdown": [
       "\n",
       "A tibble: 11 × 5\n",
       "\n",
       "| Variable Name &lt;chr&gt; | NHANES Name &lt;chr&gt; | NHANES File &lt;chr&gt; | NHANES Type of data &lt;chr&gt; | Variable Definition &lt;chr&gt; |\n",
       "|---|---|---|---|---|\n",
       "| Pregnant                | RHQ141  | RHQ | Questionnaire | {Do you/Does SP} think {you are/he/she is} pregnant now?                                                                                                                 |\n",
       "| Pregnant                | RHD143  | RHQ | Questionnaire | {Are you/Is SP} pregnant now?                                                                                                                                            |\n",
       "| Pregnant                | SEQ060  | RHQ | Questionnaire | Are you currently pregnant?                                                                                                                                              |\n",
       "| Told CHF by a Doctor    | MCQ160B | MCQ | Questionnaire | Has a doctor or other health professional ever told {you/SP} that {you/s/he} . . .had congestive heart failure?                                                          |\n",
       "| Told CHF by a Doctor    | MCQ160b | MCQ | Questionnaire | Has a doctor or other health professional ever told {you/SP} that {you/s/he} . . .had congestive heart failure?                                                          |\n",
       "| Told CHD by a Doctor    | MCQ160C | MCQ | Questionnaire | Has a doctor or other health professional ever told {you/SP} that {you/s/he} . . .had coronary heart disease?                                                            |\n",
       "| Told CHD by a Doctor    | MCQ160c | MCQ | Questionnaire | Has a doctor or other health professional ever told {you/SP} that {you/s/he} . . .had coronary heart disease?                                                            |\n",
       "| Told HA by a Doctor     | MCQ160E | MCQ | Questionnaire | Has a doctor or other health professional ever told {you/SP} that {you/s/he} . . .had a heart attack (also called myocardial infarction (my-o-car-dee-al in-fark-shun))? |\n",
       "| Told HA by a Doctor     | MCQ160e | MCQ | Questionnaire | Has a doctor or other health professional ever told {you/SP} that {you/s/he} . . .had a heart attack (also called myocardial infarction (my-o-car-dee-al in-fark-shun))? |\n",
       "| Told stroke by a Doctor | MCQ160F | MCQ | Questionnaire | Has a doctor or other health professional ever told {you/SP} that {you/s/he} . . .had a stroke?                                                                          |\n",
       "| Told stroke by a Doctor | MCQ160f | MCQ | Questionnaire | Has a doctor or other health professional ever told {you/SP} that {you/s/he} . . .had a stroke?                                                                          |\n",
       "\n"
      ],
      "text/plain": [
       "   Variable Name           NHANES Name NHANES File NHANES Type of data\n",
       "1  Pregnant                RHQ141      RHQ         Questionnaire      \n",
       "2  Pregnant                RHD143      RHQ         Questionnaire      \n",
       "3  Pregnant                SEQ060      RHQ         Questionnaire      \n",
       "4  Told CHF by a Doctor    MCQ160B     MCQ         Questionnaire      \n",
       "5  Told CHF by a Doctor    MCQ160b     MCQ         Questionnaire      \n",
       "6  Told CHD by a Doctor    MCQ160C     MCQ         Questionnaire      \n",
       "7  Told CHD by a Doctor    MCQ160c     MCQ         Questionnaire      \n",
       "8  Told HA by a Doctor     MCQ160E     MCQ         Questionnaire      \n",
       "9  Told HA by a Doctor     MCQ160e     MCQ         Questionnaire      \n",
       "10 Told stroke by a Doctor MCQ160F     MCQ         Questionnaire      \n",
       "11 Told stroke by a Doctor MCQ160f     MCQ         Questionnaire      \n",
       "   Variable Definition                                                                                                                                                     \n",
       "1  {Do you/Does SP} think {you are/he/she is} pregnant now?                                                                                                                \n",
       "2  {Are you/Is SP} pregnant now?                                                                                                                                           \n",
       "3  Are you currently pregnant?                                                                                                                                             \n",
       "4  Has a doctor or other health professional ever told {you/SP} that {you/s/he} . . .had congestive heart failure?                                                         \n",
       "5  Has a doctor or other health professional ever told {you/SP} that {you/s/he} . . .had congestive heart failure?                                                         \n",
       "6  Has a doctor or other health professional ever told {you/SP} that {you/s/he} . . .had coronary heart disease?                                                           \n",
       "7  Has a doctor or other health professional ever told {you/SP} that {you/s/he} . . .had coronary heart disease?                                                           \n",
       "8  Has a doctor or other health professional ever told {you/SP} that {you/s/he} . . .had a heart attack (also called myocardial infarction (my-o-car-dee-al in-fark-shun))?\n",
       "9  Has a doctor or other health professional ever told {you/SP} that {you/s/he} . . .had a heart attack (also called myocardial infarction (my-o-car-dee-al in-fark-shun))?\n",
       "10 Has a doctor or other health professional ever told {you/SP} that {you/s/he} . . .had a stroke?                                                                         \n",
       "11 Has a doctor or other health professional ever told {you/SP} that {you/s/he} . . .had a stroke?                                                                         "
      ]
     },
     "metadata": {},
     "output_type": "display_data"
    }
   ],
   "source": [
    "var_docs |> \n",
    "  filter(`NHANES Name` %in% c('MCQ160b', 'MCQ160B', 'MCQ160c', 'MCQ160C', 'MCQ160F', 'MCQ160f', 'MCQ160E', 'MCQ160e', 'SEQ060','RHQ141','RHD143'))"
   ]
  },
  {
   "cell_type": "code",
   "execution_count": 60,
   "metadata": {
    "vscode": {
     "languageId": "r"
    }
   },
   "outputs": [],
   "source": [
    "# unique(df$YEAR[!is.na(df$MCQ250A)])\n",
    "# unique(df$YEAR[!is.na(df$MCQ300C)])"
   ]
  },
  {
   "cell_type": "markdown",
   "metadata": {},
   "source": [
    "To fix that, I will create a function that creates an average of the Intake variable of Day 1 and Day and average them, givin only one variable - for example \"Alcohol_Intake\" instead of having 'DRXTALCO', 'DR1TALCO', 'DR2TALCO'."
   ]
  },
  {
   "cell_type": "code",
   "execution_count": 61,
   "metadata": {
    "vscode": {
     "languageId": "r"
    }
   },
   "outputs": [],
   "source": [
    "create_intake_new_column <- function(df, day0_col, day1_col, day2_col) {\n",
    "    ifelse(is.na(df[[day0_col]]), \n",
    "           rowMeans(df[, c(day1_col, day2_col)], na.rm = TRUE), \n",
    "           df[[day0_col]])\n",
    "}\n",
    "\n",
    "df <- df |>\n",
    "# Create new columns\n",
    "  mutate(\n",
    "    # Alcohol intake\n",
    "    Alcohol_Intake = create_intake_new_column(df,'DRXTALCO', 'DR1TALCO', 'DR2TALCO'),\n",
    "    # Caffeine intake\n",
    "    Caffeine_Intake = create_intake_new_column(df,'DRXTCAFF', 'DR1TCAFF', 'DR2TCAFF'),\n",
    "    # Calcium intake\n",
    "    Calcium_Intake = create_intake_new_column(df,'DRXTCALC', 'DR1TCALC', 'DR2TCALC'),\n",
    "    # Carbohydrate intake\n",
    "    Carbohydrate_Intake = create_intake_new_column(df,'DRXTCARB', 'DR1TCARB', 'DR2TCARB'),\n",
    "    # Fiber intake\n",
    "    Fiber_Intake = create_intake_new_column(df,'DRXTFIBE', 'DR1TFIBE', 'DR2TFIBE'),\n",
    "    # Kcal intake\n",
    "    Kcal_Intake = create_intake_new_column(df,'DRXTKCAL', 'DR1TKCAL', 'DR2TKCAL'),\n",
    "    # Sodium intake\n",
    "    Sodium_Intake = create_intake_new_column(df,'DRDTSODI', 'DR1TSODI', 'DR2TSODI'),\n",
    "    # Relative_Had_Diabetes\n",
    "    Relative_Had_Diabetes = coalesce(MCQ250A, MCQ300C, MCQ300c),\n",
    "    # Heart conditions\n",
    "    Told_CHF = coalesce(MCQ160B, MCQ160b),\n",
    "    Told_CHD = coalesce(MCQ160C, MCQ160c),\n",
    "    Told_HA = coalesce(MCQ160E, MCQ160e),\n",
    "    Told_stroke = coalesce(MCQ160F, MCQ160f),\n",
    "    # Pregnancy\n",
    "    Pregnant = coalesce(SEQ060,RHQ141,RHD143),\n",
    "    # HDL-cholesterol\n",
    "    HDL_Cholesterol = coalesce(LBDHDLSI, LBDHDDSI),\n",
    "    # Glucose\n",
    "    Glucose = coalesce(LBXGLUSI, LBDGLUSI)\n",
    "   ) |>\n",
    "# Delete old columns that are not needed\n",
    "  select(-c(DRXTALCO, DR1TALCO, DR2TALCO, DRXTCAFF, DR1TCAFF, DR2TCAFF,\n",
    "            DRXTCALC, DR1TCALC, DR2TCALC, DRXTCARB, DR1TCARB, DR2TCARB,\n",
    "            DRXTFIBE, DR1TFIBE, DR2TFIBE, DRXTKCAL, DR1TKCAL, DR2TKCAL,\n",
    "            DRDTSODI, DR1TSODI, DR2TSODI, MCQ250A, MCQ300C, MCQ300c,\n",
    "            MCQ160B, MCQ160b, MCQ160C, MCQ160c, MCQ160E, MCQ160e,\n",
    "            MCQ160F, MCQ160f, SEQ060, RHQ141, RHD143,\n",
    "            LBDHDLSI, LBDHDDSI, LBXGLUSI, LBDGLUSI,)\n",
    "            )"
   ]
  },
  {
   "cell_type": "code",
   "execution_count": 62,
   "metadata": {
    "vscode": {
     "languageId": "r"
    }
   },
   "outputs": [],
   "source": [
    "#unique(df$YEAR[!is.na(df$Relative_Had_Diabetes)])"
   ]
  },
  {
   "cell_type": "markdown",
   "metadata": {},
   "source": [
    "### 2.3 Choosing between different readings in Blood analysis \n",
    "\n",
    "[From NHANES](https://wwwn.cdc.gov/Nchs/Nhanes/2013-2014/BPX_H.htm): \n",
    "\n",
    "> After resting quietly in a seated position for 5 minutes and once the participants maximum inflation level (MIL) has been determined, three consecutive blood pressure readings are obtained. If a blood pressure measurement is interrupted or incomplete, a fourth attempt may be made. All BP determinations (systolic and diastolic) are taken in the mobile examination center (MEC). \n",
    "\n",
    "In Dinh et al. (2019) the authors do not say which readings are taking, but I'm assuming they take the last one to avoid the [white coat syndrom](https://www.ncbi.nlm.nih.gov/pmc/articles/PMC5352963/) and for data consistency."
   ]
  },
  {
   "cell_type": "code",
   "execution_count": 63,
   "metadata": {
    "vscode": {
     "languageId": "r"
    }
   },
   "outputs": [],
   "source": [
    "df <- df |>\n",
    "# Create new columns\n",
    "  mutate(\n",
    "    Diastolic_Blood_Pressure = coalesce(BPXDI4, BPXDI3, BPXDI2, BPXDI1),\n",
    "    Systolic_Blood_Pressure = coalesce(BPXSY4, BPXSY3, BPXSY2, BPXSY1),\n",
    "  ) |>\n",
    "# Delete old columns that are not needed\n",
    "  select(-c(BPXDI4, BPXDI3, BPXDI2, BPXDI1,\n",
    "            BPXSY4, BPXSY3, BPXSY2, BPXSY1)\n",
    "  )"
   ]
  },
  {
   "cell_type": "markdown",
   "metadata": {},
   "source": [
    "### 2.4 Discretional trimming of the data according to the authors\n",
    "\n",
    "> In our study, all datasets were limited to non-pregnant subjects and adults of at least twenty years of age."
   ]
  },
  {
   "cell_type": "code",
   "execution_count": 64,
   "metadata": {
    "vscode": {
     "languageId": "r"
    }
   },
   "outputs": [],
   "source": [
    "df <- df |> \n",
    "  filter(is.na(Pregnant) | Pregnant != \"Yes\") |> \n",
    "  filter(RIDAGEYR >= 20)  |> \n",
    "  select(-c(Pregnant))"
   ]
  },
  {
   "cell_type": "code",
   "execution_count": 65,
   "metadata": {
    "vscode": {
     "languageId": "r"
    }
   },
   "outputs": [
    {
     "data": {
      "text/html": [
       "42655"
      ],
      "text/latex": [
       "42655"
      ],
      "text/markdown": [
       "42655"
      ],
      "text/plain": [
       "[1] 42655"
      ]
     },
     "metadata": {},
     "output_type": "display_data"
    }
   ],
   "source": [
    "nrow(df)"
   ]
  },
  {
   "cell_type": "markdown",
   "metadata": {
    "vscode": {
     "languageId": "r"
    }
   },
   "source": [
    "### 2.5 Creating the  Target Variables"
   ]
  },
  {
   "cell_type": "markdown",
   "metadata": {
    "vscode": {
     "languageId": "r"
    }
   },
   "source": [
    "Tables 1 & 3 from Dinh et al. 2019:\n",
    "\n",
    "From [Tables 1 & 3 from Dinh et al. 2019](https://raw.githubusercontent.com/pipegalera/ml_diabetes/main/images/dinh_2019_Table1_3.png):\n",
    "\n",
    "`Diabetes = 1` if\n",
    "\n",
    "- Glucose >= 126 mg/dL. OR;\n",
    "- \"Yes\" to the question \"Have you ever been told by a doctor that you have diabetes?\"\n",
    "\n",
    "`undiagnosed diabetes = 1` if\n",
    "\n",
    "- Glucose >= 126 mg/dL. AND;\n",
    "- \"No\" to the question \"Have you ever been told by a doctor that you have diabetes?\" and had a blood glucose level greater than or equal\n",
    "\n",
    "`pre diabetes = 1` if\n",
    "\n",
    "- Glucose 125 >= 100 mg/dL\n",
    "\n",
    "`CVD = 1` if\n",
    "\n",
    "- \"Yes\" to any of the the questions \"Have you ever been told by a doctor that you had congestive heart failure, coronary heart disease, a heart attack, or a stroke?\"\n",
    "\n"
   ]
  },
  {
   "cell_type": "code",
   "execution_count": 66,
   "metadata": {
    "vscode": {
     "languageId": "r"
    }
   },
   "outputs": [],
   "source": [
    "df <- df |>\n",
    "  mutate(\n",
    "    # Diabetic or not diabetic\n",
    "    Diabetes_Case_I = case_when(\n",
    "      (Glucose > 7.0 | DIQ010 == \"Yes\") ~ \"Yes\",\n",
    "      TRUE ~ \"No\"),\n",
    "    Diabetes_Case_II = case_when(\n",
    "      # Undiagnosed Diabetic \n",
    "      (Diabetes_Case_I == \"No\" & Glucose > 7.0 & DIQ010 == \"No\") ~ \"Yes\",\n",
    "      # Prediabetic\n",
    "      (Diabetes_Case_I == \"No\" & Glucose >= 5.6 & Glucose < 7.0) ~ \"Yes\",\n",
    "      TRUE ~  \"No\"),\n",
    "    # Cardiovascular Disease\n",
    "    CVD = case_when(\n",
    "      (Told_CHF == \"Yes\" | Told_CHD == \"Yes\" | Told_HA == \"Yes\" | Told_stroke == \"Yes\") ~ \"Yes\",\n",
    "      TRUE ~  \"No\")\n",
    "  )  |>\n",
    "  select(-c(Told_CHF, Told_CHD, Told_HA, Told_stroke, Glucose, DIQ010))"
   ]
  },
  {
   "cell_type": "markdown",
   "metadata": {
    "vscode": {
     "languageId": "r"
    }
   },
   "source": [
    "### 2.6 Column name formatting"
   ]
  },
  {
   "cell_type": "code",
   "execution_count": 67,
   "metadata": {
    "vscode": {
     "languageId": "r"
    }
   },
   "outputs": [],
   "source": [
    "df <- df |>\n",
    "  rename(\n",
    "    Alcohol_consumption = ALQ130,\n",
    "    Arm_circumference = BMXARMC,\n",
    "    Arm_length = BMXARML,\n",
    "    Body_mass_index = BMXBMI,\n",
    "    Height = BMXHT,\n",
    "    Leg_length = BMXLEG,\n",
    "    Waist_circumference = BMXWAIST,\n",
    "    Weight = BMXWT,\n",
    "    Told_High_Cholesterol = BPQ080,\n",
    "    Pulse = BPXPLS,\n",
    "    General_health = HSD010,\n",
    "    Health_status = HUQ010,\n",
    "    Household_income = INDHHIN2,\n",
    "    Chloride = LBXSCLSI,\n",
    "    Sodium = LBXSNASI,\n",
    "    LDL_cholesterol = LBDLDLSI,\n",
    "    Lymphocytes = LBDLYMNO,\n",
    "    Blood_urea_nitrogen = LBDSBUSI,\n",
    "    Triglycerides = LBDSTRSI,\n",
    "    Total_cholesterol = LBDTCSI,\n",
    "    Mean_cell_volume = LBXMCVSI,\n",
    "    Aspartate_aminotransferase_AST = LBXSASSI,\n",
    "    Gamma_glutamyl_transferase = LBXSGTSI,\n",
    "    Osmolality = LBXSOSSI,\n",
    "    White_blood_cell_count = LBXWBCSI,\n",
    "    Age = RIDAGEYR,\n",
    "    Race_ethnicity = RIDRETH1,\n",
    "    Self_reported_greatest_weight = WHD140,\n",
    "    Survey_year = YEAR,\n",
    "  )"
   ]
  },
  {
   "cell_type": "code",
   "execution_count": 68,
   "metadata": {
    "vscode": {
     "languageId": "r"
    }
   },
   "outputs": [
    {
     "data": {
      "text/html": [
       "<style>\n",
       ".list-inline {list-style: none; margin:0; padding: 0}\n",
       ".list-inline>li {display: inline-block}\n",
       ".list-inline>li:not(:last-child)::after {content: \"\\00b7\"; padding: 0 .5ex}\n",
       "</style>\n",
       "<ol class=list-inline><li>'SEQN'</li><li>'Survey_year'</li><li>'Age'</li><li>'Alcohol_consumption'</li><li>'Arm_circumference'</li><li>'Arm_length'</li><li>'Osmolality'</li><li>'Blood_urea_nitrogen'</li><li>'Body_mass_index'</li><li>'Sodium'</li><li>'Chloride'</li><li>'Race_ethnicity'</li><li>'Gamma_glutamyl_transferase'</li><li>'General_health'</li><li>'Health_status'</li><li>'Height'</li><li>'Told_High_Cholesterol'</li><li>'Household_income'</li><li>'LDL_cholesterol'</li><li>'Leg_length'</li><li>'Lymphocytes'</li><li>'Mean_cell_volume'</li><li>'Pulse'</li><li>'Self_reported_greatest_weight'</li><li>'Total_cholesterol'</li><li>'Triglycerides'</li><li>'Waist_circumference'</li><li>'Weight'</li><li>'White_blood_cell_count'</li><li>'Aspartate_aminotransferase_AST'</li><li>'Alcohol_Intake'</li><li>'Caffeine_Intake'</li><li>'Calcium_Intake'</li><li>'Carbohydrate_Intake'</li><li>'Fiber_Intake'</li><li>'Kcal_Intake'</li><li>'Sodium_Intake'</li><li>'Relative_Had_Diabetes'</li><li>'HDL_Cholesterol'</li><li>'Diastolic_Blood_Pressure'</li><li>'Systolic_Blood_Pressure'</li><li>'Diabetes_Case_I'</li><li>'Diabetes_Case_II'</li><li>'CVD'</li></ol>\n"
      ],
      "text/latex": [
       "\\begin{enumerate*}\n",
       "\\item 'SEQN'\n",
       "\\item 'Survey\\_year'\n",
       "\\item 'Age'\n",
       "\\item 'Alcohol\\_consumption'\n",
       "\\item 'Arm\\_circumference'\n",
       "\\item 'Arm\\_length'\n",
       "\\item 'Osmolality'\n",
       "\\item 'Blood\\_urea\\_nitrogen'\n",
       "\\item 'Body\\_mass\\_index'\n",
       "\\item 'Sodium'\n",
       "\\item 'Chloride'\n",
       "\\item 'Race\\_ethnicity'\n",
       "\\item 'Gamma\\_glutamyl\\_transferase'\n",
       "\\item 'General\\_health'\n",
       "\\item 'Health\\_status'\n",
       "\\item 'Height'\n",
       "\\item 'Told\\_High\\_Cholesterol'\n",
       "\\item 'Household\\_income'\n",
       "\\item 'LDL\\_cholesterol'\n",
       "\\item 'Leg\\_length'\n",
       "\\item 'Lymphocytes'\n",
       "\\item 'Mean\\_cell\\_volume'\n",
       "\\item 'Pulse'\n",
       "\\item 'Self\\_reported\\_greatest\\_weight'\n",
       "\\item 'Total\\_cholesterol'\n",
       "\\item 'Triglycerides'\n",
       "\\item 'Waist\\_circumference'\n",
       "\\item 'Weight'\n",
       "\\item 'White\\_blood\\_cell\\_count'\n",
       "\\item 'Aspartate\\_aminotransferase\\_AST'\n",
       "\\item 'Alcohol\\_Intake'\n",
       "\\item 'Caffeine\\_Intake'\n",
       "\\item 'Calcium\\_Intake'\n",
       "\\item 'Carbohydrate\\_Intake'\n",
       "\\item 'Fiber\\_Intake'\n",
       "\\item 'Kcal\\_Intake'\n",
       "\\item 'Sodium\\_Intake'\n",
       "\\item 'Relative\\_Had\\_Diabetes'\n",
       "\\item 'HDL\\_Cholesterol'\n",
       "\\item 'Diastolic\\_Blood\\_Pressure'\n",
       "\\item 'Systolic\\_Blood\\_Pressure'\n",
       "\\item 'Diabetes\\_Case\\_I'\n",
       "\\item 'Diabetes\\_Case\\_II'\n",
       "\\item 'CVD'\n",
       "\\end{enumerate*}\n"
      ],
      "text/markdown": [
       "1. 'SEQN'\n",
       "2. 'Survey_year'\n",
       "3. 'Age'\n",
       "4. 'Alcohol_consumption'\n",
       "5. 'Arm_circumference'\n",
       "6. 'Arm_length'\n",
       "7. 'Osmolality'\n",
       "8. 'Blood_urea_nitrogen'\n",
       "9. 'Body_mass_index'\n",
       "10. 'Sodium'\n",
       "11. 'Chloride'\n",
       "12. 'Race_ethnicity'\n",
       "13. 'Gamma_glutamyl_transferase'\n",
       "14. 'General_health'\n",
       "15. 'Health_status'\n",
       "16. 'Height'\n",
       "17. 'Told_High_Cholesterol'\n",
       "18. 'Household_income'\n",
       "19. 'LDL_cholesterol'\n",
       "20. 'Leg_length'\n",
       "21. 'Lymphocytes'\n",
       "22. 'Mean_cell_volume'\n",
       "23. 'Pulse'\n",
       "24. 'Self_reported_greatest_weight'\n",
       "25. 'Total_cholesterol'\n",
       "26. 'Triglycerides'\n",
       "27. 'Waist_circumference'\n",
       "28. 'Weight'\n",
       "29. 'White_blood_cell_count'\n",
       "30. 'Aspartate_aminotransferase_AST'\n",
       "31. 'Alcohol_Intake'\n",
       "32. 'Caffeine_Intake'\n",
       "33. 'Calcium_Intake'\n",
       "34. 'Carbohydrate_Intake'\n",
       "35. 'Fiber_Intake'\n",
       "36. 'Kcal_Intake'\n",
       "37. 'Sodium_Intake'\n",
       "38. 'Relative_Had_Diabetes'\n",
       "39. 'HDL_Cholesterol'\n",
       "40. 'Diastolic_Blood_Pressure'\n",
       "41. 'Systolic_Blood_Pressure'\n",
       "42. 'Diabetes_Case_I'\n",
       "43. 'Diabetes_Case_II'\n",
       "44. 'CVD'\n",
       "\n",
       "\n"
      ],
      "text/plain": [
       " [1] \"SEQN\"                           \"Survey_year\"                   \n",
       " [3] \"Age\"                            \"Alcohol_consumption\"           \n",
       " [5] \"Arm_circumference\"              \"Arm_length\"                    \n",
       " [7] \"Osmolality\"                     \"Blood_urea_nitrogen\"           \n",
       " [9] \"Body_mass_index\"                \"Sodium\"                        \n",
       "[11] \"Chloride\"                       \"Race_ethnicity\"                \n",
       "[13] \"Gamma_glutamyl_transferase\"     \"General_health\"                \n",
       "[15] \"Health_status\"                  \"Height\"                        \n",
       "[17] \"Told_High_Cholesterol\"          \"Household_income\"              \n",
       "[19] \"LDL_cholesterol\"                \"Leg_length\"                    \n",
       "[21] \"Lymphocytes\"                    \"Mean_cell_volume\"              \n",
       "[23] \"Pulse\"                          \"Self_reported_greatest_weight\" \n",
       "[25] \"Total_cholesterol\"              \"Triglycerides\"                 \n",
       "[27] \"Waist_circumference\"            \"Weight\"                        \n",
       "[29] \"White_blood_cell_count\"         \"Aspartate_aminotransferase_AST\"\n",
       "[31] \"Alcohol_Intake\"                 \"Caffeine_Intake\"               \n",
       "[33] \"Calcium_Intake\"                 \"Carbohydrate_Intake\"           \n",
       "[35] \"Fiber_Intake\"                   \"Kcal_Intake\"                   \n",
       "[37] \"Sodium_Intake\"                  \"Relative_Had_Diabetes\"         \n",
       "[39] \"HDL_Cholesterol\"                \"Diastolic_Blood_Pressure\"      \n",
       "[41] \"Systolic_Blood_Pressure\"        \"Diabetes_Case_I\"               \n",
       "[43] \"Diabetes_Case_II\"               \"CVD\"                           "
      ]
     },
     "metadata": {},
     "output_type": "display_data"
    }
   ],
   "source": [
    "colnames(df)"
   ]
  },
  {
   "cell_type": "markdown",
   "metadata": {
    "vscode": {
     "languageId": "r"
    }
   },
   "source": [
    "## 3. Model Development\n"
   ]
  },
  {
   "cell_type": "markdown",
   "metadata": {},
   "source": [
    "### 3.1 Train/Test split\n",
    "\n",
    "The paper do a 80/20 split to train the model, trying to keep the target class proportions of the NHANES population in train and test sets:\n",
    "\n",
    "> Downsampling was used to produce a balanced 80/20 train/test split.\n",
    "\n",
    "First, I created a split based on the interaction of all the targets to keep the balance of the target labels. Afterwards, I created a quick R function to check it:"
   ]
  },
  {
   "cell_type": "code",
   "execution_count": 69,
   "metadata": {
    "vscode": {
     "languageId": "r"
    }
   },
   "outputs": [],
   "source": [
    "set.seed(SEED)\n",
    "\n",
    "strata <- interaction(df$Diabetes_Case_I, df$Diabetes_Case_II, df$CVD)\n",
    "split <- createDataPartition(strata, p = 0.8, list = FALSE)\n",
    "\n",
    "train_data <- df[split, ]\n",
    "test_data <- df[-split, ]\n"
   ]
  },
  {
   "cell_type": "code",
   "execution_count": 70,
   "metadata": {
    "vscode": {
     "languageId": "r"
    }
   },
   "outputs": [
    {
     "data": {
      "text/html": [
       "'In df, percentage of cases of Diabetes_Case_I is 13.43%'"
      ],
      "text/latex": [
       "'In df, percentage of cases of Diabetes\\_Case\\_I is 13.43\\%'"
      ],
      "text/markdown": [
       "'In df, percentage of cases of Diabetes_Case_I is 13.43%'"
      ],
      "text/plain": [
       "In df, percentage of cases of Diabetes_Case_I is 13.43%"
      ]
     },
     "metadata": {},
     "output_type": "display_data"
    },
    {
     "data": {
      "text/html": [
       "'In train_data, percentage of cases of Diabetes_Case_I is 13.44%'"
      ],
      "text/latex": [
       "'In train\\_data, percentage of cases of Diabetes\\_Case\\_I is 13.44\\%'"
      ],
      "text/markdown": [
       "'In train_data, percentage of cases of Diabetes_Case_I is 13.44%'"
      ],
      "text/plain": [
       "In train_data, percentage of cases of Diabetes_Case_I is 13.44%"
      ]
     },
     "metadata": {},
     "output_type": "display_data"
    },
    {
     "data": {
      "text/html": [
       "'In test_data, percentage of cases of Diabetes_Case_I is 13.42%'"
      ],
      "text/latex": [
       "'In test\\_data, percentage of cases of Diabetes\\_Case\\_I is 13.42\\%'"
      ],
      "text/markdown": [
       "'In test_data, percentage of cases of Diabetes_Case_I is 13.42%'"
      ],
      "text/plain": [
       "In test_data, percentage of cases of Diabetes_Case_I is 13.42%"
      ]
     },
     "metadata": {},
     "output_type": "display_data"
    },
    {
     "data": {
      "text/html": [
       "'In df, percentage of cases of Diabetes_Case_II is 13.08%'"
      ],
      "text/latex": [
       "'In df, percentage of cases of Diabetes\\_Case\\_II is 13.08\\%'"
      ],
      "text/markdown": [
       "'In df, percentage of cases of Diabetes_Case_II is 13.08%'"
      ],
      "text/plain": [
       "In df, percentage of cases of Diabetes_Case_II is 13.08%"
      ]
     },
     "metadata": {},
     "output_type": "display_data"
    },
    {
     "data": {
      "text/html": [
       "'In train_data, percentage of cases of Diabetes_Case_II is 13.08%'"
      ],
      "text/latex": [
       "'In train\\_data, percentage of cases of Diabetes\\_Case\\_II is 13.08\\%'"
      ],
      "text/markdown": [
       "'In train_data, percentage of cases of Diabetes_Case_II is 13.08%'"
      ],
      "text/plain": [
       "In train_data, percentage of cases of Diabetes_Case_II is 13.08%"
      ]
     },
     "metadata": {},
     "output_type": "display_data"
    },
    {
     "data": {
      "text/html": [
       "'In test_data, percentage of cases of Diabetes_Case_II is 13.07%'"
      ],
      "text/latex": [
       "'In test\\_data, percentage of cases of Diabetes\\_Case\\_II is 13.07\\%'"
      ],
      "text/markdown": [
       "'In test_data, percentage of cases of Diabetes_Case_II is 13.07%'"
      ],
      "text/plain": [
       "In test_data, percentage of cases of Diabetes_Case_II is 13.07%"
      ]
     },
     "metadata": {},
     "output_type": "display_data"
    },
    {
     "data": {
      "text/html": [
       "'In df, percentage of cases of CVD is 10.84%'"
      ],
      "text/latex": [
       "'In df, percentage of cases of CVD is 10.84\\%'"
      ],
      "text/markdown": [
       "'In df, percentage of cases of CVD is 10.84%'"
      ],
      "text/plain": [
       "In df, percentage of cases of CVD is 10.84%"
      ]
     },
     "metadata": {},
     "output_type": "display_data"
    },
    {
     "data": {
      "text/html": [
       "'In train_data, percentage of cases of CVD is 10.85%'"
      ],
      "text/latex": [
       "'In train\\_data, percentage of cases of CVD is 10.85\\%'"
      ],
      "text/markdown": [
       "'In train_data, percentage of cases of CVD is 10.85%'"
      ],
      "text/plain": [
       "In train_data, percentage of cases of CVD is 10.85%"
      ]
     },
     "metadata": {},
     "output_type": "display_data"
    },
    {
     "data": {
      "text/html": [
       "'In test_data, percentage of cases of CVD is 10.83%'"
      ],
      "text/latex": [
       "'In test\\_data, percentage of cases of CVD is 10.83\\%'"
      ],
      "text/markdown": [
       "'In test_data, percentage of cases of CVD is 10.83%'"
      ],
      "text/plain": [
       "In test_data, percentage of cases of CVD is 10.83%"
      ]
     },
     "metadata": {},
     "output_type": "display_data"
    }
   ],
   "source": [
    "percent_target <- function(data, target) {\n",
    "    df_name <- deparse(substitute(data))\n",
    "    glue::glue(\"In {df_name}, percentage of cases of {target} is {round(sum(data[[target]]== 'Yes') / nrow(data) * 100, 2)}%\")\n",
    "}\n",
    "\n",
    "percent_target(df, \"Diabetes_Case_I\")\n",
    "percent_target(train_data, \"Diabetes_Case_I\")\n",
    "percent_target(test_data, \"Diabetes_Case_I\")\n",
    "\n",
    "percent_target(df, \"Diabetes_Case_II\")\n",
    "percent_target(train_data, \"Diabetes_Case_II\")\n",
    "percent_target(test_data, \"Diabetes_Case_II\")\n",
    "\n",
    "percent_target(df, \"CVD\")\n",
    "percent_target(train_data, \"CVD\")\n",
    "percent_target(test_data, \"CVD\")\n"
   ]
  },
  {
   "cell_type": "markdown",
   "metadata": {},
   "source": [
    "### 3.2 ML pipeline\n",
    "\n",
    "I will use `caret` random search cross-validation implementation, as it might be the closest library to `sklearn` in python. More [here](https://topepo.github.io/caret/random-hyperparameter-search.html).\n",
    "\n",
    "The models are not very intensive in terms of hypertuning (with the exception of XGBoost that I will probably set a time limit). \n",
    "\n",
    "The information about the hypertunning of the model in the paper is rather confusing:\n",
    "\n",
    "\n",
    "> For each model, a grid-search approach with parallelized performance evaluation for model parameter tuning was used to generate the best model parameters. Next, each of the models underwent a 10-fold cross-validation (10 folds of training and testing with randomized data-split)\n",
    "\n",
    "It doesn't make so much sense to do grid-search on the entire training set before a cross-validation. The reason is that you would basically train the data before the validation set that you are using to check if the model generalize well. And then the whole purpose of the cross-validation is to check model fit outside of the training set - it would lose all purpose. \n",
    "\n",
    "My best guess is that they used `GridSearchCV/RandomSearchCV` from sklearn and they assumed that the grid search go first. \n",
    "\n",
    "In the pipeline I also included encoding and standarization similar to the one done by the authors: \n",
    "\n",
    "> Normalization was performed on the data using the following standardization model: x' = x−x^/σ \n",
    "\n",
    "\n",
    "The ML pipelines will follow the these steps, imitatting the paper:\n",
    "\n",
    "1. Apply preprocessing (encoding and standarization) to the initial data. \n",
    "2. Split data into train (80%) and test (20%) sets.\n",
    "3. Train and tune the 4 standard models using 10-fold CV random grid search on the train set.\n",
    "4. Create the Weighted Ensemble Model (WEM) based on the 4 models and weighted by AUC scores.\n",
    "5. Evaluate the final model on the test set."
   ]
  },
  {
   "cell_type": "code",
   "execution_count": 71,
   "metadata": {
    "vscode": {
     "languageId": "r"
    }
   },
   "outputs": [],
   "source": [
    "# Categorical variables\n",
    "categorical_vars <- c(\n",
    "  'Race_ethnicity',\n",
    "  'General_health',\n",
    "  'Health_status',\n",
    "  'Told_High_Cholesterol',\n",
    "  'Household_income',\n",
    "  'Relative_Had_Diabetes'\n",
    ")\n",
    "\n",
    "# Numerical variables\n",
    "numerical_vars <- c(\n",
    "  'Age',\n",
    "  'Alcohol_consumption',\n",
    "  'Arm_circumference',\n",
    "  'Arm_length',\n",
    "  'Osmolality',\n",
    "  'Blood_urea_nitrogen',\n",
    "  'Body_mass_index',\n",
    "  'Chloride',\n",
    "  'Sodium',\n",
    "  'Gamma_glutamyl_transferase',\n",
    "  'Height',\n",
    "  'LDL_cholesterol',\n",
    "  'Leg_length',\n",
    "  'Lymphocytes',\n",
    "  'Mean_cell_volume',\n",
    "  'Pulse',\n",
    "  'Self_reported_greatest_weight',\n",
    "  'Total_cholesterol',\n",
    "  'Triglycerides',\n",
    "  'Waist_circumference',\n",
    "  'Weight',\n",
    "  'White_blood_cell_count',\n",
    "  'Aspartate_aminotransferase_AST',\n",
    "  'Alcohol_Intake',\n",
    "  'Caffeine_Intake',\n",
    "  'Calcium_Intake',\n",
    "  'Carbohydrate_Intake',\n",
    "  'Fiber_Intake',\n",
    "  'Kcal_Intake',\n",
    "  'Sodium_Intake',\n",
    "  'HDL_Cholesterol',\n",
    "  'Diastolic_Blood_Pressure',\n",
    "  'Systolic_Blood_Pressure'\n",
    ")"
   ]
  },
  {
   "cell_type": "code",
   "execution_count": 111,
   "metadata": {
    "vscode": {
     "languageId": "r"
    }
   },
   "outputs": [],
   "source": [
    "# Parallel computation to speed up modeling\n",
    "cl <- makePSOCKcluster(detectCores() - 1)\n",
    "registerDoParallel(cl)\n",
    "\n",
    "#target_vars <- c(\"Diabetes_Case_I\", \"Diabetes_Case_II\", \"CVD\")\n",
    "data <- train_data\n",
    "target <- \"Diabetes_Case_I\"\n",
    "\n",
    "# Create Target \n",
    "y <-  as.factor(data[[target]])\n",
    "\n",
    "# Standarization and encoding of categorical variables.\n",
    "X <- data |> select(all_of(c(numerical_vars, categorical_vars)))\n",
    "\n",
    "# Preprocessing\n",
    "rec <- recipe(~ ., data = X) |>\n",
    "  step_unknown(all_of(categorical_vars)) |> # assign a missing value in a factor level to \"unknown\".\n",
    "  step_mutate_at(all_of(categorical_vars), fn = as.factor) |>\n",
    "  step_integer(all_of(categorical_vars)) |>\n",
    "  step_normalize(all_of(numerical_vars)) |>\n",
    "  step_impute_mean(all_of(numerical_vars)) # Needed for lr and svm\n",
    "\n",
    "prep_rec <- prep(rec)\n",
    "X_processed <- bake(prep_rec, new_data = X)\n",
    "X_processed <- as.data.frame(X_processed)\n",
    "\n",
    "# 10F CV with Random Search\n",
    "control_cv <- trainControl(\n",
    "    method = \"cv\",\n",
    "    number = 10,\n",
    "    search = \"random\",\n",
    "    classProbs = TRUE,\n",
    "    summaryFunction = twoClassSummary,\n",
    "  )\n",
    "\n",
    "# Models \n",
    "set.seed(SEED)\n",
    "\n",
    "# Model 1 : Logistic Regression\n",
    "lr <- train(x = X_processed,\n",
    "            y = y,\n",
    "            method=\"glm\",\n",
    "            family=\"binomial\",\n",
    "            metric=\"ROC\",\n",
    "            trControl=control_cv\n",
    "                      )\n",
    "\n",
    "# Model 2: Support Vector Machine\n",
    "svm <- train(x = X_processed,\n",
    "            y = y,\n",
    "            method=\"svmRadialWeights\",\n",
    "            metric=\"ROC\",\n",
    "            trControl=control_cv,\n",
    "            tuneLength=10\n",
    "     )\n",
    "\n",
    "\n",
    "\n",
    "\n",
    "stopCluster(cl)\n"
   ]
  },
  {
   "cell_type": "code",
   "execution_count": null,
   "metadata": {},
   "outputs": [],
   "source": [
    "X_processed"
   ]
  },
  {
   "cell_type": "code",
   "execution_count": null,
   "metadata": {
    "vscode": {
     "languageId": "r"
    }
   },
   "outputs": [],
   "source": [
    "# Model 3: XGBoost \n",
    "\n",
    "tune_grid <- expand.grid(nrounds = 200,\n",
    "                        max_depth = 5,\n",
    "                        eta = 0.05,\n",
    "                        gamma = 0.01,\n",
    "                        colsample_bytree = 0.75,\n",
    "                        min_child_weight = 0,\n",
    "                        subsample = 0.5)\n",
    "\n",
    "xgb <- train(x = X_processed,\n",
    "            y = y,\n",
    "            method=\"svmRadial\",\n",
    "            metric=\"ROC\",\n",
    "            trControl=control_cv,\n",
    "            tuneGrid = tune_grid,\n",
    "            tuneLength = 10)\n",
    "            )\n"
   ]
  },
  {
   "cell_type": "markdown",
   "metadata": {
    "vscode": {
     "languageId": "r"
    }
   },
   "source": [
    "### 3.3 Predictive Models"
   ]
  },
  {
   "cell_type": "markdown",
   "metadata": {},
   "source": [
    "Models used in the paper:\n",
    "\n",
    "- Logistic Regression\n",
    "- Support Vector Machine\n",
    "- Random Forest\n",
    "- Gradient Boosted Trees\n",
    "- Ensemble model of the 5 models.  "
   ]
  },
  {
   "cell_type": "code",
   "execution_count": null,
   "metadata": {
    "vscode": {
     "languageId": "r"
    }
   },
   "outputs": [],
   "source": [
    "set.seed(SEED)\n",
    "\n",
    "# Model 1 : Logistic Regression\n",
    "lr <- train(x = X_train,\n",
    "            y = y_train,\n",
    "            method=\"glm\",\n",
    "            family=\"binomial\",\n",
    "            metric=\"AUC\",\n",
    "            trControl=control_cv,\n",
    "            tuneLength=1\n",
    "                      )\n",
    "\n"
   ]
  },
  {
   "cell_type": "markdown",
   "metadata": {},
   "source": [
    "## 4. Model Comparison"
   ]
  },
  {
   "cell_type": "code",
   "execution_count": null,
   "metadata": {
    "vscode": {
     "languageId": "r"
    }
   },
   "outputs": [],
   "source": [
    "model_auc <- function(model, X_data, y_data) {\n",
    "\n",
    "    # AUC \n",
    "    predictions <- predict(model, newdata = X_data, type = \"prob\")\n",
    "    roc_score <- roc(y_data, predictions[, \"Yes\"], quiet = TRUE)\n",
    "    auc_score <- round(auc(roc_score), 3)\n",
    "    # Message \n",
    "    data_name <- deparse(substitute(X_data))\n",
    "    glue(\"AUC score for Logistic Regression on {data_name}: {auc_score} \")\n",
    "\n",
    "}\n",
    "\n",
    "model_auc(lr, X_test, y_test)\n"
   ]
  },
  {
   "cell_type": "code",
   "execution_count": null,
   "metadata": {
    "vscode": {
     "languageId": "r"
    }
   },
   "outputs": [],
   "source": [
    "roc_score"
   ]
  },
  {
   "cell_type": "code",
   "execution_count": null,
   "metadata": {
    "vscode": {
     "languageId": "r"
    }
   },
   "outputs": [],
   "source": [
    "library(ggplot2)\n",
    "\n",
    "# Convert ROC object to data frame\n",
    "roc_data <- data.frame(\n",
    "  FPR = 1 - roc_obj$specificities,\n",
    "  TPR = roc_obj$sensitivities\n",
    ")\n",
    "\n",
    "ggplot(roc_data, aes(x = FPR, y = TPR)) +\n",
    "  geom_line(color = \"blue\", size = 1) +\n",
    "  geom_abline(intercept = 0, slope = 1, linetype = \"dashed\", color = \"red\") +\n",
    "  labs(title = \"ROC Curve\",\n",
    "       x = \"False Positive Rate\", \n",
    "       y = \"True Positive Rate\") +\n",
    "  annotate(\"text\", x = 0.75, y = 0.25, \n",
    "           label = paste(\"AUC =\", round(auc(roc_obj), 3))) +\n",
    "  theme_minimal()"
   ]
  },
  {
   "cell_type": "code",
   "execution_count": null,
   "metadata": {
    "vscode": {
     "languageId": "r"
    }
   },
   "outputs": [],
   "source": [
    "#jupyter nbconvert --to markdown R_replicate_Dinh.ipynb --output README.md"
   ]
  }
 ],
 "metadata": {
  "kernelspec": {
   "display_name": "R",
   "language": "R",
   "name": "ir"
  },
  "language_info": {
   "codemirror_mode": "r",
   "file_extension": ".r",
   "mimetype": "text/x-r-source",
   "name": "R",
   "pygments_lexer": "r",
   "version": "4.4.1"
  }
 },
 "nbformat": 4,
 "nbformat_minor": 4
}
