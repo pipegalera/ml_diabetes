{
 "cells": [
  {
   "cell_type": "code",
   "execution_count": 18,
   "id": "04b112ef-a857-4363-8a15-dfeefda680ec",
   "metadata": {},
   "outputs": [],
   "source": [
    "import pandas as pd\n",
    "from tqdm import tqdm\n",
    "import requests"
   ]
  },
  {
   "cell_type": "code",
   "execution_count": 39,
   "id": "6df5b34b-46c2-42c6-a87f-4cbc423104b0",
   "metadata": {},
   "outputs": [],
   "source": [
    "year_code_dict = {'1999-2000': '',\n",
    "                  '2001-2002': '_B',\n",
    "                  '2003-2004': '_C',\n",
    "                  '2005-2006': '_D',\n",
    "                  '2007-2008': '_E',\n",
    "                  '2009-2010': '_F',\n",
    "                  '2011-2012': '_G',\n",
    "                  '2013-2014': '_H',\n",
    "                  '2015-2016': '_I',\n",
    "                  '2017-2018': '_J',\n",
    "                  '2019-2020': '_K' \n",
    "                 }\n",
    "\n",
    "\n",
    "dict_test =  {'1999-2000': ''}"
   ]
  },
  {
   "cell_type": "code",
   "execution_count": 40,
   "id": "b4a1c6ea-2ed6-4968-8bde-caeb703d7df6",
   "metadata": {},
   "outputs": [
    {
     "name": "stderr",
     "output_type": "stream",
     "text": [
      "1999-2000: 100%|█| 2827840/2827840 [00:11<00:00, 239401.10it/s, save to ./data_t\n",
      "1999-2000: 100%|█| 2232640/2232640 [00:09<00:00, 232970.19it/s, save to ./data_t\n",
      "1999-2000: 100%|█| 11500560/11500560 [00:47<00:00, 240168.17it/s, save to ./data\n",
      "1999-2000: 100%|█| 27037/27037 [00:00<00:00, 175740.65it/s, save to ./data_test/\n",
      "1999-2000: 100%|█| 27037/27037 [00:00<00:00, 175823.21it/s, save to ./data_test/\n",
      "1999-2000: 100%|█| 27037/27037 [00:00<00:00, 167043.61it/s, save to ./data_test/\n",
      "1999-2000: 100%|█| 1294240/1294240 [00:05<00:00, 242324.37it/s, save to ./data_t\n"
     ]
    }
   ],
   "source": [
    "PATH = \"./data_test\"\n",
    "FILES = [\"BMX\", \"BPX\", \"DEMO\", \"GHB\", \"GLU\", \"TRIGLY\", \"DIQ\"]\n",
    "\n",
    "\"CDQ\"\n",
    "\n",
    "for file in FILES:\n",
    "    for key,value in dict_test.items():\n",
    "        url = f\"https://wwwn.cdc.gov/Nchs/Nhanes/{key}/{file}{value}.XPT\"\n",
    "        resp = requests.get(url, stream=True)\n",
    "        file_name = url.split('/')[-2] + '_' + url.split('/')[-1]\n",
    "        save_path = f\"{PATH}/{file_name}\"\n",
    "        with open(save_path, \"wb\") as f_out:\n",
    "            for data in tqdm(resp.iter_content(), desc=f\"{key}:{file}\", postfix=f\"saved in {save_path}\", total=int(resp.headers[\"Content-Length\"])):\n",
    "                f_out.write(data)"
   ]
  }
 ],
 "metadata": {
  "kernelspec": {
   "display_name": "Data Science kernel",
   "language": "python",
   "name": "ds"
  },
  "language_info": {
   "codemirror_mode": {
    "name": "ipython",
    "version": 3
   },
   "file_extension": ".py",
   "mimetype": "text/x-python",
   "name": "python",
   "nbconvert_exporter": "python",
   "pygments_lexer": "ipython3",
   "version": "3.9.16"
  }
 },
 "nbformat": 4,
 "nbformat_minor": 5
}
